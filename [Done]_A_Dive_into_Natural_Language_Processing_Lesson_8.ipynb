{
  "nbformat": 4,
  "nbformat_minor": 0,
  "metadata": {
    "colab": {
      "provenance": [],
      "collapsed_sections": [],
      "include_colab_link": true
    },
    "kernelspec": {
      "name": "python3",
      "display_name": "Python 3"
    },
    "language_info": {
      "name": "python"
    },
    "accelerator": "GPU",
    "widgets": {
      "application/vnd.jupyter.widget-state+json": {
        "407993c90ab04bbdb0fc9487ec882458": {
          "model_module": "@jupyter-widgets/controls",
          "model_name": "HBoxModel",
          "model_module_version": "1.5.0",
          "state": {
            "_view_name": "HBoxView",
            "_dom_classes": [],
            "_model_name": "HBoxModel",
            "_view_module": "@jupyter-widgets/controls",
            "_model_module_version": "1.5.0",
            "_view_count": null,
            "_view_module_version": "1.5.0",
            "box_style": "",
            "layout": "IPY_MODEL_cf9c0c19dc18433b87b12d8f006a3c0f",
            "_model_module": "@jupyter-widgets/controls",
            "children": [
              "IPY_MODEL_d2c5cd3617b0418db5aee906737f3a9d",
              "IPY_MODEL_abc72d4c944845988426ef41418f6d77",
              "IPY_MODEL_ee5cf7bd5ece4b4f9a33e5cf276b993b"
            ]
          }
        },
        "cf9c0c19dc18433b87b12d8f006a3c0f": {
          "model_module": "@jupyter-widgets/base",
          "model_name": "LayoutModel",
          "model_module_version": "1.2.0",
          "state": {
            "_view_name": "LayoutView",
            "grid_template_rows": null,
            "right": null,
            "justify_content": null,
            "_view_module": "@jupyter-widgets/base",
            "overflow": null,
            "_model_module_version": "1.2.0",
            "_view_count": null,
            "flex_flow": null,
            "width": null,
            "min_width": null,
            "border": null,
            "align_items": null,
            "bottom": null,
            "_model_module": "@jupyter-widgets/base",
            "top": null,
            "grid_column": null,
            "overflow_y": null,
            "overflow_x": null,
            "grid_auto_flow": null,
            "grid_area": null,
            "grid_template_columns": null,
            "flex": null,
            "_model_name": "LayoutModel",
            "justify_items": null,
            "grid_row": null,
            "max_height": null,
            "align_content": null,
            "visibility": null,
            "align_self": null,
            "height": null,
            "min_height": null,
            "padding": null,
            "grid_auto_rows": null,
            "grid_gap": null,
            "max_width": null,
            "order": null,
            "_view_module_version": "1.2.0",
            "grid_template_areas": null,
            "object_position": null,
            "object_fit": null,
            "grid_auto_columns": null,
            "margin": null,
            "display": null,
            "left": null
          }
        },
        "d2c5cd3617b0418db5aee906737f3a9d": {
          "model_module": "@jupyter-widgets/controls",
          "model_name": "HTMLModel",
          "model_module_version": "1.5.0",
          "state": {
            "_view_name": "HTMLView",
            "style": "IPY_MODEL_a1fe5adf25514a3a9d67e36a4143ce1f",
            "_dom_classes": [],
            "description": "",
            "_model_name": "HTMLModel",
            "placeholder": "​",
            "_view_module": "@jupyter-widgets/controls",
            "_model_module_version": "1.5.0",
            "value": "Downloading: 100%",
            "_view_count": null,
            "_view_module_version": "1.5.0",
            "description_tooltip": null,
            "_model_module": "@jupyter-widgets/controls",
            "layout": "IPY_MODEL_42388ef7a3f64bf880237539c03ac764"
          }
        },
        "abc72d4c944845988426ef41418f6d77": {
          "model_module": "@jupyter-widgets/controls",
          "model_name": "FloatProgressModel",
          "model_module_version": "1.5.0",
          "state": {
            "_view_name": "ProgressView",
            "style": "IPY_MODEL_5607c18c6974420082dcabe0469e36e2",
            "_dom_classes": [],
            "description": "",
            "_model_name": "FloatProgressModel",
            "bar_style": "success",
            "max": 376,
            "_view_module": "@jupyter-widgets/controls",
            "_model_module_version": "1.5.0",
            "value": 376,
            "_view_count": null,
            "_view_module_version": "1.5.0",
            "orientation": "horizontal",
            "min": 0,
            "description_tooltip": null,
            "_model_module": "@jupyter-widgets/controls",
            "layout": "IPY_MODEL_ff9df2e2d71f43a99f759330f5559ce0"
          }
        },
        "ee5cf7bd5ece4b4f9a33e5cf276b993b": {
          "model_module": "@jupyter-widgets/controls",
          "model_name": "HTMLModel",
          "model_module_version": "1.5.0",
          "state": {
            "_view_name": "HTMLView",
            "style": "IPY_MODEL_38df2ac54d174c819d9e1e130dec7527",
            "_dom_classes": [],
            "description": "",
            "_model_name": "HTMLModel",
            "placeholder": "​",
            "_view_module": "@jupyter-widgets/controls",
            "_model_module_version": "1.5.0",
            "value": " 376/376 [00:00&lt;00:00, 8.04kB/s]",
            "_view_count": null,
            "_view_module_version": "1.5.0",
            "description_tooltip": null,
            "_model_module": "@jupyter-widgets/controls",
            "layout": "IPY_MODEL_dffa2526caa148d89bc22dbff025f485"
          }
        },
        "a1fe5adf25514a3a9d67e36a4143ce1f": {
          "model_module": "@jupyter-widgets/controls",
          "model_name": "DescriptionStyleModel",
          "model_module_version": "1.5.0",
          "state": {
            "_view_name": "StyleView",
            "_model_name": "DescriptionStyleModel",
            "description_width": "",
            "_view_module": "@jupyter-widgets/base",
            "_model_module_version": "1.5.0",
            "_view_count": null,
            "_view_module_version": "1.2.0",
            "_model_module": "@jupyter-widgets/controls"
          }
        },
        "42388ef7a3f64bf880237539c03ac764": {
          "model_module": "@jupyter-widgets/base",
          "model_name": "LayoutModel",
          "model_module_version": "1.2.0",
          "state": {
            "_view_name": "LayoutView",
            "grid_template_rows": null,
            "right": null,
            "justify_content": null,
            "_view_module": "@jupyter-widgets/base",
            "overflow": null,
            "_model_module_version": "1.2.0",
            "_view_count": null,
            "flex_flow": null,
            "width": null,
            "min_width": null,
            "border": null,
            "align_items": null,
            "bottom": null,
            "_model_module": "@jupyter-widgets/base",
            "top": null,
            "grid_column": null,
            "overflow_y": null,
            "overflow_x": null,
            "grid_auto_flow": null,
            "grid_area": null,
            "grid_template_columns": null,
            "flex": null,
            "_model_name": "LayoutModel",
            "justify_items": null,
            "grid_row": null,
            "max_height": null,
            "align_content": null,
            "visibility": null,
            "align_self": null,
            "height": null,
            "min_height": null,
            "padding": null,
            "grid_auto_rows": null,
            "grid_gap": null,
            "max_width": null,
            "order": null,
            "_view_module_version": "1.2.0",
            "grid_template_areas": null,
            "object_position": null,
            "object_fit": null,
            "grid_auto_columns": null,
            "margin": null,
            "display": null,
            "left": null
          }
        },
        "5607c18c6974420082dcabe0469e36e2": {
          "model_module": "@jupyter-widgets/controls",
          "model_name": "ProgressStyleModel",
          "model_module_version": "1.5.0",
          "state": {
            "_view_name": "StyleView",
            "_model_name": "ProgressStyleModel",
            "description_width": "",
            "_view_module": "@jupyter-widgets/base",
            "_model_module_version": "1.5.0",
            "_view_count": null,
            "_view_module_version": "1.2.0",
            "bar_color": null,
            "_model_module": "@jupyter-widgets/controls"
          }
        },
        "ff9df2e2d71f43a99f759330f5559ce0": {
          "model_module": "@jupyter-widgets/base",
          "model_name": "LayoutModel",
          "model_module_version": "1.2.0",
          "state": {
            "_view_name": "LayoutView",
            "grid_template_rows": null,
            "right": null,
            "justify_content": null,
            "_view_module": "@jupyter-widgets/base",
            "overflow": null,
            "_model_module_version": "1.2.0",
            "_view_count": null,
            "flex_flow": null,
            "width": null,
            "min_width": null,
            "border": null,
            "align_items": null,
            "bottom": null,
            "_model_module": "@jupyter-widgets/base",
            "top": null,
            "grid_column": null,
            "overflow_y": null,
            "overflow_x": null,
            "grid_auto_flow": null,
            "grid_area": null,
            "grid_template_columns": null,
            "flex": null,
            "_model_name": "LayoutModel",
            "justify_items": null,
            "grid_row": null,
            "max_height": null,
            "align_content": null,
            "visibility": null,
            "align_self": null,
            "height": null,
            "min_height": null,
            "padding": null,
            "grid_auto_rows": null,
            "grid_gap": null,
            "max_width": null,
            "order": null,
            "_view_module_version": "1.2.0",
            "grid_template_areas": null,
            "object_position": null,
            "object_fit": null,
            "grid_auto_columns": null,
            "margin": null,
            "display": null,
            "left": null
          }
        },
        "38df2ac54d174c819d9e1e130dec7527": {
          "model_module": "@jupyter-widgets/controls",
          "model_name": "DescriptionStyleModel",
          "model_module_version": "1.5.0",
          "state": {
            "_view_name": "StyleView",
            "_model_name": "DescriptionStyleModel",
            "description_width": "",
            "_view_module": "@jupyter-widgets/base",
            "_model_module_version": "1.5.0",
            "_view_count": null,
            "_view_module_version": "1.2.0",
            "_model_module": "@jupyter-widgets/controls"
          }
        },
        "dffa2526caa148d89bc22dbff025f485": {
          "model_module": "@jupyter-widgets/base",
          "model_name": "LayoutModel",
          "model_module_version": "1.2.0",
          "state": {
            "_view_name": "LayoutView",
            "grid_template_rows": null,
            "right": null,
            "justify_content": null,
            "_view_module": "@jupyter-widgets/base",
            "overflow": null,
            "_model_module_version": "1.2.0",
            "_view_count": null,
            "flex_flow": null,
            "width": null,
            "min_width": null,
            "border": null,
            "align_items": null,
            "bottom": null,
            "_model_module": "@jupyter-widgets/base",
            "top": null,
            "grid_column": null,
            "overflow_y": null,
            "overflow_x": null,
            "grid_auto_flow": null,
            "grid_area": null,
            "grid_template_columns": null,
            "flex": null,
            "_model_name": "LayoutModel",
            "justify_items": null,
            "grid_row": null,
            "max_height": null,
            "align_content": null,
            "visibility": null,
            "align_self": null,
            "height": null,
            "min_height": null,
            "padding": null,
            "grid_auto_rows": null,
            "grid_gap": null,
            "max_width": null,
            "order": null,
            "_view_module_version": "1.2.0",
            "grid_template_areas": null,
            "object_position": null,
            "object_fit": null,
            "grid_auto_columns": null,
            "margin": null,
            "display": null,
            "left": null
          }
        },
        "f1cb345b3e1a429fae2725a700a1d819": {
          "model_module": "@jupyter-widgets/controls",
          "model_name": "HBoxModel",
          "model_module_version": "1.5.0",
          "state": {
            "_view_name": "HBoxView",
            "_dom_classes": [],
            "_model_name": "HBoxModel",
            "_view_module": "@jupyter-widgets/controls",
            "_model_module_version": "1.5.0",
            "_view_count": null,
            "_view_module_version": "1.5.0",
            "box_style": "",
            "layout": "IPY_MODEL_09c55ccf09d24923861154eb5e168d4e",
            "_model_module": "@jupyter-widgets/controls",
            "children": [
              "IPY_MODEL_1ad56f232d5d4aa38c1e64f0a80feb08",
              "IPY_MODEL_6199adc4f5734eba923e6434109f4bf0",
              "IPY_MODEL_7079df33f9f642c7bec0065b3b0fbab2"
            ]
          }
        },
        "09c55ccf09d24923861154eb5e168d4e": {
          "model_module": "@jupyter-widgets/base",
          "model_name": "LayoutModel",
          "model_module_version": "1.2.0",
          "state": {
            "_view_name": "LayoutView",
            "grid_template_rows": null,
            "right": null,
            "justify_content": null,
            "_view_module": "@jupyter-widgets/base",
            "overflow": null,
            "_model_module_version": "1.2.0",
            "_view_count": null,
            "flex_flow": null,
            "width": null,
            "min_width": null,
            "border": null,
            "align_items": null,
            "bottom": null,
            "_model_module": "@jupyter-widgets/base",
            "top": null,
            "grid_column": null,
            "overflow_y": null,
            "overflow_x": null,
            "grid_auto_flow": null,
            "grid_area": null,
            "grid_template_columns": null,
            "flex": null,
            "_model_name": "LayoutModel",
            "justify_items": null,
            "grid_row": null,
            "max_height": null,
            "align_content": null,
            "visibility": null,
            "align_self": null,
            "height": null,
            "min_height": null,
            "padding": null,
            "grid_auto_rows": null,
            "grid_gap": null,
            "max_width": null,
            "order": null,
            "_view_module_version": "1.2.0",
            "grid_template_areas": null,
            "object_position": null,
            "object_fit": null,
            "grid_auto_columns": null,
            "margin": null,
            "display": null,
            "left": null
          }
        },
        "1ad56f232d5d4aa38c1e64f0a80feb08": {
          "model_module": "@jupyter-widgets/controls",
          "model_name": "HTMLModel",
          "model_module_version": "1.5.0",
          "state": {
            "_view_name": "HTMLView",
            "style": "IPY_MODEL_c0edaaf7468a41718ff3029bd5b8fddf",
            "_dom_classes": [],
            "description": "",
            "_model_name": "HTMLModel",
            "placeholder": "​",
            "_view_module": "@jupyter-widgets/controls",
            "_model_module_version": "1.5.0",
            "value": "Downloading: 100%",
            "_view_count": null,
            "_view_module_version": "1.5.0",
            "description_tooltip": null,
            "_model_module": "@jupyter-widgets/controls",
            "layout": "IPY_MODEL_8e9666246a1248419ecf4eb5e7625111"
          }
        },
        "6199adc4f5734eba923e6434109f4bf0": {
          "model_module": "@jupyter-widgets/controls",
          "model_name": "FloatProgressModel",
          "model_module_version": "1.5.0",
          "state": {
            "_view_name": "ProgressView",
            "style": "IPY_MODEL_5368bc712ffa4bdfb51b0accb7e2e4ae",
            "_dom_classes": [],
            "description": "",
            "_model_name": "FloatProgressModel",
            "bar_style": "success",
            "max": 702,
            "_view_module": "@jupyter-widgets/controls",
            "_model_module_version": "1.5.0",
            "value": 702,
            "_view_count": null,
            "_view_module_version": "1.5.0",
            "orientation": "horizontal",
            "min": 0,
            "description_tooltip": null,
            "_model_module": "@jupyter-widgets/controls",
            "layout": "IPY_MODEL_8ce9afb8785b411abb0d038577dbaac4"
          }
        },
        "7079df33f9f642c7bec0065b3b0fbab2": {
          "model_module": "@jupyter-widgets/controls",
          "model_name": "HTMLModel",
          "model_module_version": "1.5.0",
          "state": {
            "_view_name": "HTMLView",
            "style": "IPY_MODEL_28b6ffb9aa244baea132022f2a020802",
            "_dom_classes": [],
            "description": "",
            "_model_name": "HTMLModel",
            "placeholder": "​",
            "_view_module": "@jupyter-widgets/controls",
            "_model_module_version": "1.5.0",
            "value": " 702/702 [00:00&lt;00:00, 13.1kB/s]",
            "_view_count": null,
            "_view_module_version": "1.5.0",
            "description_tooltip": null,
            "_model_module": "@jupyter-widgets/controls",
            "layout": "IPY_MODEL_8624b0b6db9140819c4bf7f67709916f"
          }
        },
        "c0edaaf7468a41718ff3029bd5b8fddf": {
          "model_module": "@jupyter-widgets/controls",
          "model_name": "DescriptionStyleModel",
          "model_module_version": "1.5.0",
          "state": {
            "_view_name": "StyleView",
            "_model_name": "DescriptionStyleModel",
            "description_width": "",
            "_view_module": "@jupyter-widgets/base",
            "_model_module_version": "1.5.0",
            "_view_count": null,
            "_view_module_version": "1.2.0",
            "_model_module": "@jupyter-widgets/controls"
          }
        },
        "8e9666246a1248419ecf4eb5e7625111": {
          "model_module": "@jupyter-widgets/base",
          "model_name": "LayoutModel",
          "model_module_version": "1.2.0",
          "state": {
            "_view_name": "LayoutView",
            "grid_template_rows": null,
            "right": null,
            "justify_content": null,
            "_view_module": "@jupyter-widgets/base",
            "overflow": null,
            "_model_module_version": "1.2.0",
            "_view_count": null,
            "flex_flow": null,
            "width": null,
            "min_width": null,
            "border": null,
            "align_items": null,
            "bottom": null,
            "_model_module": "@jupyter-widgets/base",
            "top": null,
            "grid_column": null,
            "overflow_y": null,
            "overflow_x": null,
            "grid_auto_flow": null,
            "grid_area": null,
            "grid_template_columns": null,
            "flex": null,
            "_model_name": "LayoutModel",
            "justify_items": null,
            "grid_row": null,
            "max_height": null,
            "align_content": null,
            "visibility": null,
            "align_self": null,
            "height": null,
            "min_height": null,
            "padding": null,
            "grid_auto_rows": null,
            "grid_gap": null,
            "max_width": null,
            "order": null,
            "_view_module_version": "1.2.0",
            "grid_template_areas": null,
            "object_position": null,
            "object_fit": null,
            "grid_auto_columns": null,
            "margin": null,
            "display": null,
            "left": null
          }
        },
        "5368bc712ffa4bdfb51b0accb7e2e4ae": {
          "model_module": "@jupyter-widgets/controls",
          "model_name": "ProgressStyleModel",
          "model_module_version": "1.5.0",
          "state": {
            "_view_name": "StyleView",
            "_model_name": "ProgressStyleModel",
            "description_width": "",
            "_view_module": "@jupyter-widgets/base",
            "_model_module_version": "1.5.0",
            "_view_count": null,
            "_view_module_version": "1.2.0",
            "bar_color": null,
            "_model_module": "@jupyter-widgets/controls"
          }
        },
        "8ce9afb8785b411abb0d038577dbaac4": {
          "model_module": "@jupyter-widgets/base",
          "model_name": "LayoutModel",
          "model_module_version": "1.2.0",
          "state": {
            "_view_name": "LayoutView",
            "grid_template_rows": null,
            "right": null,
            "justify_content": null,
            "_view_module": "@jupyter-widgets/base",
            "overflow": null,
            "_model_module_version": "1.2.0",
            "_view_count": null,
            "flex_flow": null,
            "width": null,
            "min_width": null,
            "border": null,
            "align_items": null,
            "bottom": null,
            "_model_module": "@jupyter-widgets/base",
            "top": null,
            "grid_column": null,
            "overflow_y": null,
            "overflow_x": null,
            "grid_auto_flow": null,
            "grid_area": null,
            "grid_template_columns": null,
            "flex": null,
            "_model_name": "LayoutModel",
            "justify_items": null,
            "grid_row": null,
            "max_height": null,
            "align_content": null,
            "visibility": null,
            "align_self": null,
            "height": null,
            "min_height": null,
            "padding": null,
            "grid_auto_rows": null,
            "grid_gap": null,
            "max_width": null,
            "order": null,
            "_view_module_version": "1.2.0",
            "grid_template_areas": null,
            "object_position": null,
            "object_fit": null,
            "grid_auto_columns": null,
            "margin": null,
            "display": null,
            "left": null
          }
        },
        "28b6ffb9aa244baea132022f2a020802": {
          "model_module": "@jupyter-widgets/controls",
          "model_name": "DescriptionStyleModel",
          "model_module_version": "1.5.0",
          "state": {
            "_view_name": "StyleView",
            "_model_name": "DescriptionStyleModel",
            "description_width": "",
            "_view_module": "@jupyter-widgets/base",
            "_model_module_version": "1.5.0",
            "_view_count": null,
            "_view_module_version": "1.2.0",
            "_model_module": "@jupyter-widgets/controls"
          }
        },
        "8624b0b6db9140819c4bf7f67709916f": {
          "model_module": "@jupyter-widgets/base",
          "model_name": "LayoutModel",
          "model_module_version": "1.2.0",
          "state": {
            "_view_name": "LayoutView",
            "grid_template_rows": null,
            "right": null,
            "justify_content": null,
            "_view_module": "@jupyter-widgets/base",
            "overflow": null,
            "_model_module_version": "1.2.0",
            "_view_count": null,
            "flex_flow": null,
            "width": null,
            "min_width": null,
            "border": null,
            "align_items": null,
            "bottom": null,
            "_model_module": "@jupyter-widgets/base",
            "top": null,
            "grid_column": null,
            "overflow_y": null,
            "overflow_x": null,
            "grid_auto_flow": null,
            "grid_area": null,
            "grid_template_columns": null,
            "flex": null,
            "_model_name": "LayoutModel",
            "justify_items": null,
            "grid_row": null,
            "max_height": null,
            "align_content": null,
            "visibility": null,
            "align_self": null,
            "height": null,
            "min_height": null,
            "padding": null,
            "grid_auto_rows": null,
            "grid_gap": null,
            "max_width": null,
            "order": null,
            "_view_module_version": "1.2.0",
            "grid_template_areas": null,
            "object_position": null,
            "object_fit": null,
            "grid_auto_columns": null,
            "margin": null,
            "display": null,
            "left": null
          }
        },
        "6548495604304fdda3f6380a956a5f17": {
          "model_module": "@jupyter-widgets/controls",
          "model_name": "HBoxModel",
          "model_module_version": "1.5.0",
          "state": {
            "_view_name": "HBoxView",
            "_dom_classes": [],
            "_model_name": "HBoxModel",
            "_view_module": "@jupyter-widgets/controls",
            "_model_module_version": "1.5.0",
            "_view_count": null,
            "_view_module_version": "1.5.0",
            "box_style": "",
            "layout": "IPY_MODEL_767de6cbaf504b1aa120fc8a30770d59",
            "_model_module": "@jupyter-widgets/controls",
            "children": [
              "IPY_MODEL_2587ced2ead5491ebb1d4382ec14b76d",
              "IPY_MODEL_eb54c0e5eeb14227b20f6fe7e265bd65",
              "IPY_MODEL_8558b8739f1942dfa8c89c68fb6a7d05"
            ]
          }
        },
        "767de6cbaf504b1aa120fc8a30770d59": {
          "model_module": "@jupyter-widgets/base",
          "model_name": "LayoutModel",
          "model_module_version": "1.2.0",
          "state": {
            "_view_name": "LayoutView",
            "grid_template_rows": null,
            "right": null,
            "justify_content": null,
            "_view_module": "@jupyter-widgets/base",
            "overflow": null,
            "_model_module_version": "1.2.0",
            "_view_count": null,
            "flex_flow": null,
            "width": null,
            "min_width": null,
            "border": null,
            "align_items": null,
            "bottom": null,
            "_model_module": "@jupyter-widgets/base",
            "top": null,
            "grid_column": null,
            "overflow_y": null,
            "overflow_x": null,
            "grid_auto_flow": null,
            "grid_area": null,
            "grid_template_columns": null,
            "flex": null,
            "_model_name": "LayoutModel",
            "justify_items": null,
            "grid_row": null,
            "max_height": null,
            "align_content": null,
            "visibility": null,
            "align_self": null,
            "height": null,
            "min_height": null,
            "padding": null,
            "grid_auto_rows": null,
            "grid_gap": null,
            "max_width": null,
            "order": null,
            "_view_module_version": "1.2.0",
            "grid_template_areas": null,
            "object_position": null,
            "object_fit": null,
            "grid_auto_columns": null,
            "margin": null,
            "display": null,
            "left": null
          }
        },
        "2587ced2ead5491ebb1d4382ec14b76d": {
          "model_module": "@jupyter-widgets/controls",
          "model_name": "HTMLModel",
          "model_module_version": "1.5.0",
          "state": {
            "_view_name": "HTMLView",
            "style": "IPY_MODEL_ed77c82bf35e44e08c6861fa1eb7d8a0",
            "_dom_classes": [],
            "description": "",
            "_model_name": "HTMLModel",
            "placeholder": "​",
            "_view_module": "@jupyter-widgets/controls",
            "_model_module_version": "1.5.0",
            "value": "Downloading: 100%",
            "_view_count": null,
            "_view_module_version": "1.5.0",
            "description_tooltip": null,
            "_model_module": "@jupyter-widgets/controls",
            "layout": "IPY_MODEL_87f6925caca54935b926ef6699fa920a"
          }
        },
        "eb54c0e5eeb14227b20f6fe7e265bd65": {
          "model_module": "@jupyter-widgets/controls",
          "model_name": "FloatProgressModel",
          "model_module_version": "1.5.0",
          "state": {
            "_view_name": "ProgressView",
            "style": "IPY_MODEL_517868e19b8340e5bbe5aaca5337eec7",
            "_dom_classes": [],
            "description": "",
            "_model_name": "FloatProgressModel",
            "bar_style": "success",
            "max": 4309802,
            "_view_module": "@jupyter-widgets/controls",
            "_model_module_version": "1.5.0",
            "value": 4309802,
            "_view_count": null,
            "_view_module_version": "1.5.0",
            "orientation": "horizontal",
            "min": 0,
            "description_tooltip": null,
            "_model_module": "@jupyter-widgets/controls",
            "layout": "IPY_MODEL_3f80b916bf1d46f4a1912de7fe56d626"
          }
        },
        "8558b8739f1942dfa8c89c68fb6a7d05": {
          "model_module": "@jupyter-widgets/controls",
          "model_name": "HTMLModel",
          "model_module_version": "1.5.0",
          "state": {
            "_view_name": "HTMLView",
            "style": "IPY_MODEL_3252608ec0154bd3896a63f49398073f",
            "_dom_classes": [],
            "description": "",
            "_model_name": "HTMLModel",
            "placeholder": "​",
            "_view_module": "@jupyter-widgets/controls",
            "_model_module_version": "1.5.0",
            "value": " 4.11M/4.11M [00:01&lt;00:00, 4.56MB/s]",
            "_view_count": null,
            "_view_module_version": "1.5.0",
            "description_tooltip": null,
            "_model_module": "@jupyter-widgets/controls",
            "layout": "IPY_MODEL_13d65c002c474f79b97f3c0b8844218c"
          }
        },
        "ed77c82bf35e44e08c6861fa1eb7d8a0": {
          "model_module": "@jupyter-widgets/controls",
          "model_name": "DescriptionStyleModel",
          "model_module_version": "1.5.0",
          "state": {
            "_view_name": "StyleView",
            "_model_name": "DescriptionStyleModel",
            "description_width": "",
            "_view_module": "@jupyter-widgets/base",
            "_model_module_version": "1.5.0",
            "_view_count": null,
            "_view_module_version": "1.2.0",
            "_model_module": "@jupyter-widgets/controls"
          }
        },
        "87f6925caca54935b926ef6699fa920a": {
          "model_module": "@jupyter-widgets/base",
          "model_name": "LayoutModel",
          "model_module_version": "1.2.0",
          "state": {
            "_view_name": "LayoutView",
            "grid_template_rows": null,
            "right": null,
            "justify_content": null,
            "_view_module": "@jupyter-widgets/base",
            "overflow": null,
            "_model_module_version": "1.2.0",
            "_view_count": null,
            "flex_flow": null,
            "width": null,
            "min_width": null,
            "border": null,
            "align_items": null,
            "bottom": null,
            "_model_module": "@jupyter-widgets/base",
            "top": null,
            "grid_column": null,
            "overflow_y": null,
            "overflow_x": null,
            "grid_auto_flow": null,
            "grid_area": null,
            "grid_template_columns": null,
            "flex": null,
            "_model_name": "LayoutModel",
            "justify_items": null,
            "grid_row": null,
            "max_height": null,
            "align_content": null,
            "visibility": null,
            "align_self": null,
            "height": null,
            "min_height": null,
            "padding": null,
            "grid_auto_rows": null,
            "grid_gap": null,
            "max_width": null,
            "order": null,
            "_view_module_version": "1.2.0",
            "grid_template_areas": null,
            "object_position": null,
            "object_fit": null,
            "grid_auto_columns": null,
            "margin": null,
            "display": null,
            "left": null
          }
        },
        "517868e19b8340e5bbe5aaca5337eec7": {
          "model_module": "@jupyter-widgets/controls",
          "model_name": "ProgressStyleModel",
          "model_module_version": "1.5.0",
          "state": {
            "_view_name": "StyleView",
            "_model_name": "ProgressStyleModel",
            "description_width": "",
            "_view_module": "@jupyter-widgets/base",
            "_model_module_version": "1.5.0",
            "_view_count": null,
            "_view_module_version": "1.2.0",
            "bar_color": null,
            "_model_module": "@jupyter-widgets/controls"
          }
        },
        "3f80b916bf1d46f4a1912de7fe56d626": {
          "model_module": "@jupyter-widgets/base",
          "model_name": "LayoutModel",
          "model_module_version": "1.2.0",
          "state": {
            "_view_name": "LayoutView",
            "grid_template_rows": null,
            "right": null,
            "justify_content": null,
            "_view_module": "@jupyter-widgets/base",
            "overflow": null,
            "_model_module_version": "1.2.0",
            "_view_count": null,
            "flex_flow": null,
            "width": null,
            "min_width": null,
            "border": null,
            "align_items": null,
            "bottom": null,
            "_model_module": "@jupyter-widgets/base",
            "top": null,
            "grid_column": null,
            "overflow_y": null,
            "overflow_x": null,
            "grid_auto_flow": null,
            "grid_area": null,
            "grid_template_columns": null,
            "flex": null,
            "_model_name": "LayoutModel",
            "justify_items": null,
            "grid_row": null,
            "max_height": null,
            "align_content": null,
            "visibility": null,
            "align_self": null,
            "height": null,
            "min_height": null,
            "padding": null,
            "grid_auto_rows": null,
            "grid_gap": null,
            "max_width": null,
            "order": null,
            "_view_module_version": "1.2.0",
            "grid_template_areas": null,
            "object_position": null,
            "object_fit": null,
            "grid_auto_columns": null,
            "margin": null,
            "display": null,
            "left": null
          }
        },
        "3252608ec0154bd3896a63f49398073f": {
          "model_module": "@jupyter-widgets/controls",
          "model_name": "DescriptionStyleModel",
          "model_module_version": "1.5.0",
          "state": {
            "_view_name": "StyleView",
            "_model_name": "DescriptionStyleModel",
            "description_width": "",
            "_view_module": "@jupyter-widgets/base",
            "_model_module_version": "1.5.0",
            "_view_count": null,
            "_view_module_version": "1.2.0",
            "_model_module": "@jupyter-widgets/controls"
          }
        },
        "13d65c002c474f79b97f3c0b8844218c": {
          "model_module": "@jupyter-widgets/base",
          "model_name": "LayoutModel",
          "model_module_version": "1.2.0",
          "state": {
            "_view_name": "LayoutView",
            "grid_template_rows": null,
            "right": null,
            "justify_content": null,
            "_view_module": "@jupyter-widgets/base",
            "overflow": null,
            "_model_module_version": "1.2.0",
            "_view_count": null,
            "flex_flow": null,
            "width": null,
            "min_width": null,
            "border": null,
            "align_items": null,
            "bottom": null,
            "_model_module": "@jupyter-widgets/base",
            "top": null,
            "grid_column": null,
            "overflow_y": null,
            "overflow_x": null,
            "grid_auto_flow": null,
            "grid_area": null,
            "grid_template_columns": null,
            "flex": null,
            "_model_name": "LayoutModel",
            "justify_items": null,
            "grid_row": null,
            "max_height": null,
            "align_content": null,
            "visibility": null,
            "align_self": null,
            "height": null,
            "min_height": null,
            "padding": null,
            "grid_auto_rows": null,
            "grid_gap": null,
            "max_width": null,
            "order": null,
            "_view_module_version": "1.2.0",
            "grid_template_areas": null,
            "object_position": null,
            "object_fit": null,
            "grid_auto_columns": null,
            "margin": null,
            "display": null,
            "left": null
          }
        },
        "8af6529c657c474783bc016e7fa9c0b0": {
          "model_module": "@jupyter-widgets/controls",
          "model_name": "HBoxModel",
          "model_module_version": "1.5.0",
          "state": {
            "_view_name": "HBoxView",
            "_dom_classes": [],
            "_model_name": "HBoxModel",
            "_view_module": "@jupyter-widgets/controls",
            "_model_module_version": "1.5.0",
            "_view_count": null,
            "_view_module_version": "1.5.0",
            "box_style": "",
            "layout": "IPY_MODEL_9b6eb23de7d241429b139b6044443edd",
            "_model_module": "@jupyter-widgets/controls",
            "children": [
              "IPY_MODEL_3bd959c05cb3474794410487417eb83d",
              "IPY_MODEL_419e62c402b4486e99a1fc590a66b0d0",
              "IPY_MODEL_7ba023c9f1114f1ea4bd26172fd8fabd"
            ]
          }
        },
        "9b6eb23de7d241429b139b6044443edd": {
          "model_module": "@jupyter-widgets/base",
          "model_name": "LayoutModel",
          "model_module_version": "1.2.0",
          "state": {
            "_view_name": "LayoutView",
            "grid_template_rows": null,
            "right": null,
            "justify_content": null,
            "_view_module": "@jupyter-widgets/base",
            "overflow": null,
            "_model_module_version": "1.2.0",
            "_view_count": null,
            "flex_flow": null,
            "width": null,
            "min_width": null,
            "border": null,
            "align_items": null,
            "bottom": null,
            "_model_module": "@jupyter-widgets/base",
            "top": null,
            "grid_column": null,
            "overflow_y": null,
            "overflow_x": null,
            "grid_auto_flow": null,
            "grid_area": null,
            "grid_template_columns": null,
            "flex": null,
            "_model_name": "LayoutModel",
            "justify_items": null,
            "grid_row": null,
            "max_height": null,
            "align_content": null,
            "visibility": null,
            "align_self": null,
            "height": null,
            "min_height": null,
            "padding": null,
            "grid_auto_rows": null,
            "grid_gap": null,
            "max_width": null,
            "order": null,
            "_view_module_version": "1.2.0",
            "grid_template_areas": null,
            "object_position": null,
            "object_fit": null,
            "grid_auto_columns": null,
            "margin": null,
            "display": null,
            "left": null
          }
        },
        "3bd959c05cb3474794410487417eb83d": {
          "model_module": "@jupyter-widgets/controls",
          "model_name": "HTMLModel",
          "model_module_version": "1.5.0",
          "state": {
            "_view_name": "HTMLView",
            "style": "IPY_MODEL_9ca6265337ae4e45b56952b7f986c517",
            "_dom_classes": [],
            "description": "",
            "_model_name": "HTMLModel",
            "placeholder": "​",
            "_view_module": "@jupyter-widgets/controls",
            "_model_module_version": "1.5.0",
            "value": "Downloading: 100%",
            "_view_count": null,
            "_view_module_version": "1.5.0",
            "description_tooltip": null,
            "_model_module": "@jupyter-widgets/controls",
            "layout": "IPY_MODEL_f8a399ad2b594fde8c4ca4a7c16246cd"
          }
        },
        "419e62c402b4486e99a1fc590a66b0d0": {
          "model_module": "@jupyter-widgets/controls",
          "model_name": "FloatProgressModel",
          "model_module_version": "1.5.0",
          "state": {
            "_view_name": "ProgressView",
            "style": "IPY_MODEL_745dec7d3c2e42c79cff9b06fd904cdc",
            "_dom_classes": [],
            "description": "",
            "_model_name": "FloatProgressModel",
            "bar_style": "success",
            "max": 65,
            "_view_module": "@jupyter-widgets/controls",
            "_model_module_version": "1.5.0",
            "value": 65,
            "_view_count": null,
            "_view_module_version": "1.5.0",
            "orientation": "horizontal",
            "min": 0,
            "description_tooltip": null,
            "_model_module": "@jupyter-widgets/controls",
            "layout": "IPY_MODEL_2d88387570fd49b2852aa40d59e81a76"
          }
        },
        "7ba023c9f1114f1ea4bd26172fd8fabd": {
          "model_module": "@jupyter-widgets/controls",
          "model_name": "HTMLModel",
          "model_module_version": "1.5.0",
          "state": {
            "_view_name": "HTMLView",
            "style": "IPY_MODEL_590ce79b689d42bb82ec7b7703c207b5",
            "_dom_classes": [],
            "description": "",
            "_model_name": "HTMLModel",
            "placeholder": "​",
            "_view_module": "@jupyter-widgets/controls",
            "_model_module_version": "1.5.0",
            "value": " 65.0/65.0 [00:00&lt;00:00, 1.67kB/s]",
            "_view_count": null,
            "_view_module_version": "1.5.0",
            "description_tooltip": null,
            "_model_module": "@jupyter-widgets/controls",
            "layout": "IPY_MODEL_8e3de1b3517c47d19e1b9cf2fa728278"
          }
        },
        "9ca6265337ae4e45b56952b7f986c517": {
          "model_module": "@jupyter-widgets/controls",
          "model_name": "DescriptionStyleModel",
          "model_module_version": "1.5.0",
          "state": {
            "_view_name": "StyleView",
            "_model_name": "DescriptionStyleModel",
            "description_width": "",
            "_view_module": "@jupyter-widgets/base",
            "_model_module_version": "1.5.0",
            "_view_count": null,
            "_view_module_version": "1.2.0",
            "_model_module": "@jupyter-widgets/controls"
          }
        },
        "f8a399ad2b594fde8c4ca4a7c16246cd": {
          "model_module": "@jupyter-widgets/base",
          "model_name": "LayoutModel",
          "model_module_version": "1.2.0",
          "state": {
            "_view_name": "LayoutView",
            "grid_template_rows": null,
            "right": null,
            "justify_content": null,
            "_view_module": "@jupyter-widgets/base",
            "overflow": null,
            "_model_module_version": "1.2.0",
            "_view_count": null,
            "flex_flow": null,
            "width": null,
            "min_width": null,
            "border": null,
            "align_items": null,
            "bottom": null,
            "_model_module": "@jupyter-widgets/base",
            "top": null,
            "grid_column": null,
            "overflow_y": null,
            "overflow_x": null,
            "grid_auto_flow": null,
            "grid_area": null,
            "grid_template_columns": null,
            "flex": null,
            "_model_name": "LayoutModel",
            "justify_items": null,
            "grid_row": null,
            "max_height": null,
            "align_content": null,
            "visibility": null,
            "align_self": null,
            "height": null,
            "min_height": null,
            "padding": null,
            "grid_auto_rows": null,
            "grid_gap": null,
            "max_width": null,
            "order": null,
            "_view_module_version": "1.2.0",
            "grid_template_areas": null,
            "object_position": null,
            "object_fit": null,
            "grid_auto_columns": null,
            "margin": null,
            "display": null,
            "left": null
          }
        },
        "745dec7d3c2e42c79cff9b06fd904cdc": {
          "model_module": "@jupyter-widgets/controls",
          "model_name": "ProgressStyleModel",
          "model_module_version": "1.5.0",
          "state": {
            "_view_name": "StyleView",
            "_model_name": "ProgressStyleModel",
            "description_width": "",
            "_view_module": "@jupyter-widgets/base",
            "_model_module_version": "1.5.0",
            "_view_count": null,
            "_view_module_version": "1.2.0",
            "bar_color": null,
            "_model_module": "@jupyter-widgets/controls"
          }
        },
        "2d88387570fd49b2852aa40d59e81a76": {
          "model_module": "@jupyter-widgets/base",
          "model_name": "LayoutModel",
          "model_module_version": "1.2.0",
          "state": {
            "_view_name": "LayoutView",
            "grid_template_rows": null,
            "right": null,
            "justify_content": null,
            "_view_module": "@jupyter-widgets/base",
            "overflow": null,
            "_model_module_version": "1.2.0",
            "_view_count": null,
            "flex_flow": null,
            "width": null,
            "min_width": null,
            "border": null,
            "align_items": null,
            "bottom": null,
            "_model_module": "@jupyter-widgets/base",
            "top": null,
            "grid_column": null,
            "overflow_y": null,
            "overflow_x": null,
            "grid_auto_flow": null,
            "grid_area": null,
            "grid_template_columns": null,
            "flex": null,
            "_model_name": "LayoutModel",
            "justify_items": null,
            "grid_row": null,
            "max_height": null,
            "align_content": null,
            "visibility": null,
            "align_self": null,
            "height": null,
            "min_height": null,
            "padding": null,
            "grid_auto_rows": null,
            "grid_gap": null,
            "max_width": null,
            "order": null,
            "_view_module_version": "1.2.0",
            "grid_template_areas": null,
            "object_position": null,
            "object_fit": null,
            "grid_auto_columns": null,
            "margin": null,
            "display": null,
            "left": null
          }
        },
        "590ce79b689d42bb82ec7b7703c207b5": {
          "model_module": "@jupyter-widgets/controls",
          "model_name": "DescriptionStyleModel",
          "model_module_version": "1.5.0",
          "state": {
            "_view_name": "StyleView",
            "_model_name": "DescriptionStyleModel",
            "description_width": "",
            "_view_module": "@jupyter-widgets/base",
            "_model_module_version": "1.5.0",
            "_view_count": null,
            "_view_module_version": "1.2.0",
            "_model_module": "@jupyter-widgets/controls"
          }
        },
        "8e3de1b3517c47d19e1b9cf2fa728278": {
          "model_module": "@jupyter-widgets/base",
          "model_name": "LayoutModel",
          "model_module_version": "1.2.0",
          "state": {
            "_view_name": "LayoutView",
            "grid_template_rows": null,
            "right": null,
            "justify_content": null,
            "_view_module": "@jupyter-widgets/base",
            "overflow": null,
            "_model_module_version": "1.2.0",
            "_view_count": null,
            "flex_flow": null,
            "width": null,
            "min_width": null,
            "border": null,
            "align_items": null,
            "bottom": null,
            "_model_module": "@jupyter-widgets/base",
            "top": null,
            "grid_column": null,
            "overflow_y": null,
            "overflow_x": null,
            "grid_auto_flow": null,
            "grid_area": null,
            "grid_template_columns": null,
            "flex": null,
            "_model_name": "LayoutModel",
            "justify_items": null,
            "grid_row": null,
            "max_height": null,
            "align_content": null,
            "visibility": null,
            "align_self": null,
            "height": null,
            "min_height": null,
            "padding": null,
            "grid_auto_rows": null,
            "grid_gap": null,
            "max_width": null,
            "order": null,
            "_view_module_version": "1.2.0",
            "grid_template_areas": null,
            "object_position": null,
            "object_fit": null,
            "grid_auto_columns": null,
            "margin": null,
            "display": null,
            "left": null
          }
        },
        "fb901128f01c4ff8805f46a6377214fd": {
          "model_module": "@jupyter-widgets/controls",
          "model_name": "HBoxModel",
          "model_module_version": "1.5.0",
          "state": {
            "_view_name": "HBoxView",
            "_dom_classes": [],
            "_model_name": "HBoxModel",
            "_view_module": "@jupyter-widgets/controls",
            "_model_module_version": "1.5.0",
            "_view_count": null,
            "_view_module_version": "1.5.0",
            "box_style": "",
            "layout": "IPY_MODEL_58ccaf5151cb4d2d9f4634edcfce72fa",
            "_model_module": "@jupyter-widgets/controls",
            "children": [
              "IPY_MODEL_4249aea0942b4964a43690487e5d6df6",
              "IPY_MODEL_b0a47611b5684e4b974a80931c1529aa",
              "IPY_MODEL_8c1dc9ad73404624a2400c11a638882e"
            ]
          }
        },
        "58ccaf5151cb4d2d9f4634edcfce72fa": {
          "model_module": "@jupyter-widgets/base",
          "model_name": "LayoutModel",
          "model_module_version": "1.2.0",
          "state": {
            "_view_name": "LayoutView",
            "grid_template_rows": null,
            "right": null,
            "justify_content": null,
            "_view_module": "@jupyter-widgets/base",
            "overflow": null,
            "_model_module_version": "1.2.0",
            "_view_count": null,
            "flex_flow": null,
            "width": null,
            "min_width": null,
            "border": null,
            "align_items": null,
            "bottom": null,
            "_model_module": "@jupyter-widgets/base",
            "top": null,
            "grid_column": null,
            "overflow_y": null,
            "overflow_x": null,
            "grid_auto_flow": null,
            "grid_area": null,
            "grid_template_columns": null,
            "flex": null,
            "_model_name": "LayoutModel",
            "justify_items": null,
            "grid_row": null,
            "max_height": null,
            "align_content": null,
            "visibility": null,
            "align_self": null,
            "height": null,
            "min_height": null,
            "padding": null,
            "grid_auto_rows": null,
            "grid_gap": null,
            "max_width": null,
            "order": null,
            "_view_module_version": "1.2.0",
            "grid_template_areas": null,
            "object_position": null,
            "object_fit": null,
            "grid_auto_columns": null,
            "margin": null,
            "display": null,
            "left": null
          }
        },
        "4249aea0942b4964a43690487e5d6df6": {
          "model_module": "@jupyter-widgets/controls",
          "model_name": "HTMLModel",
          "model_module_version": "1.5.0",
          "state": {
            "_view_name": "HTMLView",
            "style": "IPY_MODEL_bad6913c4aaf4d708fafb52ad29e5e08",
            "_dom_classes": [],
            "description": "",
            "_model_name": "HTMLModel",
            "placeholder": "​",
            "_view_module": "@jupyter-widgets/controls",
            "_model_module_version": "1.5.0",
            "value": "100%",
            "_view_count": null,
            "_view_module_version": "1.5.0",
            "description_tooltip": null,
            "_model_module": "@jupyter-widgets/controls",
            "layout": "IPY_MODEL_16089d6af035445481d0b11aab3a77da"
          }
        },
        "b0a47611b5684e4b974a80931c1529aa": {
          "model_module": "@jupyter-widgets/controls",
          "model_name": "FloatProgressModel",
          "model_module_version": "1.5.0",
          "state": {
            "_view_name": "ProgressView",
            "style": "IPY_MODEL_45e0733a53644d638e288482658d24b6",
            "_dom_classes": [],
            "description": "",
            "_model_name": "FloatProgressModel",
            "bar_style": "success",
            "max": 3,
            "_view_module": "@jupyter-widgets/controls",
            "_model_module_version": "1.5.0",
            "value": 3,
            "_view_count": null,
            "_view_module_version": "1.5.0",
            "orientation": "horizontal",
            "min": 0,
            "description_tooltip": null,
            "_model_module": "@jupyter-widgets/controls",
            "layout": "IPY_MODEL_a71efd52502c43fdb1a949b86998e388"
          }
        },
        "8c1dc9ad73404624a2400c11a638882e": {
          "model_module": "@jupyter-widgets/controls",
          "model_name": "HTMLModel",
          "model_module_version": "1.5.0",
          "state": {
            "_view_name": "HTMLView",
            "style": "IPY_MODEL_7929c2f55e9548ff817f2fe27eaa3532",
            "_dom_classes": [],
            "description": "",
            "_model_name": "HTMLModel",
            "placeholder": "​",
            "_view_module": "@jupyter-widgets/controls",
            "_model_module_version": "1.5.0",
            "value": " 3/3 [00:00&lt;00:00, 65.41it/s]",
            "_view_count": null,
            "_view_module_version": "1.5.0",
            "description_tooltip": null,
            "_model_module": "@jupyter-widgets/controls",
            "layout": "IPY_MODEL_b1673f200ed54c4889585b44bb8d9322"
          }
        },
        "bad6913c4aaf4d708fafb52ad29e5e08": {
          "model_module": "@jupyter-widgets/controls",
          "model_name": "DescriptionStyleModel",
          "model_module_version": "1.5.0",
          "state": {
            "_view_name": "StyleView",
            "_model_name": "DescriptionStyleModel",
            "description_width": "",
            "_view_module": "@jupyter-widgets/base",
            "_model_module_version": "1.5.0",
            "_view_count": null,
            "_view_module_version": "1.2.0",
            "_model_module": "@jupyter-widgets/controls"
          }
        },
        "16089d6af035445481d0b11aab3a77da": {
          "model_module": "@jupyter-widgets/base",
          "model_name": "LayoutModel",
          "model_module_version": "1.2.0",
          "state": {
            "_view_name": "LayoutView",
            "grid_template_rows": null,
            "right": null,
            "justify_content": null,
            "_view_module": "@jupyter-widgets/base",
            "overflow": null,
            "_model_module_version": "1.2.0",
            "_view_count": null,
            "flex_flow": null,
            "width": null,
            "min_width": null,
            "border": null,
            "align_items": null,
            "bottom": null,
            "_model_module": "@jupyter-widgets/base",
            "top": null,
            "grid_column": null,
            "overflow_y": null,
            "overflow_x": null,
            "grid_auto_flow": null,
            "grid_area": null,
            "grid_template_columns": null,
            "flex": null,
            "_model_name": "LayoutModel",
            "justify_items": null,
            "grid_row": null,
            "max_height": null,
            "align_content": null,
            "visibility": null,
            "align_self": null,
            "height": null,
            "min_height": null,
            "padding": null,
            "grid_auto_rows": null,
            "grid_gap": null,
            "max_width": null,
            "order": null,
            "_view_module_version": "1.2.0",
            "grid_template_areas": null,
            "object_position": null,
            "object_fit": null,
            "grid_auto_columns": null,
            "margin": null,
            "display": null,
            "left": null
          }
        },
        "45e0733a53644d638e288482658d24b6": {
          "model_module": "@jupyter-widgets/controls",
          "model_name": "ProgressStyleModel",
          "model_module_version": "1.5.0",
          "state": {
            "_view_name": "StyleView",
            "_model_name": "ProgressStyleModel",
            "description_width": "",
            "_view_module": "@jupyter-widgets/base",
            "_model_module_version": "1.5.0",
            "_view_count": null,
            "_view_module_version": "1.2.0",
            "bar_color": null,
            "_model_module": "@jupyter-widgets/controls"
          }
        },
        "a71efd52502c43fdb1a949b86998e388": {
          "model_module": "@jupyter-widgets/base",
          "model_name": "LayoutModel",
          "model_module_version": "1.2.0",
          "state": {
            "_view_name": "LayoutView",
            "grid_template_rows": null,
            "right": null,
            "justify_content": null,
            "_view_module": "@jupyter-widgets/base",
            "overflow": null,
            "_model_module_version": "1.2.0",
            "_view_count": null,
            "flex_flow": null,
            "width": null,
            "min_width": null,
            "border": null,
            "align_items": null,
            "bottom": null,
            "_model_module": "@jupyter-widgets/base",
            "top": null,
            "grid_column": null,
            "overflow_y": null,
            "overflow_x": null,
            "grid_auto_flow": null,
            "grid_area": null,
            "grid_template_columns": null,
            "flex": null,
            "_model_name": "LayoutModel",
            "justify_items": null,
            "grid_row": null,
            "max_height": null,
            "align_content": null,
            "visibility": null,
            "align_self": null,
            "height": null,
            "min_height": null,
            "padding": null,
            "grid_auto_rows": null,
            "grid_gap": null,
            "max_width": null,
            "order": null,
            "_view_module_version": "1.2.0",
            "grid_template_areas": null,
            "object_position": null,
            "object_fit": null,
            "grid_auto_columns": null,
            "margin": null,
            "display": null,
            "left": null
          }
        },
        "7929c2f55e9548ff817f2fe27eaa3532": {
          "model_module": "@jupyter-widgets/controls",
          "model_name": "DescriptionStyleModel",
          "model_module_version": "1.5.0",
          "state": {
            "_view_name": "StyleView",
            "_model_name": "DescriptionStyleModel",
            "description_width": "",
            "_view_module": "@jupyter-widgets/base",
            "_model_module_version": "1.5.0",
            "_view_count": null,
            "_view_module_version": "1.2.0",
            "_model_module": "@jupyter-widgets/controls"
          }
        },
        "b1673f200ed54c4889585b44bb8d9322": {
          "model_module": "@jupyter-widgets/base",
          "model_name": "LayoutModel",
          "model_module_version": "1.2.0",
          "state": {
            "_view_name": "LayoutView",
            "grid_template_rows": null,
            "right": null,
            "justify_content": null,
            "_view_module": "@jupyter-widgets/base",
            "overflow": null,
            "_model_module_version": "1.2.0",
            "_view_count": null,
            "flex_flow": null,
            "width": null,
            "min_width": null,
            "border": null,
            "align_items": null,
            "bottom": null,
            "_model_module": "@jupyter-widgets/base",
            "top": null,
            "grid_column": null,
            "overflow_y": null,
            "overflow_x": null,
            "grid_auto_flow": null,
            "grid_area": null,
            "grid_template_columns": null,
            "flex": null,
            "_model_name": "LayoutModel",
            "justify_items": null,
            "grid_row": null,
            "max_height": null,
            "align_content": null,
            "visibility": null,
            "align_self": null,
            "height": null,
            "min_height": null,
            "padding": null,
            "grid_auto_rows": null,
            "grid_gap": null,
            "max_width": null,
            "order": null,
            "_view_module_version": "1.2.0",
            "grid_template_areas": null,
            "object_position": null,
            "object_fit": null,
            "grid_auto_columns": null,
            "margin": null,
            "display": null,
            "left": null
          }
        },
        "7432ad1c92034ec3afc49eb365f0ebbd": {
          "model_module": "@jupyter-widgets/controls",
          "model_name": "HBoxModel",
          "model_module_version": "1.5.0",
          "state": {
            "_view_name": "HBoxView",
            "_dom_classes": [],
            "_model_name": "HBoxModel",
            "_view_module": "@jupyter-widgets/controls",
            "_model_module_version": "1.5.0",
            "_view_count": null,
            "_view_module_version": "1.5.0",
            "box_style": "",
            "layout": "IPY_MODEL_cac15d9fa9fd4a5aa806d5aa32cd907e",
            "_model_module": "@jupyter-widgets/controls",
            "children": [
              "IPY_MODEL_a02bb4fd323e43778c86c45fa691edd3",
              "IPY_MODEL_4db3a7a07f0649fe944bc13abdb13a81",
              "IPY_MODEL_203b0e1003eb418f9a34c91118d4b151"
            ]
          }
        },
        "cac15d9fa9fd4a5aa806d5aa32cd907e": {
          "model_module": "@jupyter-widgets/base",
          "model_name": "LayoutModel",
          "model_module_version": "1.2.0",
          "state": {
            "_view_name": "LayoutView",
            "grid_template_rows": null,
            "right": null,
            "justify_content": null,
            "_view_module": "@jupyter-widgets/base",
            "overflow": null,
            "_model_module_version": "1.2.0",
            "_view_count": null,
            "flex_flow": null,
            "width": null,
            "min_width": null,
            "border": null,
            "align_items": null,
            "bottom": null,
            "_model_module": "@jupyter-widgets/base",
            "top": null,
            "grid_column": null,
            "overflow_y": null,
            "overflow_x": null,
            "grid_auto_flow": null,
            "grid_area": null,
            "grid_template_columns": null,
            "flex": null,
            "_model_name": "LayoutModel",
            "justify_items": null,
            "grid_row": null,
            "max_height": null,
            "align_content": null,
            "visibility": null,
            "align_self": null,
            "height": null,
            "min_height": null,
            "padding": null,
            "grid_auto_rows": null,
            "grid_gap": null,
            "max_width": null,
            "order": null,
            "_view_module_version": "1.2.0",
            "grid_template_areas": null,
            "object_position": null,
            "object_fit": null,
            "grid_auto_columns": null,
            "margin": null,
            "display": null,
            "left": null
          }
        },
        "a02bb4fd323e43778c86c45fa691edd3": {
          "model_module": "@jupyter-widgets/controls",
          "model_name": "HTMLModel",
          "model_module_version": "1.5.0",
          "state": {
            "_view_name": "HTMLView",
            "style": "IPY_MODEL_325e514f421d42b6a9f69edce7087467",
            "_dom_classes": [],
            "description": "",
            "_model_name": "HTMLModel",
            "placeholder": "​",
            "_view_module": "@jupyter-widgets/controls",
            "_model_module_version": "1.5.0",
            "value": "Downloading: 100%",
            "_view_count": null,
            "_view_module_version": "1.5.0",
            "description_tooltip": null,
            "_model_module": "@jupyter-widgets/controls",
            "layout": "IPY_MODEL_f27ab14c9b8644599c002bc2f6db964c"
          }
        },
        "4db3a7a07f0649fe944bc13abdb13a81": {
          "model_module": "@jupyter-widgets/controls",
          "model_name": "FloatProgressModel",
          "model_module_version": "1.5.0",
          "state": {
            "_view_name": "ProgressView",
            "style": "IPY_MODEL_fa5aca10fe7947b48d46981a54ef1434",
            "_dom_classes": [],
            "description": "",
            "_model_name": "FloatProgressModel",
            "bar_style": "success",
            "max": 82,
            "_view_module": "@jupyter-widgets/controls",
            "_model_module_version": "1.5.0",
            "value": 82,
            "_view_count": null,
            "_view_module_version": "1.5.0",
            "orientation": "horizontal",
            "min": 0,
            "description_tooltip": null,
            "_model_module": "@jupyter-widgets/controls",
            "layout": "IPY_MODEL_d95a88c3eca248a5b22c06955c6da330"
          }
        },
        "203b0e1003eb418f9a34c91118d4b151": {
          "model_module": "@jupyter-widgets/controls",
          "model_name": "HTMLModel",
          "model_module_version": "1.5.0",
          "state": {
            "_view_name": "HTMLView",
            "style": "IPY_MODEL_8368371d3b174fec9aa87174691780fb",
            "_dom_classes": [],
            "description": "",
            "_model_name": "HTMLModel",
            "placeholder": "​",
            "_view_module": "@jupyter-widgets/controls",
            "_model_module_version": "1.5.0",
            "value": " 82.0/82.0 [00:00&lt;00:00, 1.87kB/s]",
            "_view_count": null,
            "_view_module_version": "1.5.0",
            "description_tooltip": null,
            "_model_module": "@jupyter-widgets/controls",
            "layout": "IPY_MODEL_0363c4b252844975bb103d9566c6dc55"
          }
        },
        "325e514f421d42b6a9f69edce7087467": {
          "model_module": "@jupyter-widgets/controls",
          "model_name": "DescriptionStyleModel",
          "model_module_version": "1.5.0",
          "state": {
            "_view_name": "StyleView",
            "_model_name": "DescriptionStyleModel",
            "description_width": "",
            "_view_module": "@jupyter-widgets/base",
            "_model_module_version": "1.5.0",
            "_view_count": null,
            "_view_module_version": "1.2.0",
            "_model_module": "@jupyter-widgets/controls"
          }
        },
        "f27ab14c9b8644599c002bc2f6db964c": {
          "model_module": "@jupyter-widgets/base",
          "model_name": "LayoutModel",
          "model_module_version": "1.2.0",
          "state": {
            "_view_name": "LayoutView",
            "grid_template_rows": null,
            "right": null,
            "justify_content": null,
            "_view_module": "@jupyter-widgets/base",
            "overflow": null,
            "_model_module_version": "1.2.0",
            "_view_count": null,
            "flex_flow": null,
            "width": null,
            "min_width": null,
            "border": null,
            "align_items": null,
            "bottom": null,
            "_model_module": "@jupyter-widgets/base",
            "top": null,
            "grid_column": null,
            "overflow_y": null,
            "overflow_x": null,
            "grid_auto_flow": null,
            "grid_area": null,
            "grid_template_columns": null,
            "flex": null,
            "_model_name": "LayoutModel",
            "justify_items": null,
            "grid_row": null,
            "max_height": null,
            "align_content": null,
            "visibility": null,
            "align_self": null,
            "height": null,
            "min_height": null,
            "padding": null,
            "grid_auto_rows": null,
            "grid_gap": null,
            "max_width": null,
            "order": null,
            "_view_module_version": "1.2.0",
            "grid_template_areas": null,
            "object_position": null,
            "object_fit": null,
            "grid_auto_columns": null,
            "margin": null,
            "display": null,
            "left": null
          }
        },
        "fa5aca10fe7947b48d46981a54ef1434": {
          "model_module": "@jupyter-widgets/controls",
          "model_name": "ProgressStyleModel",
          "model_module_version": "1.5.0",
          "state": {
            "_view_name": "StyleView",
            "_model_name": "ProgressStyleModel",
            "description_width": "",
            "_view_module": "@jupyter-widgets/base",
            "_model_module_version": "1.5.0",
            "_view_count": null,
            "_view_module_version": "1.2.0",
            "bar_color": null,
            "_model_module": "@jupyter-widgets/controls"
          }
        },
        "d95a88c3eca248a5b22c06955c6da330": {
          "model_module": "@jupyter-widgets/base",
          "model_name": "LayoutModel",
          "model_module_version": "1.2.0",
          "state": {
            "_view_name": "LayoutView",
            "grid_template_rows": null,
            "right": null,
            "justify_content": null,
            "_view_module": "@jupyter-widgets/base",
            "overflow": null,
            "_model_module_version": "1.2.0",
            "_view_count": null,
            "flex_flow": null,
            "width": null,
            "min_width": null,
            "border": null,
            "align_items": null,
            "bottom": null,
            "_model_module": "@jupyter-widgets/base",
            "top": null,
            "grid_column": null,
            "overflow_y": null,
            "overflow_x": null,
            "grid_auto_flow": null,
            "grid_area": null,
            "grid_template_columns": null,
            "flex": null,
            "_model_name": "LayoutModel",
            "justify_items": null,
            "grid_row": null,
            "max_height": null,
            "align_content": null,
            "visibility": null,
            "align_self": null,
            "height": null,
            "min_height": null,
            "padding": null,
            "grid_auto_rows": null,
            "grid_gap": null,
            "max_width": null,
            "order": null,
            "_view_module_version": "1.2.0",
            "grid_template_areas": null,
            "object_position": null,
            "object_fit": null,
            "grid_auto_columns": null,
            "margin": null,
            "display": null,
            "left": null
          }
        },
        "8368371d3b174fec9aa87174691780fb": {
          "model_module": "@jupyter-widgets/controls",
          "model_name": "DescriptionStyleModel",
          "model_module_version": "1.5.0",
          "state": {
            "_view_name": "StyleView",
            "_model_name": "DescriptionStyleModel",
            "description_width": "",
            "_view_module": "@jupyter-widgets/base",
            "_model_module_version": "1.5.0",
            "_view_count": null,
            "_view_module_version": "1.2.0",
            "_model_module": "@jupyter-widgets/controls"
          }
        },
        "0363c4b252844975bb103d9566c6dc55": {
          "model_module": "@jupyter-widgets/base",
          "model_name": "LayoutModel",
          "model_module_version": "1.2.0",
          "state": {
            "_view_name": "LayoutView",
            "grid_template_rows": null,
            "right": null,
            "justify_content": null,
            "_view_module": "@jupyter-widgets/base",
            "overflow": null,
            "_model_module_version": "1.2.0",
            "_view_count": null,
            "flex_flow": null,
            "width": null,
            "min_width": null,
            "border": null,
            "align_items": null,
            "bottom": null,
            "_model_module": "@jupyter-widgets/base",
            "top": null,
            "grid_column": null,
            "overflow_y": null,
            "overflow_x": null,
            "grid_auto_flow": null,
            "grid_area": null,
            "grid_template_columns": null,
            "flex": null,
            "_model_name": "LayoutModel",
            "justify_items": null,
            "grid_row": null,
            "max_height": null,
            "align_content": null,
            "visibility": null,
            "align_self": null,
            "height": null,
            "min_height": null,
            "padding": null,
            "grid_auto_rows": null,
            "grid_gap": null,
            "max_width": null,
            "order": null,
            "_view_module_version": "1.2.0",
            "grid_template_areas": null,
            "object_position": null,
            "object_fit": null,
            "grid_auto_columns": null,
            "margin": null,
            "display": null,
            "left": null
          }
        },
        "b02535ddbe9648089a64380f76ae0de7": {
          "model_module": "@jupyter-widgets/controls",
          "model_name": "HBoxModel",
          "model_module_version": "1.5.0",
          "state": {
            "_view_name": "HBoxView",
            "_dom_classes": [],
            "_model_name": "HBoxModel",
            "_view_module": "@jupyter-widgets/controls",
            "_model_module_version": "1.5.0",
            "_view_count": null,
            "_view_module_version": "1.5.0",
            "box_style": "",
            "layout": "IPY_MODEL_0dbf30e88f324dc1a2b610e4d3548ac5",
            "_model_module": "@jupyter-widgets/controls",
            "children": [
              "IPY_MODEL_b2bfda883f984aaaa4e36e278c0b5a2f",
              "IPY_MODEL_b3aa9bd42db748708553911846af8fe7",
              "IPY_MODEL_1d0d5a6208f84c01aa1e582cc09f909d"
            ]
          }
        },
        "0dbf30e88f324dc1a2b610e4d3548ac5": {
          "model_module": "@jupyter-widgets/base",
          "model_name": "LayoutModel",
          "model_module_version": "1.2.0",
          "state": {
            "_view_name": "LayoutView",
            "grid_template_rows": null,
            "right": null,
            "justify_content": null,
            "_view_module": "@jupyter-widgets/base",
            "overflow": null,
            "_model_module_version": "1.2.0",
            "_view_count": null,
            "flex_flow": null,
            "width": null,
            "min_width": null,
            "border": null,
            "align_items": null,
            "bottom": null,
            "_model_module": "@jupyter-widgets/base",
            "top": null,
            "grid_column": null,
            "overflow_y": null,
            "overflow_x": null,
            "grid_auto_flow": null,
            "grid_area": null,
            "grid_template_columns": null,
            "flex": null,
            "_model_name": "LayoutModel",
            "justify_items": null,
            "grid_row": null,
            "max_height": null,
            "align_content": null,
            "visibility": null,
            "align_self": null,
            "height": null,
            "min_height": null,
            "padding": null,
            "grid_auto_rows": null,
            "grid_gap": null,
            "max_width": null,
            "order": null,
            "_view_module_version": "1.2.0",
            "grid_template_areas": null,
            "object_position": null,
            "object_fit": null,
            "grid_auto_columns": null,
            "margin": null,
            "display": null,
            "left": null
          }
        },
        "b2bfda883f984aaaa4e36e278c0b5a2f": {
          "model_module": "@jupyter-widgets/controls",
          "model_name": "HTMLModel",
          "model_module_version": "1.5.0",
          "state": {
            "_view_name": "HTMLView",
            "style": "IPY_MODEL_66b9418011b4473794a931aa61706fb9",
            "_dom_classes": [],
            "description": "",
            "_model_name": "HTMLModel",
            "placeholder": "​",
            "_view_module": "@jupyter-widgets/controls",
            "_model_module_version": "1.5.0",
            "value": "Downloading: 100%",
            "_view_count": null,
            "_view_module_version": "1.5.0",
            "description_tooltip": null,
            "_model_module": "@jupyter-widgets/controls",
            "layout": "IPY_MODEL_5b9a6ab0e54e44c09b7b4b2c2385b95a"
          }
        },
        "b3aa9bd42db748708553911846af8fe7": {
          "model_module": "@jupyter-widgets/controls",
          "model_name": "FloatProgressModel",
          "model_module_version": "1.5.0",
          "state": {
            "_view_name": "ProgressView",
            "style": "IPY_MODEL_97bc8285ff11470d9ea63d489bace24f",
            "_dom_classes": [],
            "description": "",
            "_model_name": "FloatProgressModel",
            "bar_style": "success",
            "max": 4309802,
            "_view_module": "@jupyter-widgets/controls",
            "_model_module_version": "1.5.0",
            "value": 4309802,
            "_view_count": null,
            "_view_module_version": "1.5.0",
            "orientation": "horizontal",
            "min": 0,
            "description_tooltip": null,
            "_model_module": "@jupyter-widgets/controls",
            "layout": "IPY_MODEL_41ad412239774e6a821af1b4e52dab33"
          }
        },
        "1d0d5a6208f84c01aa1e582cc09f909d": {
          "model_module": "@jupyter-widgets/controls",
          "model_name": "HTMLModel",
          "model_module_version": "1.5.0",
          "state": {
            "_view_name": "HTMLView",
            "style": "IPY_MODEL_161526fa3cf44e49b71a2071d194dce1",
            "_dom_classes": [],
            "description": "",
            "_model_name": "HTMLModel",
            "placeholder": "​",
            "_view_module": "@jupyter-widgets/controls",
            "_model_module_version": "1.5.0",
            "value": " 4.11M/4.11M [00:00&lt;00:00, 7.94MB/s]",
            "_view_count": null,
            "_view_module_version": "1.5.0",
            "description_tooltip": null,
            "_model_module": "@jupyter-widgets/controls",
            "layout": "IPY_MODEL_cdc78c4b5da14cfbb0b6d6a03e48a77b"
          }
        },
        "66b9418011b4473794a931aa61706fb9": {
          "model_module": "@jupyter-widgets/controls",
          "model_name": "DescriptionStyleModel",
          "model_module_version": "1.5.0",
          "state": {
            "_view_name": "StyleView",
            "_model_name": "DescriptionStyleModel",
            "description_width": "",
            "_view_module": "@jupyter-widgets/base",
            "_model_module_version": "1.5.0",
            "_view_count": null,
            "_view_module_version": "1.2.0",
            "_model_module": "@jupyter-widgets/controls"
          }
        },
        "5b9a6ab0e54e44c09b7b4b2c2385b95a": {
          "model_module": "@jupyter-widgets/base",
          "model_name": "LayoutModel",
          "model_module_version": "1.2.0",
          "state": {
            "_view_name": "LayoutView",
            "grid_template_rows": null,
            "right": null,
            "justify_content": null,
            "_view_module": "@jupyter-widgets/base",
            "overflow": null,
            "_model_module_version": "1.2.0",
            "_view_count": null,
            "flex_flow": null,
            "width": null,
            "min_width": null,
            "border": null,
            "align_items": null,
            "bottom": null,
            "_model_module": "@jupyter-widgets/base",
            "top": null,
            "grid_column": null,
            "overflow_y": null,
            "overflow_x": null,
            "grid_auto_flow": null,
            "grid_area": null,
            "grid_template_columns": null,
            "flex": null,
            "_model_name": "LayoutModel",
            "justify_items": null,
            "grid_row": null,
            "max_height": null,
            "align_content": null,
            "visibility": null,
            "align_self": null,
            "height": null,
            "min_height": null,
            "padding": null,
            "grid_auto_rows": null,
            "grid_gap": null,
            "max_width": null,
            "order": null,
            "_view_module_version": "1.2.0",
            "grid_template_areas": null,
            "object_position": null,
            "object_fit": null,
            "grid_auto_columns": null,
            "margin": null,
            "display": null,
            "left": null
          }
        },
        "97bc8285ff11470d9ea63d489bace24f": {
          "model_module": "@jupyter-widgets/controls",
          "model_name": "ProgressStyleModel",
          "model_module_version": "1.5.0",
          "state": {
            "_view_name": "StyleView",
            "_model_name": "ProgressStyleModel",
            "description_width": "",
            "_view_module": "@jupyter-widgets/base",
            "_model_module_version": "1.5.0",
            "_view_count": null,
            "_view_module_version": "1.2.0",
            "bar_color": null,
            "_model_module": "@jupyter-widgets/controls"
          }
        },
        "41ad412239774e6a821af1b4e52dab33": {
          "model_module": "@jupyter-widgets/base",
          "model_name": "LayoutModel",
          "model_module_version": "1.2.0",
          "state": {
            "_view_name": "LayoutView",
            "grid_template_rows": null,
            "right": null,
            "justify_content": null,
            "_view_module": "@jupyter-widgets/base",
            "overflow": null,
            "_model_module_version": "1.2.0",
            "_view_count": null,
            "flex_flow": null,
            "width": null,
            "min_width": null,
            "border": null,
            "align_items": null,
            "bottom": null,
            "_model_module": "@jupyter-widgets/base",
            "top": null,
            "grid_column": null,
            "overflow_y": null,
            "overflow_x": null,
            "grid_auto_flow": null,
            "grid_area": null,
            "grid_template_columns": null,
            "flex": null,
            "_model_name": "LayoutModel",
            "justify_items": null,
            "grid_row": null,
            "max_height": null,
            "align_content": null,
            "visibility": null,
            "align_self": null,
            "height": null,
            "min_height": null,
            "padding": null,
            "grid_auto_rows": null,
            "grid_gap": null,
            "max_width": null,
            "order": null,
            "_view_module_version": "1.2.0",
            "grid_template_areas": null,
            "object_position": null,
            "object_fit": null,
            "grid_auto_columns": null,
            "margin": null,
            "display": null,
            "left": null
          }
        },
        "161526fa3cf44e49b71a2071d194dce1": {
          "model_module": "@jupyter-widgets/controls",
          "model_name": "DescriptionStyleModel",
          "model_module_version": "1.5.0",
          "state": {
            "_view_name": "StyleView",
            "_model_name": "DescriptionStyleModel",
            "description_width": "",
            "_view_module": "@jupyter-widgets/base",
            "_model_module_version": "1.5.0",
            "_view_count": null,
            "_view_module_version": "1.2.0",
            "_model_module": "@jupyter-widgets/controls"
          }
        },
        "cdc78c4b5da14cfbb0b6d6a03e48a77b": {
          "model_module": "@jupyter-widgets/base",
          "model_name": "LayoutModel",
          "model_module_version": "1.2.0",
          "state": {
            "_view_name": "LayoutView",
            "grid_template_rows": null,
            "right": null,
            "justify_content": null,
            "_view_module": "@jupyter-widgets/base",
            "overflow": null,
            "_model_module_version": "1.2.0",
            "_view_count": null,
            "flex_flow": null,
            "width": null,
            "min_width": null,
            "border": null,
            "align_items": null,
            "bottom": null,
            "_model_module": "@jupyter-widgets/base",
            "top": null,
            "grid_column": null,
            "overflow_y": null,
            "overflow_x": null,
            "grid_auto_flow": null,
            "grid_area": null,
            "grid_template_columns": null,
            "flex": null,
            "_model_name": "LayoutModel",
            "justify_items": null,
            "grid_row": null,
            "max_height": null,
            "align_content": null,
            "visibility": null,
            "align_self": null,
            "height": null,
            "min_height": null,
            "padding": null,
            "grid_auto_rows": null,
            "grid_gap": null,
            "max_width": null,
            "order": null,
            "_view_module_version": "1.2.0",
            "grid_template_areas": null,
            "object_position": null,
            "object_fit": null,
            "grid_auto_columns": null,
            "margin": null,
            "display": null,
            "left": null
          }
        },
        "1fb6b0f9060a44558638b9c8279af543": {
          "model_module": "@jupyter-widgets/controls",
          "model_name": "HBoxModel",
          "model_module_version": "1.5.0",
          "state": {
            "_view_name": "HBoxView",
            "_dom_classes": [],
            "_model_name": "HBoxModel",
            "_view_module": "@jupyter-widgets/controls",
            "_model_module_version": "1.5.0",
            "_view_count": null,
            "_view_module_version": "1.5.0",
            "box_style": "",
            "layout": "IPY_MODEL_14cf265042a9421aa2eb45992df8c4db",
            "_model_module": "@jupyter-widgets/controls",
            "children": [
              "IPY_MODEL_881de0fcfa9a42dc8a879a1b1f085973",
              "IPY_MODEL_1e1c234c592d45f3aea070a6495cb6e8",
              "IPY_MODEL_aa01b351d6424c3cb719f354ee42792f"
            ]
          }
        },
        "14cf265042a9421aa2eb45992df8c4db": {
          "model_module": "@jupyter-widgets/base",
          "model_name": "LayoutModel",
          "model_module_version": "1.2.0",
          "state": {
            "_view_name": "LayoutView",
            "grid_template_rows": null,
            "right": null,
            "justify_content": null,
            "_view_module": "@jupyter-widgets/base",
            "overflow": null,
            "_model_module_version": "1.2.0",
            "_view_count": null,
            "flex_flow": null,
            "width": null,
            "min_width": null,
            "border": null,
            "align_items": null,
            "bottom": null,
            "_model_module": "@jupyter-widgets/base",
            "top": null,
            "grid_column": null,
            "overflow_y": null,
            "overflow_x": null,
            "grid_auto_flow": null,
            "grid_area": null,
            "grid_template_columns": null,
            "flex": null,
            "_model_name": "LayoutModel",
            "justify_items": null,
            "grid_row": null,
            "max_height": null,
            "align_content": null,
            "visibility": null,
            "align_self": null,
            "height": null,
            "min_height": null,
            "padding": null,
            "grid_auto_rows": null,
            "grid_gap": null,
            "max_width": null,
            "order": null,
            "_view_module_version": "1.2.0",
            "grid_template_areas": null,
            "object_position": null,
            "object_fit": null,
            "grid_auto_columns": null,
            "margin": null,
            "display": null,
            "left": null
          }
        },
        "881de0fcfa9a42dc8a879a1b1f085973": {
          "model_module": "@jupyter-widgets/controls",
          "model_name": "HTMLModel",
          "model_module_version": "1.5.0",
          "state": {
            "_view_name": "HTMLView",
            "style": "IPY_MODEL_561ba9657a3f4a53ab29d5e2fd8fb7d9",
            "_dom_classes": [],
            "description": "",
            "_model_name": "HTMLModel",
            "placeholder": "​",
            "_view_module": "@jupyter-widgets/controls",
            "_model_module_version": "1.5.0",
            "value": "Downloading: 100%",
            "_view_count": null,
            "_view_module_version": "1.5.0",
            "description_tooltip": null,
            "_model_module": "@jupyter-widgets/controls",
            "layout": "IPY_MODEL_ba6f92790e074056ac9aecf3e6de4b73"
          }
        },
        "1e1c234c592d45f3aea070a6495cb6e8": {
          "model_module": "@jupyter-widgets/controls",
          "model_name": "FloatProgressModel",
          "model_module_version": "1.5.0",
          "state": {
            "_view_name": "ProgressView",
            "style": "IPY_MODEL_7dabc0a9b7cd46c3b61a35fbb1a1a938",
            "_dom_classes": [],
            "description": "",
            "_model_name": "FloatProgressModel",
            "bar_style": "success",
            "max": 99,
            "_view_module": "@jupyter-widgets/controls",
            "_model_module_version": "1.5.0",
            "value": 99,
            "_view_count": null,
            "_view_module_version": "1.5.0",
            "orientation": "horizontal",
            "min": 0,
            "description_tooltip": null,
            "_model_module": "@jupyter-widgets/controls",
            "layout": "IPY_MODEL_40986572acdd4e5a8ac2221cf35a7110"
          }
        },
        "aa01b351d6424c3cb719f354ee42792f": {
          "model_module": "@jupyter-widgets/controls",
          "model_name": "HTMLModel",
          "model_module_version": "1.5.0",
          "state": {
            "_view_name": "HTMLView",
            "style": "IPY_MODEL_42ade72eb21041d7b982e1de1bd72bb8",
            "_dom_classes": [],
            "description": "",
            "_model_name": "HTMLModel",
            "placeholder": "​",
            "_view_module": "@jupyter-widgets/controls",
            "_model_module_version": "1.5.0",
            "value": " 99.0/99.0 [00:00&lt;00:00, 3.08kB/s]",
            "_view_count": null,
            "_view_module_version": "1.5.0",
            "description_tooltip": null,
            "_model_module": "@jupyter-widgets/controls",
            "layout": "IPY_MODEL_f69bb90de1604942bed37967b6d7939f"
          }
        },
        "561ba9657a3f4a53ab29d5e2fd8fb7d9": {
          "model_module": "@jupyter-widgets/controls",
          "model_name": "DescriptionStyleModel",
          "model_module_version": "1.5.0",
          "state": {
            "_view_name": "StyleView",
            "_model_name": "DescriptionStyleModel",
            "description_width": "",
            "_view_module": "@jupyter-widgets/base",
            "_model_module_version": "1.5.0",
            "_view_count": null,
            "_view_module_version": "1.2.0",
            "_model_module": "@jupyter-widgets/controls"
          }
        },
        "ba6f92790e074056ac9aecf3e6de4b73": {
          "model_module": "@jupyter-widgets/base",
          "model_name": "LayoutModel",
          "model_module_version": "1.2.0",
          "state": {
            "_view_name": "LayoutView",
            "grid_template_rows": null,
            "right": null,
            "justify_content": null,
            "_view_module": "@jupyter-widgets/base",
            "overflow": null,
            "_model_module_version": "1.2.0",
            "_view_count": null,
            "flex_flow": null,
            "width": null,
            "min_width": null,
            "border": null,
            "align_items": null,
            "bottom": null,
            "_model_module": "@jupyter-widgets/base",
            "top": null,
            "grid_column": null,
            "overflow_y": null,
            "overflow_x": null,
            "grid_auto_flow": null,
            "grid_area": null,
            "grid_template_columns": null,
            "flex": null,
            "_model_name": "LayoutModel",
            "justify_items": null,
            "grid_row": null,
            "max_height": null,
            "align_content": null,
            "visibility": null,
            "align_self": null,
            "height": null,
            "min_height": null,
            "padding": null,
            "grid_auto_rows": null,
            "grid_gap": null,
            "max_width": null,
            "order": null,
            "_view_module_version": "1.2.0",
            "grid_template_areas": null,
            "object_position": null,
            "object_fit": null,
            "grid_auto_columns": null,
            "margin": null,
            "display": null,
            "left": null
          }
        },
        "7dabc0a9b7cd46c3b61a35fbb1a1a938": {
          "model_module": "@jupyter-widgets/controls",
          "model_name": "ProgressStyleModel",
          "model_module_version": "1.5.0",
          "state": {
            "_view_name": "StyleView",
            "_model_name": "ProgressStyleModel",
            "description_width": "",
            "_view_module": "@jupyter-widgets/base",
            "_model_module_version": "1.5.0",
            "_view_count": null,
            "_view_module_version": "1.2.0",
            "bar_color": null,
            "_model_module": "@jupyter-widgets/controls"
          }
        },
        "40986572acdd4e5a8ac2221cf35a7110": {
          "model_module": "@jupyter-widgets/base",
          "model_name": "LayoutModel",
          "model_module_version": "1.2.0",
          "state": {
            "_view_name": "LayoutView",
            "grid_template_rows": null,
            "right": null,
            "justify_content": null,
            "_view_module": "@jupyter-widgets/base",
            "overflow": null,
            "_model_module_version": "1.2.0",
            "_view_count": null,
            "flex_flow": null,
            "width": null,
            "min_width": null,
            "border": null,
            "align_items": null,
            "bottom": null,
            "_model_module": "@jupyter-widgets/base",
            "top": null,
            "grid_column": null,
            "overflow_y": null,
            "overflow_x": null,
            "grid_auto_flow": null,
            "grid_area": null,
            "grid_template_columns": null,
            "flex": null,
            "_model_name": "LayoutModel",
            "justify_items": null,
            "grid_row": null,
            "max_height": null,
            "align_content": null,
            "visibility": null,
            "align_self": null,
            "height": null,
            "min_height": null,
            "padding": null,
            "grid_auto_rows": null,
            "grid_gap": null,
            "max_width": null,
            "order": null,
            "_view_module_version": "1.2.0",
            "grid_template_areas": null,
            "object_position": null,
            "object_fit": null,
            "grid_auto_columns": null,
            "margin": null,
            "display": null,
            "left": null
          }
        },
        "42ade72eb21041d7b982e1de1bd72bb8": {
          "model_module": "@jupyter-widgets/controls",
          "model_name": "DescriptionStyleModel",
          "model_module_version": "1.5.0",
          "state": {
            "_view_name": "StyleView",
            "_model_name": "DescriptionStyleModel",
            "description_width": "",
            "_view_module": "@jupyter-widgets/base",
            "_model_module_version": "1.5.0",
            "_view_count": null,
            "_view_module_version": "1.2.0",
            "_model_module": "@jupyter-widgets/controls"
          }
        },
        "f69bb90de1604942bed37967b6d7939f": {
          "model_module": "@jupyter-widgets/base",
          "model_name": "LayoutModel",
          "model_module_version": "1.2.0",
          "state": {
            "_view_name": "LayoutView",
            "grid_template_rows": null,
            "right": null,
            "justify_content": null,
            "_view_module": "@jupyter-widgets/base",
            "overflow": null,
            "_model_module_version": "1.2.0",
            "_view_count": null,
            "flex_flow": null,
            "width": null,
            "min_width": null,
            "border": null,
            "align_items": null,
            "bottom": null,
            "_model_module": "@jupyter-widgets/base",
            "top": null,
            "grid_column": null,
            "overflow_y": null,
            "overflow_x": null,
            "grid_auto_flow": null,
            "grid_area": null,
            "grid_template_columns": null,
            "flex": null,
            "_model_name": "LayoutModel",
            "justify_items": null,
            "grid_row": null,
            "max_height": null,
            "align_content": null,
            "visibility": null,
            "align_self": null,
            "height": null,
            "min_height": null,
            "padding": null,
            "grid_auto_rows": null,
            "grid_gap": null,
            "max_width": null,
            "order": null,
            "_view_module_version": "1.2.0",
            "grid_template_areas": null,
            "object_position": null,
            "object_fit": null,
            "grid_auto_columns": null,
            "margin": null,
            "display": null,
            "left": null
          }
        },
        "80f62335c4c346dbbd46505a90399181": {
          "model_module": "@jupyter-widgets/controls",
          "model_name": "HBoxModel",
          "model_module_version": "1.5.0",
          "state": {
            "_view_name": "HBoxView",
            "_dom_classes": [],
            "_model_name": "HBoxModel",
            "_view_module": "@jupyter-widgets/controls",
            "_model_module_version": "1.5.0",
            "_view_count": null,
            "_view_module_version": "1.5.0",
            "box_style": "",
            "layout": "IPY_MODEL_a2a471cf8fab478199e94098422aca08",
            "_model_module": "@jupyter-widgets/controls",
            "children": [
              "IPY_MODEL_a83af5bbb12240bf849a7e324bf9c64a",
              "IPY_MODEL_489501089624406fa831ef2ef4979aa4",
              "IPY_MODEL_ce4d40bbb8974b119b659151b6e721e0"
            ]
          }
        },
        "a2a471cf8fab478199e94098422aca08": {
          "model_module": "@jupyter-widgets/base",
          "model_name": "LayoutModel",
          "model_module_version": "1.2.0",
          "state": {
            "_view_name": "LayoutView",
            "grid_template_rows": null,
            "right": null,
            "justify_content": null,
            "_view_module": "@jupyter-widgets/base",
            "overflow": null,
            "_model_module_version": "1.2.0",
            "_view_count": null,
            "flex_flow": null,
            "width": null,
            "min_width": null,
            "border": null,
            "align_items": null,
            "bottom": null,
            "_model_module": "@jupyter-widgets/base",
            "top": null,
            "grid_column": null,
            "overflow_y": null,
            "overflow_x": null,
            "grid_auto_flow": null,
            "grid_area": null,
            "grid_template_columns": null,
            "flex": null,
            "_model_name": "LayoutModel",
            "justify_items": null,
            "grid_row": null,
            "max_height": null,
            "align_content": null,
            "visibility": null,
            "align_self": null,
            "height": null,
            "min_height": null,
            "padding": null,
            "grid_auto_rows": null,
            "grid_gap": null,
            "max_width": null,
            "order": null,
            "_view_module_version": "1.2.0",
            "grid_template_areas": null,
            "object_position": null,
            "object_fit": null,
            "grid_auto_columns": null,
            "margin": null,
            "display": null,
            "left": null
          }
        },
        "a83af5bbb12240bf849a7e324bf9c64a": {
          "model_module": "@jupyter-widgets/controls",
          "model_name": "HTMLModel",
          "model_module_version": "1.5.0",
          "state": {
            "_view_name": "HTMLView",
            "style": "IPY_MODEL_c87dd13d9d0946dab1533d46168bb407",
            "_dom_classes": [],
            "description": "",
            "_model_name": "HTMLModel",
            "placeholder": "​",
            "_view_module": "@jupyter-widgets/controls",
            "_model_module_version": "1.5.0",
            "value": "Downloading: 100%",
            "_view_count": null,
            "_view_module_version": "1.5.0",
            "description_tooltip": null,
            "_model_module": "@jupyter-widgets/controls",
            "layout": "IPY_MODEL_9e18b87d2f464742ab0812a3b84e60bf"
          }
        },
        "489501089624406fa831ef2ef4979aa4": {
          "model_module": "@jupyter-widgets/controls",
          "model_name": "FloatProgressModel",
          "model_module_version": "1.5.0",
          "state": {
            "_view_name": "ProgressView",
            "style": "IPY_MODEL_0db864b9bd344cd9851d57797d1b2dac",
            "_dom_classes": [],
            "description": "",
            "_model_name": "FloatProgressModel",
            "bar_style": "success",
            "max": 1200794589,
            "_view_module": "@jupyter-widgets/controls",
            "_model_module_version": "1.5.0",
            "value": 1200794589,
            "_view_count": null,
            "_view_module_version": "1.5.0",
            "orientation": "horizontal",
            "min": 0,
            "description_tooltip": null,
            "_model_module": "@jupyter-widgets/controls",
            "layout": "IPY_MODEL_8a8d29000eba4900a440e71b0bf91405"
          }
        },
        "ce4d40bbb8974b119b659151b6e721e0": {
          "model_module": "@jupyter-widgets/controls",
          "model_name": "HTMLModel",
          "model_module_version": "1.5.0",
          "state": {
            "_view_name": "HTMLView",
            "style": "IPY_MODEL_45000b3ca64d4f38bbfd27b063f7ca37",
            "_dom_classes": [],
            "description": "",
            "_model_name": "HTMLModel",
            "placeholder": "​",
            "_view_module": "@jupyter-widgets/controls",
            "_model_module_version": "1.5.0",
            "value": " 1.12G/1.12G [00:24&lt;00:00, 53.2MB/s]",
            "_view_count": null,
            "_view_module_version": "1.5.0",
            "description_tooltip": null,
            "_model_module": "@jupyter-widgets/controls",
            "layout": "IPY_MODEL_c3218147fd614925a12ef7fc634c39e7"
          }
        },
        "c87dd13d9d0946dab1533d46168bb407": {
          "model_module": "@jupyter-widgets/controls",
          "model_name": "DescriptionStyleModel",
          "model_module_version": "1.5.0",
          "state": {
            "_view_name": "StyleView",
            "_model_name": "DescriptionStyleModel",
            "description_width": "",
            "_view_module": "@jupyter-widgets/base",
            "_model_module_version": "1.5.0",
            "_view_count": null,
            "_view_module_version": "1.2.0",
            "_model_module": "@jupyter-widgets/controls"
          }
        },
        "9e18b87d2f464742ab0812a3b84e60bf": {
          "model_module": "@jupyter-widgets/base",
          "model_name": "LayoutModel",
          "model_module_version": "1.2.0",
          "state": {
            "_view_name": "LayoutView",
            "grid_template_rows": null,
            "right": null,
            "justify_content": null,
            "_view_module": "@jupyter-widgets/base",
            "overflow": null,
            "_model_module_version": "1.2.0",
            "_view_count": null,
            "flex_flow": null,
            "width": null,
            "min_width": null,
            "border": null,
            "align_items": null,
            "bottom": null,
            "_model_module": "@jupyter-widgets/base",
            "top": null,
            "grid_column": null,
            "overflow_y": null,
            "overflow_x": null,
            "grid_auto_flow": null,
            "grid_area": null,
            "grid_template_columns": null,
            "flex": null,
            "_model_name": "LayoutModel",
            "justify_items": null,
            "grid_row": null,
            "max_height": null,
            "align_content": null,
            "visibility": null,
            "align_self": null,
            "height": null,
            "min_height": null,
            "padding": null,
            "grid_auto_rows": null,
            "grid_gap": null,
            "max_width": null,
            "order": null,
            "_view_module_version": "1.2.0",
            "grid_template_areas": null,
            "object_position": null,
            "object_fit": null,
            "grid_auto_columns": null,
            "margin": null,
            "display": null,
            "left": null
          }
        },
        "0db864b9bd344cd9851d57797d1b2dac": {
          "model_module": "@jupyter-widgets/controls",
          "model_name": "ProgressStyleModel",
          "model_module_version": "1.5.0",
          "state": {
            "_view_name": "StyleView",
            "_model_name": "ProgressStyleModel",
            "description_width": "",
            "_view_module": "@jupyter-widgets/base",
            "_model_module_version": "1.5.0",
            "_view_count": null,
            "_view_module_version": "1.2.0",
            "bar_color": null,
            "_model_module": "@jupyter-widgets/controls"
          }
        },
        "8a8d29000eba4900a440e71b0bf91405": {
          "model_module": "@jupyter-widgets/base",
          "model_name": "LayoutModel",
          "model_module_version": "1.2.0",
          "state": {
            "_view_name": "LayoutView",
            "grid_template_rows": null,
            "right": null,
            "justify_content": null,
            "_view_module": "@jupyter-widgets/base",
            "overflow": null,
            "_model_module_version": "1.2.0",
            "_view_count": null,
            "flex_flow": null,
            "width": null,
            "min_width": null,
            "border": null,
            "align_items": null,
            "bottom": null,
            "_model_module": "@jupyter-widgets/base",
            "top": null,
            "grid_column": null,
            "overflow_y": null,
            "overflow_x": null,
            "grid_auto_flow": null,
            "grid_area": null,
            "grid_template_columns": null,
            "flex": null,
            "_model_name": "LayoutModel",
            "justify_items": null,
            "grid_row": null,
            "max_height": null,
            "align_content": null,
            "visibility": null,
            "align_self": null,
            "height": null,
            "min_height": null,
            "padding": null,
            "grid_auto_rows": null,
            "grid_gap": null,
            "max_width": null,
            "order": null,
            "_view_module_version": "1.2.0",
            "grid_template_areas": null,
            "object_position": null,
            "object_fit": null,
            "grid_auto_columns": null,
            "margin": null,
            "display": null,
            "left": null
          }
        },
        "45000b3ca64d4f38bbfd27b063f7ca37": {
          "model_module": "@jupyter-widgets/controls",
          "model_name": "DescriptionStyleModel",
          "model_module_version": "1.5.0",
          "state": {
            "_view_name": "StyleView",
            "_model_name": "DescriptionStyleModel",
            "description_width": "",
            "_view_module": "@jupyter-widgets/base",
            "_model_module_version": "1.5.0",
            "_view_count": null,
            "_view_module_version": "1.2.0",
            "_model_module": "@jupyter-widgets/controls"
          }
        },
        "c3218147fd614925a12ef7fc634c39e7": {
          "model_module": "@jupyter-widgets/base",
          "model_name": "LayoutModel",
          "model_module_version": "1.2.0",
          "state": {
            "_view_name": "LayoutView",
            "grid_template_rows": null,
            "right": null,
            "justify_content": null,
            "_view_module": "@jupyter-widgets/base",
            "overflow": null,
            "_model_module_version": "1.2.0",
            "_view_count": null,
            "flex_flow": null,
            "width": null,
            "min_width": null,
            "border": null,
            "align_items": null,
            "bottom": null,
            "_model_module": "@jupyter-widgets/base",
            "top": null,
            "grid_column": null,
            "overflow_y": null,
            "overflow_x": null,
            "grid_auto_flow": null,
            "grid_area": null,
            "grid_template_columns": null,
            "flex": null,
            "_model_name": "LayoutModel",
            "justify_items": null,
            "grid_row": null,
            "max_height": null,
            "align_content": null,
            "visibility": null,
            "align_self": null,
            "height": null,
            "min_height": null,
            "padding": null,
            "grid_auto_rows": null,
            "grid_gap": null,
            "max_width": null,
            "order": null,
            "_view_module_version": "1.2.0",
            "grid_template_areas": null,
            "object_position": null,
            "object_fit": null,
            "grid_auto_columns": null,
            "margin": null,
            "display": null,
            "left": null
          }
        },
        "ccc93541142d48c1ab1e30b105835aef": {
          "model_module": "@jupyter-widgets/controls",
          "model_name": "HBoxModel",
          "model_module_version": "1.5.0",
          "state": {
            "_view_name": "HBoxView",
            "_dom_classes": [],
            "_model_name": "HBoxModel",
            "_view_module": "@jupyter-widgets/controls",
            "_model_module_version": "1.5.0",
            "_view_count": null,
            "_view_module_version": "1.5.0",
            "box_style": "",
            "layout": "IPY_MODEL_074564ff3db94a16872a08fde25a47a4",
            "_model_module": "@jupyter-widgets/controls",
            "children": [
              "IPY_MODEL_2a79e48d66924866b8b4ac8b3870a5bf",
              "IPY_MODEL_a697a6649148446c81e04228e284adab",
              "IPY_MODEL_d5d5df1de0d0464e800f3f0965f9c640"
            ]
          }
        },
        "074564ff3db94a16872a08fde25a47a4": {
          "model_module": "@jupyter-widgets/base",
          "model_name": "LayoutModel",
          "model_module_version": "1.2.0",
          "state": {
            "_view_name": "LayoutView",
            "grid_template_rows": null,
            "right": null,
            "justify_content": null,
            "_view_module": "@jupyter-widgets/base",
            "overflow": null,
            "_model_module_version": "1.2.0",
            "_view_count": null,
            "flex_flow": null,
            "width": null,
            "min_width": null,
            "border": null,
            "align_items": null,
            "bottom": null,
            "_model_module": "@jupyter-widgets/base",
            "top": null,
            "grid_column": null,
            "overflow_y": null,
            "overflow_x": null,
            "grid_auto_flow": null,
            "grid_area": null,
            "grid_template_columns": null,
            "flex": null,
            "_model_name": "LayoutModel",
            "justify_items": null,
            "grid_row": null,
            "max_height": null,
            "align_content": null,
            "visibility": null,
            "align_self": null,
            "height": null,
            "min_height": null,
            "padding": null,
            "grid_auto_rows": null,
            "grid_gap": null,
            "max_width": null,
            "order": null,
            "_view_module_version": "1.2.0",
            "grid_template_areas": null,
            "object_position": null,
            "object_fit": null,
            "grid_auto_columns": null,
            "margin": null,
            "display": null,
            "left": null
          }
        },
        "2a79e48d66924866b8b4ac8b3870a5bf": {
          "model_module": "@jupyter-widgets/controls",
          "model_name": "HTMLModel",
          "model_module_version": "1.5.0",
          "state": {
            "_view_name": "HTMLView",
            "style": "IPY_MODEL_be062be9ccd14a2eb2a2f0c5d0ce36be",
            "_dom_classes": [],
            "description": "",
            "_model_name": "HTMLModel",
            "placeholder": "​",
            "_view_module": "@jupyter-widgets/controls",
            "_model_module_version": "1.5.0",
            "value": "100%",
            "_view_count": null,
            "_view_module_version": "1.5.0",
            "description_tooltip": null,
            "_model_module": "@jupyter-widgets/controls",
            "layout": "IPY_MODEL_4369e6bacfd24d5791e192ceccdb79fa"
          }
        },
        "a697a6649148446c81e04228e284adab": {
          "model_module": "@jupyter-widgets/controls",
          "model_name": "FloatProgressModel",
          "model_module_version": "1.5.0",
          "state": {
            "_view_name": "ProgressView",
            "style": "IPY_MODEL_0e7a9690b90249999a5b6b876e84faea",
            "_dom_classes": [],
            "description": "",
            "_model_name": "FloatProgressModel",
            "bar_style": "success",
            "max": 5000,
            "_view_module": "@jupyter-widgets/controls",
            "_model_module_version": "1.5.0",
            "value": 5000,
            "_view_count": null,
            "_view_module_version": "1.5.0",
            "orientation": "horizontal",
            "min": 0,
            "description_tooltip": null,
            "_model_module": "@jupyter-widgets/controls",
            "layout": "IPY_MODEL_6d6493b8d5db40eeb2e761a093e84043"
          }
        },
        "d5d5df1de0d0464e800f3f0965f9c640": {
          "model_module": "@jupyter-widgets/controls",
          "model_name": "HTMLModel",
          "model_module_version": "1.5.0",
          "state": {
            "_view_name": "HTMLView",
            "style": "IPY_MODEL_b46f85f433cd4825b03255e024eb4807",
            "_dom_classes": [],
            "description": "",
            "_model_name": "HTMLModel",
            "placeholder": "​",
            "_view_module": "@jupyter-widgets/controls",
            "_model_module_version": "1.5.0",
            "value": " 5000/5000 [25:09&lt;00:00,  4.91s/it]",
            "_view_count": null,
            "_view_module_version": "1.5.0",
            "description_tooltip": null,
            "_model_module": "@jupyter-widgets/controls",
            "layout": "IPY_MODEL_66ca852ed5b848b5bc0c84739dc388e5"
          }
        },
        "be062be9ccd14a2eb2a2f0c5d0ce36be": {
          "model_module": "@jupyter-widgets/controls",
          "model_name": "DescriptionStyleModel",
          "model_module_version": "1.5.0",
          "state": {
            "_view_name": "StyleView",
            "_model_name": "DescriptionStyleModel",
            "description_width": "",
            "_view_module": "@jupyter-widgets/base",
            "_model_module_version": "1.5.0",
            "_view_count": null,
            "_view_module_version": "1.2.0",
            "_model_module": "@jupyter-widgets/controls"
          }
        },
        "4369e6bacfd24d5791e192ceccdb79fa": {
          "model_module": "@jupyter-widgets/base",
          "model_name": "LayoutModel",
          "model_module_version": "1.2.0",
          "state": {
            "_view_name": "LayoutView",
            "grid_template_rows": null,
            "right": null,
            "justify_content": null,
            "_view_module": "@jupyter-widgets/base",
            "overflow": null,
            "_model_module_version": "1.2.0",
            "_view_count": null,
            "flex_flow": null,
            "width": null,
            "min_width": null,
            "border": null,
            "align_items": null,
            "bottom": null,
            "_model_module": "@jupyter-widgets/base",
            "top": null,
            "grid_column": null,
            "overflow_y": null,
            "overflow_x": null,
            "grid_auto_flow": null,
            "grid_area": null,
            "grid_template_columns": null,
            "flex": null,
            "_model_name": "LayoutModel",
            "justify_items": null,
            "grid_row": null,
            "max_height": null,
            "align_content": null,
            "visibility": null,
            "align_self": null,
            "height": null,
            "min_height": null,
            "padding": null,
            "grid_auto_rows": null,
            "grid_gap": null,
            "max_width": null,
            "order": null,
            "_view_module_version": "1.2.0",
            "grid_template_areas": null,
            "object_position": null,
            "object_fit": null,
            "grid_auto_columns": null,
            "margin": null,
            "display": null,
            "left": null
          }
        },
        "0e7a9690b90249999a5b6b876e84faea": {
          "model_module": "@jupyter-widgets/controls",
          "model_name": "ProgressStyleModel",
          "model_module_version": "1.5.0",
          "state": {
            "_view_name": "StyleView",
            "_model_name": "ProgressStyleModel",
            "description_width": "",
            "_view_module": "@jupyter-widgets/base",
            "_model_module_version": "1.5.0",
            "_view_count": null,
            "_view_module_version": "1.2.0",
            "bar_color": null,
            "_model_module": "@jupyter-widgets/controls"
          }
        },
        "6d6493b8d5db40eeb2e761a093e84043": {
          "model_module": "@jupyter-widgets/base",
          "model_name": "LayoutModel",
          "model_module_version": "1.2.0",
          "state": {
            "_view_name": "LayoutView",
            "grid_template_rows": null,
            "right": null,
            "justify_content": null,
            "_view_module": "@jupyter-widgets/base",
            "overflow": null,
            "_model_module_version": "1.2.0",
            "_view_count": null,
            "flex_flow": null,
            "width": null,
            "min_width": null,
            "border": null,
            "align_items": null,
            "bottom": null,
            "_model_module": "@jupyter-widgets/base",
            "top": null,
            "grid_column": null,
            "overflow_y": null,
            "overflow_x": null,
            "grid_auto_flow": null,
            "grid_area": null,
            "grid_template_columns": null,
            "flex": null,
            "_model_name": "LayoutModel",
            "justify_items": null,
            "grid_row": null,
            "max_height": null,
            "align_content": null,
            "visibility": null,
            "align_self": null,
            "height": null,
            "min_height": null,
            "padding": null,
            "grid_auto_rows": null,
            "grid_gap": null,
            "max_width": null,
            "order": null,
            "_view_module_version": "1.2.0",
            "grid_template_areas": null,
            "object_position": null,
            "object_fit": null,
            "grid_auto_columns": null,
            "margin": null,
            "display": null,
            "left": null
          }
        },
        "b46f85f433cd4825b03255e024eb4807": {
          "model_module": "@jupyter-widgets/controls",
          "model_name": "DescriptionStyleModel",
          "model_module_version": "1.5.0",
          "state": {
            "_view_name": "StyleView",
            "_model_name": "DescriptionStyleModel",
            "description_width": "",
            "_view_module": "@jupyter-widgets/base",
            "_model_module_version": "1.5.0",
            "_view_count": null,
            "_view_module_version": "1.2.0",
            "_model_module": "@jupyter-widgets/controls"
          }
        },
        "66ca852ed5b848b5bc0c84739dc388e5": {
          "model_module": "@jupyter-widgets/base",
          "model_name": "LayoutModel",
          "model_module_version": "1.2.0",
          "state": {
            "_view_name": "LayoutView",
            "grid_template_rows": null,
            "right": null,
            "justify_content": null,
            "_view_module": "@jupyter-widgets/base",
            "overflow": null,
            "_model_module_version": "1.2.0",
            "_view_count": null,
            "flex_flow": null,
            "width": null,
            "min_width": null,
            "border": null,
            "align_items": null,
            "bottom": null,
            "_model_module": "@jupyter-widgets/base",
            "top": null,
            "grid_column": null,
            "overflow_y": null,
            "overflow_x": null,
            "grid_auto_flow": null,
            "grid_area": null,
            "grid_template_columns": null,
            "flex": null,
            "_model_name": "LayoutModel",
            "justify_items": null,
            "grid_row": null,
            "max_height": null,
            "align_content": null,
            "visibility": null,
            "align_self": null,
            "height": null,
            "min_height": null,
            "padding": null,
            "grid_auto_rows": null,
            "grid_gap": null,
            "max_width": null,
            "order": null,
            "_view_module_version": "1.2.0",
            "grid_template_areas": null,
            "object_position": null,
            "object_fit": null,
            "grid_auto_columns": null,
            "margin": null,
            "display": null,
            "left": null
          }
        },
        "c17d6c600aa54b928ea0a006293fb1d6": {
          "model_module": "@jupyter-widgets/controls",
          "model_name": "HBoxModel",
          "model_module_version": "1.5.0",
          "state": {
            "_view_name": "HBoxView",
            "_dom_classes": [],
            "_model_name": "HBoxModel",
            "_view_module": "@jupyter-widgets/controls",
            "_model_module_version": "1.5.0",
            "_view_count": null,
            "_view_module_version": "1.5.0",
            "box_style": "",
            "layout": "IPY_MODEL_b09cdee16dd74bd992cc89c94890bcff",
            "_model_module": "@jupyter-widgets/controls",
            "children": [
              "IPY_MODEL_dac87a24067a4bfd9b6a7bfbb7c3ad75",
              "IPY_MODEL_5e0c172e79a449bba2a61553c8da2f0d",
              "IPY_MODEL_770ec6b9e24f4872abcbc404207901d5"
            ]
          }
        },
        "b09cdee16dd74bd992cc89c94890bcff": {
          "model_module": "@jupyter-widgets/base",
          "model_name": "LayoutModel",
          "model_module_version": "1.2.0",
          "state": {
            "_view_name": "LayoutView",
            "grid_template_rows": null,
            "right": null,
            "justify_content": null,
            "_view_module": "@jupyter-widgets/base",
            "overflow": null,
            "_model_module_version": "1.2.0",
            "_view_count": null,
            "flex_flow": null,
            "width": null,
            "min_width": null,
            "border": null,
            "align_items": null,
            "bottom": null,
            "_model_module": "@jupyter-widgets/base",
            "top": null,
            "grid_column": null,
            "overflow_y": null,
            "overflow_x": null,
            "grid_auto_flow": null,
            "grid_area": null,
            "grid_template_columns": null,
            "flex": null,
            "_model_name": "LayoutModel",
            "justify_items": null,
            "grid_row": null,
            "max_height": null,
            "align_content": null,
            "visibility": null,
            "align_self": null,
            "height": null,
            "min_height": null,
            "padding": null,
            "grid_auto_rows": null,
            "grid_gap": null,
            "max_width": null,
            "order": null,
            "_view_module_version": "1.2.0",
            "grid_template_areas": null,
            "object_position": null,
            "object_fit": null,
            "grid_auto_columns": null,
            "margin": null,
            "display": null,
            "left": null
          }
        },
        "dac87a24067a4bfd9b6a7bfbb7c3ad75": {
          "model_module": "@jupyter-widgets/controls",
          "model_name": "HTMLModel",
          "model_module_version": "1.5.0",
          "state": {
            "_view_name": "HTMLView",
            "style": "IPY_MODEL_40d6963dfd11416f9aef6ffaa0453aae",
            "_dom_classes": [],
            "description": "",
            "_model_name": "HTMLModel",
            "placeholder": "​",
            "_view_module": "@jupyter-widgets/controls",
            "_model_module_version": "1.5.0",
            "value": "100%",
            "_view_count": null,
            "_view_module_version": "1.5.0",
            "description_tooltip": null,
            "_model_module": "@jupyter-widgets/controls",
            "layout": "IPY_MODEL_37d1faee4e0c4b37a4c41bbbb7dba0f2"
          }
        },
        "5e0c172e79a449bba2a61553c8da2f0d": {
          "model_module": "@jupyter-widgets/controls",
          "model_name": "FloatProgressModel",
          "model_module_version": "1.5.0",
          "state": {
            "_view_name": "ProgressView",
            "style": "IPY_MODEL_fd7b42df370345fb8f9d8bb7c3516732",
            "_dom_classes": [],
            "description": "",
            "_model_name": "FloatProgressModel",
            "bar_style": "success",
            "max": 5000,
            "_view_module": "@jupyter-widgets/controls",
            "_model_module_version": "1.5.0",
            "value": 5000,
            "_view_count": null,
            "_view_module_version": "1.5.0",
            "orientation": "horizontal",
            "min": 0,
            "description_tooltip": null,
            "_model_module": "@jupyter-widgets/controls",
            "layout": "IPY_MODEL_d41f09bc7b694b71bb648d1cab6cc9f0"
          }
        },
        "770ec6b9e24f4872abcbc404207901d5": {
          "model_module": "@jupyter-widgets/controls",
          "model_name": "HTMLModel",
          "model_module_version": "1.5.0",
          "state": {
            "_view_name": "HTMLView",
            "style": "IPY_MODEL_e9c8174529364ba1bc6f63cda70ad862",
            "_dom_classes": [],
            "description": "",
            "_model_name": "HTMLModel",
            "placeholder": "​",
            "_view_module": "@jupyter-widgets/controls",
            "_model_module_version": "1.5.0",
            "value": " 5000/5000 [24:40&lt;00:00,  4.94s/it]",
            "_view_count": null,
            "_view_module_version": "1.5.0",
            "description_tooltip": null,
            "_model_module": "@jupyter-widgets/controls",
            "layout": "IPY_MODEL_61488440291b4e69ba1069319ee3afee"
          }
        },
        "40d6963dfd11416f9aef6ffaa0453aae": {
          "model_module": "@jupyter-widgets/controls",
          "model_name": "DescriptionStyleModel",
          "model_module_version": "1.5.0",
          "state": {
            "_view_name": "StyleView",
            "_model_name": "DescriptionStyleModel",
            "description_width": "",
            "_view_module": "@jupyter-widgets/base",
            "_model_module_version": "1.5.0",
            "_view_count": null,
            "_view_module_version": "1.2.0",
            "_model_module": "@jupyter-widgets/controls"
          }
        },
        "37d1faee4e0c4b37a4c41bbbb7dba0f2": {
          "model_module": "@jupyter-widgets/base",
          "model_name": "LayoutModel",
          "model_module_version": "1.2.0",
          "state": {
            "_view_name": "LayoutView",
            "grid_template_rows": null,
            "right": null,
            "justify_content": null,
            "_view_module": "@jupyter-widgets/base",
            "overflow": null,
            "_model_module_version": "1.2.0",
            "_view_count": null,
            "flex_flow": null,
            "width": null,
            "min_width": null,
            "border": null,
            "align_items": null,
            "bottom": null,
            "_model_module": "@jupyter-widgets/base",
            "top": null,
            "grid_column": null,
            "overflow_y": null,
            "overflow_x": null,
            "grid_auto_flow": null,
            "grid_area": null,
            "grid_template_columns": null,
            "flex": null,
            "_model_name": "LayoutModel",
            "justify_items": null,
            "grid_row": null,
            "max_height": null,
            "align_content": null,
            "visibility": null,
            "align_self": null,
            "height": null,
            "min_height": null,
            "padding": null,
            "grid_auto_rows": null,
            "grid_gap": null,
            "max_width": null,
            "order": null,
            "_view_module_version": "1.2.0",
            "grid_template_areas": null,
            "object_position": null,
            "object_fit": null,
            "grid_auto_columns": null,
            "margin": null,
            "display": null,
            "left": null
          }
        },
        "fd7b42df370345fb8f9d8bb7c3516732": {
          "model_module": "@jupyter-widgets/controls",
          "model_name": "ProgressStyleModel",
          "model_module_version": "1.5.0",
          "state": {
            "_view_name": "StyleView",
            "_model_name": "ProgressStyleModel",
            "description_width": "",
            "_view_module": "@jupyter-widgets/base",
            "_model_module_version": "1.5.0",
            "_view_count": null,
            "_view_module_version": "1.2.0",
            "bar_color": null,
            "_model_module": "@jupyter-widgets/controls"
          }
        },
        "d41f09bc7b694b71bb648d1cab6cc9f0": {
          "model_module": "@jupyter-widgets/base",
          "model_name": "LayoutModel",
          "model_module_version": "1.2.0",
          "state": {
            "_view_name": "LayoutView",
            "grid_template_rows": null,
            "right": null,
            "justify_content": null,
            "_view_module": "@jupyter-widgets/base",
            "overflow": null,
            "_model_module_version": "1.2.0",
            "_view_count": null,
            "flex_flow": null,
            "width": null,
            "min_width": null,
            "border": null,
            "align_items": null,
            "bottom": null,
            "_model_module": "@jupyter-widgets/base",
            "top": null,
            "grid_column": null,
            "overflow_y": null,
            "overflow_x": null,
            "grid_auto_flow": null,
            "grid_area": null,
            "grid_template_columns": null,
            "flex": null,
            "_model_name": "LayoutModel",
            "justify_items": null,
            "grid_row": null,
            "max_height": null,
            "align_content": null,
            "visibility": null,
            "align_self": null,
            "height": null,
            "min_height": null,
            "padding": null,
            "grid_auto_rows": null,
            "grid_gap": null,
            "max_width": null,
            "order": null,
            "_view_module_version": "1.2.0",
            "grid_template_areas": null,
            "object_position": null,
            "object_fit": null,
            "grid_auto_columns": null,
            "margin": null,
            "display": null,
            "left": null
          }
        },
        "e9c8174529364ba1bc6f63cda70ad862": {
          "model_module": "@jupyter-widgets/controls",
          "model_name": "DescriptionStyleModel",
          "model_module_version": "1.5.0",
          "state": {
            "_view_name": "StyleView",
            "_model_name": "DescriptionStyleModel",
            "description_width": "",
            "_view_module": "@jupyter-widgets/base",
            "_model_module_version": "1.5.0",
            "_view_count": null,
            "_view_module_version": "1.2.0",
            "_model_module": "@jupyter-widgets/controls"
          }
        },
        "61488440291b4e69ba1069319ee3afee": {
          "model_module": "@jupyter-widgets/base",
          "model_name": "LayoutModel",
          "model_module_version": "1.2.0",
          "state": {
            "_view_name": "LayoutView",
            "grid_template_rows": null,
            "right": null,
            "justify_content": null,
            "_view_module": "@jupyter-widgets/base",
            "overflow": null,
            "_model_module_version": "1.2.0",
            "_view_count": null,
            "flex_flow": null,
            "width": null,
            "min_width": null,
            "border": null,
            "align_items": null,
            "bottom": null,
            "_model_module": "@jupyter-widgets/base",
            "top": null,
            "grid_column": null,
            "overflow_y": null,
            "overflow_x": null,
            "grid_auto_flow": null,
            "grid_area": null,
            "grid_template_columns": null,
            "flex": null,
            "_model_name": "LayoutModel",
            "justify_items": null,
            "grid_row": null,
            "max_height": null,
            "align_content": null,
            "visibility": null,
            "align_self": null,
            "height": null,
            "min_height": null,
            "padding": null,
            "grid_auto_rows": null,
            "grid_gap": null,
            "max_width": null,
            "order": null,
            "_view_module_version": "1.2.0",
            "grid_template_areas": null,
            "object_position": null,
            "object_fit": null,
            "grid_auto_columns": null,
            "margin": null,
            "display": null,
            "left": null
          }
        },
        "98340709a1944955b886d2a1cbf81748": {
          "model_module": "@jupyter-widgets/controls",
          "model_name": "HBoxModel",
          "model_module_version": "1.5.0",
          "state": {
            "_view_name": "HBoxView",
            "_dom_classes": [],
            "_model_name": "HBoxModel",
            "_view_module": "@jupyter-widgets/controls",
            "_model_module_version": "1.5.0",
            "_view_count": null,
            "_view_module_version": "1.5.0",
            "box_style": "",
            "layout": "IPY_MODEL_f2b3ac6397a34e569d5188daeacece9b",
            "_model_module": "@jupyter-widgets/controls",
            "children": [
              "IPY_MODEL_ef5338efc43e464680180a4e36d026a5",
              "IPY_MODEL_8fc792f8d7414ead89cd0bc2d17eecc5",
              "IPY_MODEL_33b451c1ca7a471d8201e8e41bf51182"
            ]
          }
        },
        "f2b3ac6397a34e569d5188daeacece9b": {
          "model_module": "@jupyter-widgets/base",
          "model_name": "LayoutModel",
          "model_module_version": "1.2.0",
          "state": {
            "_view_name": "LayoutView",
            "grid_template_rows": null,
            "right": null,
            "justify_content": null,
            "_view_module": "@jupyter-widgets/base",
            "overflow": null,
            "_model_module_version": "1.2.0",
            "_view_count": null,
            "flex_flow": null,
            "width": null,
            "min_width": null,
            "border": null,
            "align_items": null,
            "bottom": null,
            "_model_module": "@jupyter-widgets/base",
            "top": null,
            "grid_column": null,
            "overflow_y": null,
            "overflow_x": null,
            "grid_auto_flow": null,
            "grid_area": null,
            "grid_template_columns": null,
            "flex": null,
            "_model_name": "LayoutModel",
            "justify_items": null,
            "grid_row": null,
            "max_height": null,
            "align_content": null,
            "visibility": null,
            "align_self": null,
            "height": null,
            "min_height": null,
            "padding": null,
            "grid_auto_rows": null,
            "grid_gap": null,
            "max_width": null,
            "order": null,
            "_view_module_version": "1.2.0",
            "grid_template_areas": null,
            "object_position": null,
            "object_fit": null,
            "grid_auto_columns": null,
            "margin": null,
            "display": null,
            "left": null
          }
        },
        "ef5338efc43e464680180a4e36d026a5": {
          "model_module": "@jupyter-widgets/controls",
          "model_name": "HTMLModel",
          "model_module_version": "1.5.0",
          "state": {
            "_view_name": "HTMLView",
            "style": "IPY_MODEL_8851d9f92bbd42fa9024c4cd11a89652",
            "_dom_classes": [],
            "description": "",
            "_model_name": "HTMLModel",
            "placeholder": "​",
            "_view_module": "@jupyter-widgets/controls",
            "_model_module_version": "1.5.0",
            "value": "100%",
            "_view_count": null,
            "_view_module_version": "1.5.0",
            "description_tooltip": null,
            "_model_module": "@jupyter-widgets/controls",
            "layout": "IPY_MODEL_65237deb43dc40c9a759c63e7ca6846c"
          }
        },
        "8fc792f8d7414ead89cd0bc2d17eecc5": {
          "model_module": "@jupyter-widgets/controls",
          "model_name": "FloatProgressModel",
          "model_module_version": "1.5.0",
          "state": {
            "_view_name": "ProgressView",
            "style": "IPY_MODEL_f5f699685612446188a7ce481ba3b5d0",
            "_dom_classes": [],
            "description": "",
            "_model_name": "FloatProgressModel",
            "bar_style": "success",
            "max": 5000,
            "_view_module": "@jupyter-widgets/controls",
            "_model_module_version": "1.5.0",
            "value": 5000,
            "_view_count": null,
            "_view_module_version": "1.5.0",
            "orientation": "horizontal",
            "min": 0,
            "description_tooltip": null,
            "_model_module": "@jupyter-widgets/controls",
            "layout": "IPY_MODEL_2e1ab352d06b49bb9f1ecd0804acfa5d"
          }
        },
        "33b451c1ca7a471d8201e8e41bf51182": {
          "model_module": "@jupyter-widgets/controls",
          "model_name": "HTMLModel",
          "model_module_version": "1.5.0",
          "state": {
            "_view_name": "HTMLView",
            "style": "IPY_MODEL_8eba7129ed6f4e689be3d454b89d60dc",
            "_dom_classes": [],
            "description": "",
            "_model_name": "HTMLModel",
            "placeholder": "​",
            "_view_module": "@jupyter-widgets/controls",
            "_model_module_version": "1.5.0",
            "value": " 5000/5000 [24:25&lt;00:00,  4.62s/it]",
            "_view_count": null,
            "_view_module_version": "1.5.0",
            "description_tooltip": null,
            "_model_module": "@jupyter-widgets/controls",
            "layout": "IPY_MODEL_f71ae9b2eb0a417e87734e3a296e9346"
          }
        },
        "8851d9f92bbd42fa9024c4cd11a89652": {
          "model_module": "@jupyter-widgets/controls",
          "model_name": "DescriptionStyleModel",
          "model_module_version": "1.5.0",
          "state": {
            "_view_name": "StyleView",
            "_model_name": "DescriptionStyleModel",
            "description_width": "",
            "_view_module": "@jupyter-widgets/base",
            "_model_module_version": "1.5.0",
            "_view_count": null,
            "_view_module_version": "1.2.0",
            "_model_module": "@jupyter-widgets/controls"
          }
        },
        "65237deb43dc40c9a759c63e7ca6846c": {
          "model_module": "@jupyter-widgets/base",
          "model_name": "LayoutModel",
          "model_module_version": "1.2.0",
          "state": {
            "_view_name": "LayoutView",
            "grid_template_rows": null,
            "right": null,
            "justify_content": null,
            "_view_module": "@jupyter-widgets/base",
            "overflow": null,
            "_model_module_version": "1.2.0",
            "_view_count": null,
            "flex_flow": null,
            "width": null,
            "min_width": null,
            "border": null,
            "align_items": null,
            "bottom": null,
            "_model_module": "@jupyter-widgets/base",
            "top": null,
            "grid_column": null,
            "overflow_y": null,
            "overflow_x": null,
            "grid_auto_flow": null,
            "grid_area": null,
            "grid_template_columns": null,
            "flex": null,
            "_model_name": "LayoutModel",
            "justify_items": null,
            "grid_row": null,
            "max_height": null,
            "align_content": null,
            "visibility": null,
            "align_self": null,
            "height": null,
            "min_height": null,
            "padding": null,
            "grid_auto_rows": null,
            "grid_gap": null,
            "max_width": null,
            "order": null,
            "_view_module_version": "1.2.0",
            "grid_template_areas": null,
            "object_position": null,
            "object_fit": null,
            "grid_auto_columns": null,
            "margin": null,
            "display": null,
            "left": null
          }
        },
        "f5f699685612446188a7ce481ba3b5d0": {
          "model_module": "@jupyter-widgets/controls",
          "model_name": "ProgressStyleModel",
          "model_module_version": "1.5.0",
          "state": {
            "_view_name": "StyleView",
            "_model_name": "ProgressStyleModel",
            "description_width": "",
            "_view_module": "@jupyter-widgets/base",
            "_model_module_version": "1.5.0",
            "_view_count": null,
            "_view_module_version": "1.2.0",
            "bar_color": null,
            "_model_module": "@jupyter-widgets/controls"
          }
        },
        "2e1ab352d06b49bb9f1ecd0804acfa5d": {
          "model_module": "@jupyter-widgets/base",
          "model_name": "LayoutModel",
          "model_module_version": "1.2.0",
          "state": {
            "_view_name": "LayoutView",
            "grid_template_rows": null,
            "right": null,
            "justify_content": null,
            "_view_module": "@jupyter-widgets/base",
            "overflow": null,
            "_model_module_version": "1.2.0",
            "_view_count": null,
            "flex_flow": null,
            "width": null,
            "min_width": null,
            "border": null,
            "align_items": null,
            "bottom": null,
            "_model_module": "@jupyter-widgets/base",
            "top": null,
            "grid_column": null,
            "overflow_y": null,
            "overflow_x": null,
            "grid_auto_flow": null,
            "grid_area": null,
            "grid_template_columns": null,
            "flex": null,
            "_model_name": "LayoutModel",
            "justify_items": null,
            "grid_row": null,
            "max_height": null,
            "align_content": null,
            "visibility": null,
            "align_self": null,
            "height": null,
            "min_height": null,
            "padding": null,
            "grid_auto_rows": null,
            "grid_gap": null,
            "max_width": null,
            "order": null,
            "_view_module_version": "1.2.0",
            "grid_template_areas": null,
            "object_position": null,
            "object_fit": null,
            "grid_auto_columns": null,
            "margin": null,
            "display": null,
            "left": null
          }
        },
        "8eba7129ed6f4e689be3d454b89d60dc": {
          "model_module": "@jupyter-widgets/controls",
          "model_name": "DescriptionStyleModel",
          "model_module_version": "1.5.0",
          "state": {
            "_view_name": "StyleView",
            "_model_name": "DescriptionStyleModel",
            "description_width": "",
            "_view_module": "@jupyter-widgets/base",
            "_model_module_version": "1.5.0",
            "_view_count": null,
            "_view_module_version": "1.2.0",
            "_model_module": "@jupyter-widgets/controls"
          }
        },
        "f71ae9b2eb0a417e87734e3a296e9346": {
          "model_module": "@jupyter-widgets/base",
          "model_name": "LayoutModel",
          "model_module_version": "1.2.0",
          "state": {
            "_view_name": "LayoutView",
            "grid_template_rows": null,
            "right": null,
            "justify_content": null,
            "_view_module": "@jupyter-widgets/base",
            "overflow": null,
            "_model_module_version": "1.2.0",
            "_view_count": null,
            "flex_flow": null,
            "width": null,
            "min_width": null,
            "border": null,
            "align_items": null,
            "bottom": null,
            "_model_module": "@jupyter-widgets/base",
            "top": null,
            "grid_column": null,
            "overflow_y": null,
            "overflow_x": null,
            "grid_auto_flow": null,
            "grid_area": null,
            "grid_template_columns": null,
            "flex": null,
            "_model_name": "LayoutModel",
            "justify_items": null,
            "grid_row": null,
            "max_height": null,
            "align_content": null,
            "visibility": null,
            "align_self": null,
            "height": null,
            "min_height": null,
            "padding": null,
            "grid_auto_rows": null,
            "grid_gap": null,
            "max_width": null,
            "order": null,
            "_view_module_version": "1.2.0",
            "grid_template_areas": null,
            "object_position": null,
            "object_fit": null,
            "grid_auto_columns": null,
            "margin": null,
            "display": null,
            "left": null
          }
        },
        "ae32609603414d11a22ae5bc096d2462": {
          "model_module": "@jupyter-widgets/controls",
          "model_name": "HBoxModel",
          "model_module_version": "1.5.0",
          "state": {
            "_view_name": "HBoxView",
            "_dom_classes": [],
            "_model_name": "HBoxModel",
            "_view_module": "@jupyter-widgets/controls",
            "_model_module_version": "1.5.0",
            "_view_count": null,
            "_view_module_version": "1.5.0",
            "box_style": "",
            "layout": "IPY_MODEL_296bfdd4c60f490a9af97f3b1579fb53",
            "_model_module": "@jupyter-widgets/controls",
            "children": [
              "IPY_MODEL_52d11c0391a24bd98e83fb98ca84b715",
              "IPY_MODEL_e72fcff3e08b4d9d9fd0b1447783169b",
              "IPY_MODEL_33ff2de8c1784a6d86f3e601087e05f4"
            ]
          }
        },
        "296bfdd4c60f490a9af97f3b1579fb53": {
          "model_module": "@jupyter-widgets/base",
          "model_name": "LayoutModel",
          "model_module_version": "1.2.0",
          "state": {
            "_view_name": "LayoutView",
            "grid_template_rows": null,
            "right": null,
            "justify_content": null,
            "_view_module": "@jupyter-widgets/base",
            "overflow": null,
            "_model_module_version": "1.2.0",
            "_view_count": null,
            "flex_flow": null,
            "width": null,
            "min_width": null,
            "border": null,
            "align_items": null,
            "bottom": null,
            "_model_module": "@jupyter-widgets/base",
            "top": null,
            "grid_column": null,
            "overflow_y": null,
            "overflow_x": null,
            "grid_auto_flow": null,
            "grid_area": null,
            "grid_template_columns": null,
            "flex": null,
            "_model_name": "LayoutModel",
            "justify_items": null,
            "grid_row": null,
            "max_height": null,
            "align_content": null,
            "visibility": null,
            "align_self": null,
            "height": null,
            "min_height": null,
            "padding": null,
            "grid_auto_rows": null,
            "grid_gap": null,
            "max_width": null,
            "order": null,
            "_view_module_version": "1.2.0",
            "grid_template_areas": null,
            "object_position": null,
            "object_fit": null,
            "grid_auto_columns": null,
            "margin": null,
            "display": null,
            "left": null
          }
        },
        "52d11c0391a24bd98e83fb98ca84b715": {
          "model_module": "@jupyter-widgets/controls",
          "model_name": "HTMLModel",
          "model_module_version": "1.5.0",
          "state": {
            "_view_name": "HTMLView",
            "style": "IPY_MODEL_7d388a8060a64a9f953f00d4a7404c08",
            "_dom_classes": [],
            "description": "",
            "_model_name": "HTMLModel",
            "placeholder": "​",
            "_view_module": "@jupyter-widgets/controls",
            "_model_module_version": "1.5.0",
            "value": "100%",
            "_view_count": null,
            "_view_module_version": "1.5.0",
            "description_tooltip": null,
            "_model_module": "@jupyter-widgets/controls",
            "layout": "IPY_MODEL_2e13790999714b66b64a31826ca97f89"
          }
        },
        "e72fcff3e08b4d9d9fd0b1447783169b": {
          "model_module": "@jupyter-widgets/controls",
          "model_name": "FloatProgressModel",
          "model_module_version": "1.5.0",
          "state": {
            "_view_name": "ProgressView",
            "style": "IPY_MODEL_bd836ad3470a4bc9bf58b7cbe6b20b37",
            "_dom_classes": [],
            "description": "",
            "_model_name": "FloatProgressModel",
            "bar_style": "success",
            "max": 5000,
            "_view_module": "@jupyter-widgets/controls",
            "_model_module_version": "1.5.0",
            "value": 5000,
            "_view_count": null,
            "_view_module_version": "1.5.0",
            "orientation": "horizontal",
            "min": 0,
            "description_tooltip": null,
            "_model_module": "@jupyter-widgets/controls",
            "layout": "IPY_MODEL_451ba4e77cab4655ab609f94dae73f0c"
          }
        },
        "33ff2de8c1784a6d86f3e601087e05f4": {
          "model_module": "@jupyter-widgets/controls",
          "model_name": "HTMLModel",
          "model_module_version": "1.5.0",
          "state": {
            "_view_name": "HTMLView",
            "style": "IPY_MODEL_c4c1eb77f89e4263b120235e76e67bcb",
            "_dom_classes": [],
            "description": "",
            "_model_name": "HTMLModel",
            "placeholder": "​",
            "_view_module": "@jupyter-widgets/controls",
            "_model_module_version": "1.5.0",
            "value": " 5000/5000 [24:41&lt;00:00,  4.66s/it]",
            "_view_count": null,
            "_view_module_version": "1.5.0",
            "description_tooltip": null,
            "_model_module": "@jupyter-widgets/controls",
            "layout": "IPY_MODEL_f2aabba5d3da4b3297167239655d840f"
          }
        },
        "7d388a8060a64a9f953f00d4a7404c08": {
          "model_module": "@jupyter-widgets/controls",
          "model_name": "DescriptionStyleModel",
          "model_module_version": "1.5.0",
          "state": {
            "_view_name": "StyleView",
            "_model_name": "DescriptionStyleModel",
            "description_width": "",
            "_view_module": "@jupyter-widgets/base",
            "_model_module_version": "1.5.0",
            "_view_count": null,
            "_view_module_version": "1.2.0",
            "_model_module": "@jupyter-widgets/controls"
          }
        },
        "2e13790999714b66b64a31826ca97f89": {
          "model_module": "@jupyter-widgets/base",
          "model_name": "LayoutModel",
          "model_module_version": "1.2.0",
          "state": {
            "_view_name": "LayoutView",
            "grid_template_rows": null,
            "right": null,
            "justify_content": null,
            "_view_module": "@jupyter-widgets/base",
            "overflow": null,
            "_model_module_version": "1.2.0",
            "_view_count": null,
            "flex_flow": null,
            "width": null,
            "min_width": null,
            "border": null,
            "align_items": null,
            "bottom": null,
            "_model_module": "@jupyter-widgets/base",
            "top": null,
            "grid_column": null,
            "overflow_y": null,
            "overflow_x": null,
            "grid_auto_flow": null,
            "grid_area": null,
            "grid_template_columns": null,
            "flex": null,
            "_model_name": "LayoutModel",
            "justify_items": null,
            "grid_row": null,
            "max_height": null,
            "align_content": null,
            "visibility": null,
            "align_self": null,
            "height": null,
            "min_height": null,
            "padding": null,
            "grid_auto_rows": null,
            "grid_gap": null,
            "max_width": null,
            "order": null,
            "_view_module_version": "1.2.0",
            "grid_template_areas": null,
            "object_position": null,
            "object_fit": null,
            "grid_auto_columns": null,
            "margin": null,
            "display": null,
            "left": null
          }
        },
        "bd836ad3470a4bc9bf58b7cbe6b20b37": {
          "model_module": "@jupyter-widgets/controls",
          "model_name": "ProgressStyleModel",
          "model_module_version": "1.5.0",
          "state": {
            "_view_name": "StyleView",
            "_model_name": "ProgressStyleModel",
            "description_width": "",
            "_view_module": "@jupyter-widgets/base",
            "_model_module_version": "1.5.0",
            "_view_count": null,
            "_view_module_version": "1.2.0",
            "bar_color": null,
            "_model_module": "@jupyter-widgets/controls"
          }
        },
        "451ba4e77cab4655ab609f94dae73f0c": {
          "model_module": "@jupyter-widgets/base",
          "model_name": "LayoutModel",
          "model_module_version": "1.2.0",
          "state": {
            "_view_name": "LayoutView",
            "grid_template_rows": null,
            "right": null,
            "justify_content": null,
            "_view_module": "@jupyter-widgets/base",
            "overflow": null,
            "_model_module_version": "1.2.0",
            "_view_count": null,
            "flex_flow": null,
            "width": null,
            "min_width": null,
            "border": null,
            "align_items": null,
            "bottom": null,
            "_model_module": "@jupyter-widgets/base",
            "top": null,
            "grid_column": null,
            "overflow_y": null,
            "overflow_x": null,
            "grid_auto_flow": null,
            "grid_area": null,
            "grid_template_columns": null,
            "flex": null,
            "_model_name": "LayoutModel",
            "justify_items": null,
            "grid_row": null,
            "max_height": null,
            "align_content": null,
            "visibility": null,
            "align_self": null,
            "height": null,
            "min_height": null,
            "padding": null,
            "grid_auto_rows": null,
            "grid_gap": null,
            "max_width": null,
            "order": null,
            "_view_module_version": "1.2.0",
            "grid_template_areas": null,
            "object_position": null,
            "object_fit": null,
            "grid_auto_columns": null,
            "margin": null,
            "display": null,
            "left": null
          }
        },
        "c4c1eb77f89e4263b120235e76e67bcb": {
          "model_module": "@jupyter-widgets/controls",
          "model_name": "DescriptionStyleModel",
          "model_module_version": "1.5.0",
          "state": {
            "_view_name": "StyleView",
            "_model_name": "DescriptionStyleModel",
            "description_width": "",
            "_view_module": "@jupyter-widgets/base",
            "_model_module_version": "1.5.0",
            "_view_count": null,
            "_view_module_version": "1.2.0",
            "_model_module": "@jupyter-widgets/controls"
          }
        },
        "f2aabba5d3da4b3297167239655d840f": {
          "model_module": "@jupyter-widgets/base",
          "model_name": "LayoutModel",
          "model_module_version": "1.2.0",
          "state": {
            "_view_name": "LayoutView",
            "grid_template_rows": null,
            "right": null,
            "justify_content": null,
            "_view_module": "@jupyter-widgets/base",
            "overflow": null,
            "_model_module_version": "1.2.0",
            "_view_count": null,
            "flex_flow": null,
            "width": null,
            "min_width": null,
            "border": null,
            "align_items": null,
            "bottom": null,
            "_model_module": "@jupyter-widgets/base",
            "top": null,
            "grid_column": null,
            "overflow_y": null,
            "overflow_x": null,
            "grid_auto_flow": null,
            "grid_area": null,
            "grid_template_columns": null,
            "flex": null,
            "_model_name": "LayoutModel",
            "justify_items": null,
            "grid_row": null,
            "max_height": null,
            "align_content": null,
            "visibility": null,
            "align_self": null,
            "height": null,
            "min_height": null,
            "padding": null,
            "grid_auto_rows": null,
            "grid_gap": null,
            "max_width": null,
            "order": null,
            "_view_module_version": "1.2.0",
            "grid_template_areas": null,
            "object_position": null,
            "object_fit": null,
            "grid_auto_columns": null,
            "margin": null,
            "display": null,
            "left": null
          }
        },
        "2d2049644d424b5e894760fc525e888f": {
          "model_module": "@jupyter-widgets/controls",
          "model_name": "HBoxModel",
          "model_module_version": "1.5.0",
          "state": {
            "_view_name": "HBoxView",
            "_dom_classes": [],
            "_model_name": "HBoxModel",
            "_view_module": "@jupyter-widgets/controls",
            "_model_module_version": "1.5.0",
            "_view_count": null,
            "_view_module_version": "1.5.0",
            "box_style": "",
            "layout": "IPY_MODEL_78abb611550c4170a0d8908df589f904",
            "_model_module": "@jupyter-widgets/controls",
            "children": [
              "IPY_MODEL_2e42f26a93bd43a0a3fefcf946afc983",
              "IPY_MODEL_0903309eb06f41168d2046ebcb8395ab",
              "IPY_MODEL_8904786b8130401c9892c71fb360276c"
            ]
          }
        },
        "78abb611550c4170a0d8908df589f904": {
          "model_module": "@jupyter-widgets/base",
          "model_name": "LayoutModel",
          "model_module_version": "1.2.0",
          "state": {
            "_view_name": "LayoutView",
            "grid_template_rows": null,
            "right": null,
            "justify_content": null,
            "_view_module": "@jupyter-widgets/base",
            "overflow": null,
            "_model_module_version": "1.2.0",
            "_view_count": null,
            "flex_flow": null,
            "width": null,
            "min_width": null,
            "border": null,
            "align_items": null,
            "bottom": null,
            "_model_module": "@jupyter-widgets/base",
            "top": null,
            "grid_column": null,
            "overflow_y": null,
            "overflow_x": null,
            "grid_auto_flow": null,
            "grid_area": null,
            "grid_template_columns": null,
            "flex": null,
            "_model_name": "LayoutModel",
            "justify_items": null,
            "grid_row": null,
            "max_height": null,
            "align_content": null,
            "visibility": null,
            "align_self": null,
            "height": null,
            "min_height": null,
            "padding": null,
            "grid_auto_rows": null,
            "grid_gap": null,
            "max_width": null,
            "order": null,
            "_view_module_version": "1.2.0",
            "grid_template_areas": null,
            "object_position": null,
            "object_fit": null,
            "grid_auto_columns": null,
            "margin": null,
            "display": null,
            "left": null
          }
        },
        "2e42f26a93bd43a0a3fefcf946afc983": {
          "model_module": "@jupyter-widgets/controls",
          "model_name": "HTMLModel",
          "model_module_version": "1.5.0",
          "state": {
            "_view_name": "HTMLView",
            "style": "IPY_MODEL_38ae165f6c664b2cb06f3f5cb38786df",
            "_dom_classes": [],
            "description": "",
            "_model_name": "HTMLModel",
            "placeholder": "​",
            "_view_module": "@jupyter-widgets/controls",
            "_model_module_version": "1.5.0",
            "value": "100%",
            "_view_count": null,
            "_view_module_version": "1.5.0",
            "description_tooltip": null,
            "_model_module": "@jupyter-widgets/controls",
            "layout": "IPY_MODEL_84e9d849cec745f49b89b6c0f5d61c78"
          }
        },
        "0903309eb06f41168d2046ebcb8395ab": {
          "model_module": "@jupyter-widgets/controls",
          "model_name": "FloatProgressModel",
          "model_module_version": "1.5.0",
          "state": {
            "_view_name": "ProgressView",
            "style": "IPY_MODEL_b18bb79587a043d4b0adc6ff1bdccd10",
            "_dom_classes": [],
            "description": "",
            "_model_name": "FloatProgressModel",
            "bar_style": "success",
            "max": 5000,
            "_view_module": "@jupyter-widgets/controls",
            "_model_module_version": "1.5.0",
            "value": 5000,
            "_view_count": null,
            "_view_module_version": "1.5.0",
            "orientation": "horizontal",
            "min": 0,
            "description_tooltip": null,
            "_model_module": "@jupyter-widgets/controls",
            "layout": "IPY_MODEL_bd6d84c96d724656b9a60933c1dc38e4"
          }
        },
        "8904786b8130401c9892c71fb360276c": {
          "model_module": "@jupyter-widgets/controls",
          "model_name": "HTMLModel",
          "model_module_version": "1.5.0",
          "state": {
            "_view_name": "HTMLView",
            "style": "IPY_MODEL_88364415aae54851816e2a0aa03694e2",
            "_dom_classes": [],
            "description": "",
            "_model_name": "HTMLModel",
            "placeholder": "​",
            "_view_module": "@jupyter-widgets/controls",
            "_model_module_version": "1.5.0",
            "value": " 5000/5000 [24:25&lt;00:00,  4.63s/it]",
            "_view_count": null,
            "_view_module_version": "1.5.0",
            "description_tooltip": null,
            "_model_module": "@jupyter-widgets/controls",
            "layout": "IPY_MODEL_7ec788b39b574d2cbaf68fbc2a478015"
          }
        },
        "38ae165f6c664b2cb06f3f5cb38786df": {
          "model_module": "@jupyter-widgets/controls",
          "model_name": "DescriptionStyleModel",
          "model_module_version": "1.5.0",
          "state": {
            "_view_name": "StyleView",
            "_model_name": "DescriptionStyleModel",
            "description_width": "",
            "_view_module": "@jupyter-widgets/base",
            "_model_module_version": "1.5.0",
            "_view_count": null,
            "_view_module_version": "1.2.0",
            "_model_module": "@jupyter-widgets/controls"
          }
        },
        "84e9d849cec745f49b89b6c0f5d61c78": {
          "model_module": "@jupyter-widgets/base",
          "model_name": "LayoutModel",
          "model_module_version": "1.2.0",
          "state": {
            "_view_name": "LayoutView",
            "grid_template_rows": null,
            "right": null,
            "justify_content": null,
            "_view_module": "@jupyter-widgets/base",
            "overflow": null,
            "_model_module_version": "1.2.0",
            "_view_count": null,
            "flex_flow": null,
            "width": null,
            "min_width": null,
            "border": null,
            "align_items": null,
            "bottom": null,
            "_model_module": "@jupyter-widgets/base",
            "top": null,
            "grid_column": null,
            "overflow_y": null,
            "overflow_x": null,
            "grid_auto_flow": null,
            "grid_area": null,
            "grid_template_columns": null,
            "flex": null,
            "_model_name": "LayoutModel",
            "justify_items": null,
            "grid_row": null,
            "max_height": null,
            "align_content": null,
            "visibility": null,
            "align_self": null,
            "height": null,
            "min_height": null,
            "padding": null,
            "grid_auto_rows": null,
            "grid_gap": null,
            "max_width": null,
            "order": null,
            "_view_module_version": "1.2.0",
            "grid_template_areas": null,
            "object_position": null,
            "object_fit": null,
            "grid_auto_columns": null,
            "margin": null,
            "display": null,
            "left": null
          }
        },
        "b18bb79587a043d4b0adc6ff1bdccd10": {
          "model_module": "@jupyter-widgets/controls",
          "model_name": "ProgressStyleModel",
          "model_module_version": "1.5.0",
          "state": {
            "_view_name": "StyleView",
            "_model_name": "ProgressStyleModel",
            "description_width": "",
            "_view_module": "@jupyter-widgets/base",
            "_model_module_version": "1.5.0",
            "_view_count": null,
            "_view_module_version": "1.2.0",
            "bar_color": null,
            "_model_module": "@jupyter-widgets/controls"
          }
        },
        "bd6d84c96d724656b9a60933c1dc38e4": {
          "model_module": "@jupyter-widgets/base",
          "model_name": "LayoutModel",
          "model_module_version": "1.2.0",
          "state": {
            "_view_name": "LayoutView",
            "grid_template_rows": null,
            "right": null,
            "justify_content": null,
            "_view_module": "@jupyter-widgets/base",
            "overflow": null,
            "_model_module_version": "1.2.0",
            "_view_count": null,
            "flex_flow": null,
            "width": null,
            "min_width": null,
            "border": null,
            "align_items": null,
            "bottom": null,
            "_model_module": "@jupyter-widgets/base",
            "top": null,
            "grid_column": null,
            "overflow_y": null,
            "overflow_x": null,
            "grid_auto_flow": null,
            "grid_area": null,
            "grid_template_columns": null,
            "flex": null,
            "_model_name": "LayoutModel",
            "justify_items": null,
            "grid_row": null,
            "max_height": null,
            "align_content": null,
            "visibility": null,
            "align_self": null,
            "height": null,
            "min_height": null,
            "padding": null,
            "grid_auto_rows": null,
            "grid_gap": null,
            "max_width": null,
            "order": null,
            "_view_module_version": "1.2.0",
            "grid_template_areas": null,
            "object_position": null,
            "object_fit": null,
            "grid_auto_columns": null,
            "margin": null,
            "display": null,
            "left": null
          }
        },
        "88364415aae54851816e2a0aa03694e2": {
          "model_module": "@jupyter-widgets/controls",
          "model_name": "DescriptionStyleModel",
          "model_module_version": "1.5.0",
          "state": {
            "_view_name": "StyleView",
            "_model_name": "DescriptionStyleModel",
            "description_width": "",
            "_view_module": "@jupyter-widgets/base",
            "_model_module_version": "1.5.0",
            "_view_count": null,
            "_view_module_version": "1.2.0",
            "_model_module": "@jupyter-widgets/controls"
          }
        },
        "7ec788b39b574d2cbaf68fbc2a478015": {
          "model_module": "@jupyter-widgets/base",
          "model_name": "LayoutModel",
          "model_module_version": "1.2.0",
          "state": {
            "_view_name": "LayoutView",
            "grid_template_rows": null,
            "right": null,
            "justify_content": null,
            "_view_module": "@jupyter-widgets/base",
            "overflow": null,
            "_model_module_version": "1.2.0",
            "_view_count": null,
            "flex_flow": null,
            "width": null,
            "min_width": null,
            "border": null,
            "align_items": null,
            "bottom": null,
            "_model_module": "@jupyter-widgets/base",
            "top": null,
            "grid_column": null,
            "overflow_y": null,
            "overflow_x": null,
            "grid_auto_flow": null,
            "grid_area": null,
            "grid_template_columns": null,
            "flex": null,
            "_model_name": "LayoutModel",
            "justify_items": null,
            "grid_row": null,
            "max_height": null,
            "align_content": null,
            "visibility": null,
            "align_self": null,
            "height": null,
            "min_height": null,
            "padding": null,
            "grid_auto_rows": null,
            "grid_gap": null,
            "max_width": null,
            "order": null,
            "_view_module_version": "1.2.0",
            "grid_template_areas": null,
            "object_position": null,
            "object_fit": null,
            "grid_auto_columns": null,
            "margin": null,
            "display": null,
            "left": null
          }
        }
      }
    }
  },
  "cells": [
    {
      "cell_type": "markdown",
      "metadata": {
        "id": "view-in-github",
        "colab_type": "text"
      },
      "source": [
        "<a href=\"https://colab.research.google.com/github/ValentineFil/-Projects_in_Pytorch/blob/main/%5BDone%5D_A_Dive_into_Natural_Language_Processing_Lesson_8.ipynb\" target=\"_parent\"><img src=\"https://colab.research.google.com/assets/colab-badge.svg\" alt=\"Open In Colab\"/></a>"
      ]
    },
    {
      "cell_type": "markdown",
      "metadata": {
        "id": "zHvBemUIAgiM"
      },
      "source": [
        "# A Dive into Natural Language Processing.\n",
        "\n",
        "Сегодня мы дообучим модель mT5, на задачу машинного перевода с русского на английский и обратно.\n",
        "\n"
      ]
    },
    {
      "cell_type": "code",
      "metadata": {
        "colab": {
          "base_uri": "https://localhost:8080/"
        },
        "id": "ctJY_vyQGNGa",
        "outputId": "36deec20-028c-47bf-d8a4-e425165a75ae"
      },
      "source": [
        "!nvidia-smi"
      ],
      "execution_count": null,
      "outputs": [
        {
          "output_type": "stream",
          "name": "stdout",
          "text": [
            "Fri Nov 26 10:40:39 2021       \n",
            "+-----------------------------------------------------------------------------+\n",
            "| NVIDIA-SMI 495.44       Driver Version: 460.32.03    CUDA Version: 11.2     |\n",
            "|-------------------------------+----------------------+----------------------+\n",
            "| GPU  Name        Persistence-M| Bus-Id        Disp.A | Volatile Uncorr. ECC |\n",
            "| Fan  Temp  Perf  Pwr:Usage/Cap|         Memory-Usage | GPU-Util  Compute M. |\n",
            "|                               |                      |               MIG M. |\n",
            "|===============================+======================+======================|\n",
            "|   0  Tesla P100-PCIE...  Off  | 00000000:00:04.0 Off |                    0 |\n",
            "| N/A   32C    P0    25W / 250W |      0MiB / 16280MiB |      0%      Default |\n",
            "|                               |                      |                  N/A |\n",
            "+-------------------------------+----------------------+----------------------+\n",
            "                                                                               \n",
            "+-----------------------------------------------------------------------------+\n",
            "| Processes:                                                                  |\n",
            "|  GPU   GI   CI        PID   Type   Process name                  GPU Memory |\n",
            "|        ID   ID                                                   Usage      |\n",
            "|=============================================================================|\n",
            "|  No running processes found                                                 |\n",
            "+-----------------------------------------------------------------------------+\n"
          ]
        }
      ]
    },
    {
      "cell_type": "markdown",
      "metadata": {
        "id": "saozhyMHHZ9t"
      },
      "source": [
        "## Setup"
      ]
    },
    {
      "cell_type": "code",
      "metadata": {
        "id": "eKQdwBqpHb1E",
        "colab": {
          "base_uri": "https://localhost:8080/"
        },
        "outputId": "c9d2b9ac-ff06-41cf-b254-597a8df4a201"
      },
      "source": [
        "!pip install transformers sentencepiece datasets translate-toolkit --quiet"
      ],
      "execution_count": null,
      "outputs": [
        {
          "output_type": "stream",
          "name": "stdout",
          "text": [
            "\u001b[K     |████████████████████████████████| 3.1 MB 15.0 MB/s \n",
            "\u001b[K     |████████████████████████████████| 1.2 MB 58.1 MB/s \n",
            "\u001b[K     |████████████████████████████████| 290 kB 45.0 MB/s \n",
            "\u001b[K     |████████████████████████████████| 6.1 MB 18.5 MB/s \n",
            "\u001b[K     |████████████████████████████████| 895 kB 65.7 MB/s \n",
            "\u001b[K     |████████████████████████████████| 59 kB 8.2 MB/s \n",
            "\u001b[K     |████████████████████████████████| 3.3 MB 56.4 MB/s \n",
            "\u001b[K     |████████████████████████████████| 596 kB 66.8 MB/s \n",
            "\u001b[K     |████████████████████████████████| 1.1 MB 64.1 MB/s \n",
            "\u001b[K     |████████████████████████████████| 132 kB 78.1 MB/s \n",
            "\u001b[K     |████████████████████████████████| 243 kB 73.3 MB/s \n",
            "\u001b[K     |████████████████████████████████| 6.3 MB 13.5 MB/s \n",
            "\u001b[K     |████████████████████████████████| 192 kB 67.8 MB/s \n",
            "\u001b[K     |████████████████████████████████| 271 kB 77.2 MB/s \n",
            "\u001b[K     |████████████████████████████████| 160 kB 76.1 MB/s \n",
            "\u001b[?25h  Building wheel for translate-toolkit (setup.py) ... \u001b[?25l\u001b[?25hdone\n"
          ]
        }
      ]
    },
    {
      "cell_type": "code",
      "metadata": {
        "id": "nNfqDhP8FCT5"
      },
      "source": [
        "import numpy as np\n",
        "import matplotlib.pyplot as plt\n",
        "import seaborn as sns\n",
        "from IPython.display import clear_output\n",
        "from IPython.utils import io\n",
        "import torch\n",
        "from torch import optim\n",
        "from torch.nn import functional as F\n",
        "\n",
        "with io.capture_output() as captured:\n",
        "  !pip install transformers sentencepiece\n",
        "\n",
        "from transformers import AdamW, AutoTokenizer, get_linear_schedule_with_warmup\n",
        "from tqdm.notebook import tqdm\n",
        "\n",
        "from transformers.models.mt5 import MT5Config, MT5ForConditionalGeneration\n",
        "\n",
        "sns.set()"
      ],
      "execution_count": null,
      "outputs": []
    },
    {
      "cell_type": "markdown",
      "metadata": {
        "id": "cZpzma9pOCXs"
      },
      "source": [
        "## Demo\n",
        "\n"
      ]
    },
    {
      "cell_type": "markdown",
      "metadata": {
        "id": "7ri9EMc3hxiD"
      },
      "source": [
        "#### Посмотрим на модель, которую сегодня получим. Я сохранил модель (mt5-base), которая тренировалась в течение 5-ти эпох, примерно 2 часа на корпусе из 100k предложений (модель легко можно улучшить)."
      ]
    },
    {
      "cell_type": "code",
      "metadata": {
        "id": "5-XEdCLOWajD",
        "colab": {
          "base_uri": "https://localhost:8080/",
          "height": 214,
          "referenced_widgets": [
            "407993c90ab04bbdb0fc9487ec882458",
            "cf9c0c19dc18433b87b12d8f006a3c0f",
            "d2c5cd3617b0418db5aee906737f3a9d",
            "abc72d4c944845988426ef41418f6d77",
            "ee5cf7bd5ece4b4f9a33e5cf276b993b",
            "a1fe5adf25514a3a9d67e36a4143ce1f",
            "42388ef7a3f64bf880237539c03ac764",
            "5607c18c6974420082dcabe0469e36e2",
            "ff9df2e2d71f43a99f759330f5559ce0",
            "38df2ac54d174c819d9e1e130dec7527",
            "dffa2526caa148d89bc22dbff025f485",
            "f1cb345b3e1a429fae2725a700a1d819",
            "09c55ccf09d24923861154eb5e168d4e",
            "1ad56f232d5d4aa38c1e64f0a80feb08",
            "6199adc4f5734eba923e6434109f4bf0",
            "7079df33f9f642c7bec0065b3b0fbab2",
            "c0edaaf7468a41718ff3029bd5b8fddf",
            "8e9666246a1248419ecf4eb5e7625111",
            "5368bc712ffa4bdfb51b0accb7e2e4ae",
            "8ce9afb8785b411abb0d038577dbaac4",
            "28b6ffb9aa244baea132022f2a020802",
            "8624b0b6db9140819c4bf7f67709916f",
            "6548495604304fdda3f6380a956a5f17",
            "767de6cbaf504b1aa120fc8a30770d59",
            "2587ced2ead5491ebb1d4382ec14b76d",
            "eb54c0e5eeb14227b20f6fe7e265bd65",
            "8558b8739f1942dfa8c89c68fb6a7d05",
            "ed77c82bf35e44e08c6861fa1eb7d8a0",
            "87f6925caca54935b926ef6699fa920a",
            "517868e19b8340e5bbe5aaca5337eec7",
            "3f80b916bf1d46f4a1912de7fe56d626",
            "3252608ec0154bd3896a63f49398073f",
            "13d65c002c474f79b97f3c0b8844218c",
            "8af6529c657c474783bc016e7fa9c0b0",
            "9b6eb23de7d241429b139b6044443edd",
            "3bd959c05cb3474794410487417eb83d",
            "419e62c402b4486e99a1fc590a66b0d0",
            "7ba023c9f1114f1ea4bd26172fd8fabd",
            "9ca6265337ae4e45b56952b7f986c517",
            "f8a399ad2b594fde8c4ca4a7c16246cd",
            "745dec7d3c2e42c79cff9b06fd904cdc",
            "2d88387570fd49b2852aa40d59e81a76",
            "590ce79b689d42bb82ec7b7703c207b5",
            "8e3de1b3517c47d19e1b9cf2fa728278"
          ]
        },
        "cellView": "form",
        "outputId": "e6f9eabe-caf5-4e64-922b-6ffda894b236"
      },
      "source": [],
      "execution_count": null,
      "outputs": [
        {
          "output_type": "stream",
          "name": "stdout",
          "text": [
            "Downloading...\n",
            "From: https://drive.google.com/uc?id=1-DrHO4ObiMbDMm1uUSC_ycZSXa2mCekE\n",
            "To: /content/mt5_translation_example_last.pt\n",
            "100% 2.33G/2.33G [00:33<00:00, 70.3MB/s]\n"
          ]
        },
        {
          "output_type": "display_data",
          "data": {
            "application/vnd.jupyter.widget-view+json": {
              "model_id": "407993c90ab04bbdb0fc9487ec882458",
              "version_minor": 0,
              "version_major": 2
            },
            "text/plain": [
              "Downloading:   0%|          | 0.00/376 [00:00<?, ?B/s]"
            ]
          },
          "metadata": {}
        },
        {
          "output_type": "display_data",
          "data": {
            "application/vnd.jupyter.widget-view+json": {
              "model_id": "f1cb345b3e1a429fae2725a700a1d819",
              "version_minor": 0,
              "version_major": 2
            },
            "text/plain": [
              "Downloading:   0%|          | 0.00/702 [00:00<?, ?B/s]"
            ]
          },
          "metadata": {}
        },
        {
          "output_type": "display_data",
          "data": {
            "application/vnd.jupyter.widget-view+json": {
              "model_id": "6548495604304fdda3f6380a956a5f17",
              "version_minor": 0,
              "version_major": 2
            },
            "text/plain": [
              "Downloading:   0%|          | 0.00/4.11M [00:00<?, ?B/s]"
            ]
          },
          "metadata": {}
        },
        {
          "output_type": "display_data",
          "data": {
            "application/vnd.jupyter.widget-view+json": {
              "model_id": "8af6529c657c474783bc016e7fa9c0b0",
              "version_minor": 0,
              "version_major": 2
            },
            "text/plain": [
              "Downloading:   0%|          | 0.00/65.0 [00:00<?, ?B/s]"
            ]
          },
          "metadata": {}
        }
      ]
    },
    {
      "cell_type": "code",
      "metadata": {
        "id": "nDv6yOvvOW9B",
        "colab": {
          "base_uri": "https://localhost:8080/"
        },
        "cellView": "form",
        "outputId": "38191486-1999-49e8-f8f9-88d10d54c8ee"
      },
      "source": [],
      "execution_count": null,
      "outputs": [
        {
          "output_type": "stream",
          "name": "stdout",
          "text": [
            "Когда в опасности или в беде, бегайте в круги, кричите \n"
          ]
        }
      ]
    },
    {
      "cell_type": "markdown",
      "metadata": {
        "id": "v-RxeRxzGXcu"
      },
      "source": [
        "## Prepare dataset"
      ]
    },
    {
      "cell_type": "markdown",
      "metadata": {
        "id": "FsJ-Hao9znQx"
      },
      "source": [
        "OPUS (https://opus.nlpl.eu/)\n",
        "\n",
        "![](https://www.sketchengine.eu/wp-content/uploads/opus_comparison_chart.png)"
      ]
    },
    {
      "cell_type": "code",
      "metadata": {
        "colab": {
          "base_uri": "https://localhost:8080/"
        },
        "id": "NtnqLxgG8lHA",
        "outputId": "3555e0d5-fca7-441a-eff5-2754ab426dff"
      },
      "source": [
        "# !wget https://object.pouta.csc.fi/OPUS-Wikipedia/v1.0/tmx/en-ru.tmx.gz\n",
        "# !wget https://object.pouta.csc.fi/OPUS-Tanzil/v1/tmx/en-ru.tmx.gz\n",
        "\n",
        "# !wget https://object.pouta.csc.fi/OPUS-TED2020/v1/tmx/en-ru.tmx.gz\n",
        "# !wget https://object.pouta.csc.fi/OPUS-WikiMatrix/v1/tmx/en-ru.tmx.gz\n",
        "\n",
        "!wget https://object.pouta.csc.fi/OPUS-Tatoeba/v2021-07-22/tmx/en-ru.tmx.gz\n",
        "\n"
      ],
      "execution_count": null,
      "outputs": [
        {
          "output_type": "stream",
          "name": "stdout",
          "text": [
            "--2021-11-25 10:26:41--  https://object.pouta.csc.fi/OPUS-Tatoeba/v2021-07-22/tmx/en-ru.tmx.gz\n",
            "Resolving object.pouta.csc.fi (object.pouta.csc.fi)... 86.50.254.18, 86.50.254.19\n",
            "Connecting to object.pouta.csc.fi (object.pouta.csc.fi)|86.50.254.18|:443... connected.\n",
            "HTTP request sent, awaiting response... 200 OK\n",
            "Length: 14139961 (13M) [application/gzip]\n",
            "Saving to: ‘en-ru.tmx.gz’\n",
            "\n",
            "en-ru.tmx.gz        100%[===================>]  13.48M  10.1MB/s    in 1.3s    \n",
            "\n",
            "2021-11-25 10:26:44 (10.1 MB/s) - ‘en-ru.tmx.gz’ saved [14139961/14139961]\n",
            "\n"
          ]
        }
      ]
    },
    {
      "cell_type": "code",
      "metadata": {
        "id": "SDj_iEwb-dyP"
      },
      "source": [
        "!gzip -d /content/en-ru.tmx.gz"
      ],
      "execution_count": null,
      "outputs": []
    },
    {
      "cell_type": "code",
      "metadata": {
        "id": "qms24oHA_ZU-"
      },
      "source": [
        "with open(\"en-ru.tmx\", 'r', encoding=\"utf-8\") as input_file:\n",
        "  for x in range(50):\n",
        "    print(input_file.readline())"
      ],
      "execution_count": null,
      "outputs": []
    },
    {
      "cell_type": "code",
      "metadata": {
        "id": "rR8ZN1pT-89l"
      },
      "source": [
        "from translate.storage.tmx import tmxfile\n",
        "\n",
        "with open(\"en-ru.tmx\", 'rb') as input_file:\n",
        "  tmx_file = tmxfile(input_file, 'en', 'ru')"
      ],
      "execution_count": null,
      "outputs": []
    },
    {
      "cell_type": "code",
      "metadata": {
        "id": "-9w0t5lI_PX0"
      },
      "source": [
        "dataset = []\n",
        "\n",
        "for node in tmx_file.unit_iter():\n",
        "  dataset.append({'en': node.source, 'ru': node.target})"
      ],
      "execution_count": null,
      "outputs": []
    },
    {
      "cell_type": "code",
      "metadata": {
        "colab": {
          "base_uri": "https://localhost:8080/"
        },
        "id": "JyHxarvxCyxf",
        "outputId": "78f29c9e-5362-4ad7-d287-1850d21f7cc5"
      },
      "source": [
        "len(dataset)"
      ],
      "execution_count": null,
      "outputs": [
        {
          "output_type": "execute_result",
          "data": {
            "text/plain": [
              "523629"
            ]
          },
          "metadata": {},
          "execution_count": 10
        }
      ]
    },
    {
      "cell_type": "code",
      "metadata": {
        "id": "nR5dlLRMC7n-"
      },
      "source": [
        "train_dataset = dataset[:100000]\n",
        "test_dataset = dataset[100000:105000]"
      ],
      "execution_count": null,
      "outputs": []
    },
    {
      "cell_type": "code",
      "metadata": {
        "colab": {
          "base_uri": "https://localhost:8080/"
        },
        "id": "km76d8aLpBX9",
        "outputId": "dbcc37c6-bd2d-4868-9212-1ff2e818b7bb"
      },
      "source": [
        "import random\n",
        "\n",
        "k = random.randint(0, 100000)\n",
        "\n",
        "print(k)\n",
        "\n",
        "dataset[k: k+10]"
      ],
      "execution_count": null,
      "outputs": [
        {
          "output_type": "stream",
          "name": "stdout",
          "text": [
            "10763\n"
          ]
        },
        {
          "output_type": "execute_result",
          "data": {
            "text/plain": [
              "[{'en': 'Help yourself to more cookies. ', 'ru': 'Бери ещё печенья. '},\n",
              " {'en': 'Help yourself to more cookies. ', 'ru': 'Берите ещё печенья. '},\n",
              " {'en': 'You should eat more fruit. ',\n",
              "  'ru': 'Тебе надо бы есть больше фруктов. '},\n",
              " {'en': 'You should eat more fruit. ',\n",
              "  'ru': 'Тебе следует есть больше фруктов. '},\n",
              " {'en': 'You should eat more fruit. ',\n",
              "  'ru': 'Вам следует есть больше фруктов. '},\n",
              " {'en': 'Would you care for more cookies? ', 'ru': 'Хочешь ещё печенья? '},\n",
              " {'en': 'I wish I earned more money. ',\n",
              "  'ru': 'Я бы хотел больше зарабатывать. '},\n",
              " {'en': 'If I had more money, I could move to a bigger house. ',\n",
              "  'ru': 'Если б у меня было больше денег, я бы переехал в больший дом. '},\n",
              " {'en': 'We would move to a bigger house if we had more money. ',\n",
              "  'ru': 'Мы бы переехали в дом побольше, если бы у нас было больше денег. '},\n",
              " {'en': 'Can you think of something better? ',\n",
              "  'ru': 'У тебя есть идея получше? '}]"
            ]
          },
          "metadata": {},
          "execution_count": 31
        }
      ]
    },
    {
      "cell_type": "code",
      "metadata": {
        "id": "TU53v6Bz-9Yt"
      },
      "source": [
        "#-----------"
      ],
      "execution_count": null,
      "outputs": []
    },
    {
      "cell_type": "code",
      "metadata": {
        "id": "nAaAIFAsHSpU"
      },
      "source": [
        "# from datasets import load_dataset\n",
        "# import datasets"
      ],
      "execution_count": null,
      "outputs": []
    },
    {
      "cell_type": "code",
      "metadata": {
        "id": "qX3AXZaXGaMa"
      },
      "source": [
        "# dataset = load_dataset('alt')"
      ],
      "execution_count": null,
      "outputs": []
    },
    {
      "cell_type": "code",
      "metadata": {
        "colab": {
          "base_uri": "https://localhost:8080/",
          "height": 67,
          "referenced_widgets": [
            "fb901128f01c4ff8805f46a6377214fd",
            "58ccaf5151cb4d2d9f4634edcfce72fa",
            "4249aea0942b4964a43690487e5d6df6",
            "b0a47611b5684e4b974a80931c1529aa",
            "8c1dc9ad73404624a2400c11a638882e",
            "bad6913c4aaf4d708fafb52ad29e5e08",
            "16089d6af035445481d0b11aab3a77da",
            "45e0733a53644d638e288482658d24b6",
            "a71efd52502c43fdb1a949b86998e388",
            "7929c2f55e9548ff817f2fe27eaa3532",
            "b1673f200ed54c4889585b44bb8d9322"
          ]
        },
        "id": "akxBcIwNJVIW",
        "outputId": "e523be3d-d046-4a67-8881-350676c708be"
      },
      "source": [
        "# dataset = load_dataset(\"wmt16\", \"ru-en\")"
      ],
      "execution_count": null,
      "outputs": [
        {
          "output_type": "stream",
          "name": "stderr",
          "text": [
            "Reusing dataset wmt16 (/root/.cache/huggingface/datasets/wmt16/ru-en/1.0.0/0d9fb3e814712c785176ad8cdb9f465fbe6479000ee6546725db30ad8a8b5f8a)\n"
          ]
        },
        {
          "output_type": "display_data",
          "data": {
            "application/vnd.jupyter.widget-view+json": {
              "model_id": "fb901128f01c4ff8805f46a6377214fd",
              "version_minor": 0,
              "version_major": 2
            },
            "text/plain": [
              "  0%|          | 0/3 [00:00<?, ?it/s]"
            ]
          },
          "metadata": {}
        }
      ]
    },
    {
      "cell_type": "code",
      "metadata": {
        "colab": {
          "base_uri": "https://localhost:8080/"
        },
        "id": "Y0ETwQ23HGv6",
        "outputId": "d04eb00c-397b-4d6b-fd01-58f1c8ff24e1"
      },
      "source": [
        "# for x in dataset['train']:\n",
        "#   print(x)\n",
        "#   break"
      ],
      "execution_count": null,
      "outputs": [
        {
          "output_type": "stream",
          "name": "stdout",
          "text": [
            "{'translation': {'en': 'iron cement is a ready for use paste which is laid as a fillet by putty knife or finger in the mould edges (corners) of the steel ingot mould.', 'ru': 'iron cement - это готовая к использованию паста, которая наносится шпателем или пальцами в виде закругленного перехода в углы сталелитейного кокиля.'}}\n"
          ]
        }
      ]
    },
    {
      "cell_type": "code",
      "metadata": {
        "colab": {
          "base_uri": "https://localhost:8080/"
        },
        "id": "COBvkobrjrRz",
        "outputId": "e7fb1e1a-d27c-498b-fe01-89ede92e885c"
      },
      "source": [
        "# len(dataset['train'])"
      ],
      "execution_count": null,
      "outputs": [
        {
          "output_type": "execute_result",
          "data": {
            "text/plain": [
              "1516162"
            ]
          },
          "metadata": {},
          "execution_count": 8
        }
      ]
    },
    {
      "cell_type": "code",
      "metadata": {
        "colab": {
          "base_uri": "https://localhost:8080/"
        },
        "id": "yjY_t8eCjwnQ",
        "outputId": "c24dd118-63b7-498e-96d2-3c4300c6bb5c"
      },
      "source": [
        "# [x for x in dataset['train'][:10]]"
      ],
      "execution_count": null,
      "outputs": [
        {
          "output_type": "execute_result",
          "data": {
            "text/plain": [
              "['translation']"
            ]
          },
          "metadata": {},
          "execution_count": 9
        }
      ]
    },
    {
      "cell_type": "code",
      "metadata": {
        "id": "5pZP9sgUj7Rz"
      },
      "source": [
        "# train_dataset = dataset['train'][:100000]['translation']\n",
        "# test_dataset = dataset['train'][100000:105000]['translation']"
      ],
      "execution_count": null,
      "outputs": []
    },
    {
      "cell_type": "markdown",
      "metadata": {
        "id": "MLd1ufaQG3ki"
      },
      "source": [
        "## Model\n",
        "\n",
        "####Будем использовать модель mT5. Это модель общего назначения (seq2seq) предобученная на данных на разных языках.\n",
        "\n",
        "---\n",
        "\n",
        "Статья:\n",
        "[mT5: A Massively Multilingual Pre-trained Text-to-Text Transformer](https://aclanthology.org/2021.naacl-main.41/)\n",
        "\n",
        "Код: [GitHub](https://github.com/google-research/multilingual-t5)"
      ]
    },
    {
      "cell_type": "code",
      "metadata": {
        "id": "01VC_VhNjJK4"
      },
      "source": [
        "model_repo = 'google/mt5-base'\n",
        "\n",
        "config = MT5Config.from_pretrained(model_repo)"
      ],
      "execution_count": null,
      "outputs": []
    },
    {
      "cell_type": "code",
      "metadata": {
        "id": "SO-UB_3qjMfI"
      },
      "source": [
        "# config.max_length = 40\n",
        "max_seq_len = config.max_length"
      ],
      "execution_count": null,
      "outputs": []
    },
    {
      "cell_type": "code",
      "metadata": {
        "colab": {
          "base_uri": "https://localhost:8080/",
          "height": 113,
          "referenced_widgets": [
            "7432ad1c92034ec3afc49eb365f0ebbd",
            "cac15d9fa9fd4a5aa806d5aa32cd907e",
            "a02bb4fd323e43778c86c45fa691edd3",
            "4db3a7a07f0649fe944bc13abdb13a81",
            "203b0e1003eb418f9a34c91118d4b151",
            "325e514f421d42b6a9f69edce7087467",
            "f27ab14c9b8644599c002bc2f6db964c",
            "fa5aca10fe7947b48d46981a54ef1434",
            "d95a88c3eca248a5b22c06955c6da330",
            "8368371d3b174fec9aa87174691780fb",
            "0363c4b252844975bb103d9566c6dc55",
            "b02535ddbe9648089a64380f76ae0de7",
            "0dbf30e88f324dc1a2b610e4d3548ac5",
            "b2bfda883f984aaaa4e36e278c0b5a2f",
            "b3aa9bd42db748708553911846af8fe7",
            "1d0d5a6208f84c01aa1e582cc09f909d",
            "66b9418011b4473794a931aa61706fb9",
            "5b9a6ab0e54e44c09b7b4b2c2385b95a",
            "97bc8285ff11470d9ea63d489bace24f",
            "41ad412239774e6a821af1b4e52dab33",
            "161526fa3cf44e49b71a2071d194dce1",
            "cdc78c4b5da14cfbb0b6d6a03e48a77b",
            "1fb6b0f9060a44558638b9c8279af543",
            "14cf265042a9421aa2eb45992df8c4db",
            "881de0fcfa9a42dc8a879a1b1f085973",
            "1e1c234c592d45f3aea070a6495cb6e8",
            "aa01b351d6424c3cb719f354ee42792f",
            "561ba9657a3f4a53ab29d5e2fd8fb7d9",
            "ba6f92790e074056ac9aecf3e6de4b73",
            "7dabc0a9b7cd46c3b61a35fbb1a1a938",
            "40986572acdd4e5a8ac2221cf35a7110",
            "42ade72eb21041d7b982e1de1bd72bb8",
            "f69bb90de1604942bed37967b6d7939f"
          ]
        },
        "id": "AVQ09n4pHKky",
        "outputId": "5ed6ba18-65f7-42af-de4a-2f338cfa1bbd"
      },
      "source": [
        "tokenizer = AutoTokenizer.from_pretrained(model_repo)"
      ],
      "execution_count": null,
      "outputs": [
        {
          "output_type": "display_data",
          "data": {
            "application/vnd.jupyter.widget-view+json": {
              "model_id": "7432ad1c92034ec3afc49eb365f0ebbd",
              "version_minor": 0,
              "version_major": 2
            },
            "text/plain": [
              "Downloading:   0%|          | 0.00/82.0 [00:00<?, ?B/s]"
            ]
          },
          "metadata": {}
        },
        {
          "output_type": "display_data",
          "data": {
            "application/vnd.jupyter.widget-view+json": {
              "model_id": "b02535ddbe9648089a64380f76ae0de7",
              "version_minor": 0,
              "version_major": 2
            },
            "text/plain": [
              "Downloading:   0%|          | 0.00/4.11M [00:00<?, ?B/s]"
            ]
          },
          "metadata": {}
        },
        {
          "output_type": "display_data",
          "data": {
            "application/vnd.jupyter.widget-view+json": {
              "model_id": "1fb6b0f9060a44558638b9c8279af543",
              "version_minor": 0,
              "version_major": 2
            },
            "text/plain": [
              "Downloading:   0%|          | 0.00/99.0 [00:00<?, ?B/s]"
            ]
          },
          "metadata": {}
        }
      ]
    },
    {
      "cell_type": "code",
      "metadata": {
        "colab": {
          "base_uri": "https://localhost:8080/",
          "height": 49,
          "referenced_widgets": [
            "80f62335c4c346dbbd46505a90399181",
            "a2a471cf8fab478199e94098422aca08",
            "a83af5bbb12240bf849a7e324bf9c64a",
            "489501089624406fa831ef2ef4979aa4",
            "ce4d40bbb8974b119b659151b6e721e0",
            "c87dd13d9d0946dab1533d46168bb407",
            "9e18b87d2f464742ab0812a3b84e60bf",
            "0db864b9bd344cd9851d57797d1b2dac",
            "8a8d29000eba4900a440e71b0bf91405",
            "45000b3ca64d4f38bbfd27b063f7ca37",
            "c3218147fd614925a12ef7fc634c39e7"
          ]
        },
        "id": "xS0qne1EG5y9",
        "outputId": "697873c7-cab1-40db-b2c7-39df62108625"
      },
      "source": [
        "model = MT5ForConditionalGeneration.from_pretrained(model_repo)\n",
        "model = model.cuda()"
      ],
      "execution_count": null,
      "outputs": [
        {
          "output_type": "display_data",
          "data": {
            "application/vnd.jupyter.widget-view+json": {
              "model_id": "80f62335c4c346dbbd46505a90399181",
              "version_minor": 0,
              "version_major": 2
            },
            "text/plain": [
              "Downloading:   0%|          | 0.00/1.12G [00:00<?, ?B/s]"
            ]
          },
          "metadata": {}
        }
      ]
    },
    {
      "cell_type": "markdown",
      "metadata": {
        "id": "q-VN9XKz1mS9"
      },
      "source": [
        "#### Что подается на вход модели"
      ]
    },
    {
      "cell_type": "code",
      "metadata": {
        "colab": {
          "base_uri": "https://localhost:8080/"
        },
        "id": "BAFUu71F1tB6",
        "outputId": "d68a9253-e476-47bc-d8ad-ede1cb89b5ed"
      },
      "source": [
        "example_input_str = 'Давайте токенизируем это предложение.'\n",
        "input_ids = tokenizer.encode(example_input_str,\n",
        "                             return_tensors='pt',\n",
        "                             padding='max_length',\n",
        "                             truncation=True,\n",
        "                             max_length=max_seq_len)\n",
        "print(input_ids, \"\\n\")\n",
        "\n",
        "tokens = tokenizer.convert_ids_to_tokens(input_ids[0])\n",
        "print(tokens)"
      ],
      "execution_count": null,
      "outputs": [
        {
          "output_type": "stream",
          "name": "stdout",
          "text": [
            "tensor([[ 3348, 36456,  1049,  1625, 42547, 76660,  1436, 44616,   324,   260,\n",
            "             1,     0,     0,     0,     0,     0,     0,     0,     0,     0]]) \n",
            "\n",
            "['▁Да', 'вайте', '▁то', 'ке', 'низ', 'ируем', '▁это', '▁предложени', 'е', '.', '</s>', '<pad>', '<pad>', '<pad>', '<pad>', '<pad>', '<pad>', '<pad>', '<pad>', '<pad>']\n"
          ]
        }
      ]
    },
    {
      "cell_type": "code",
      "metadata": {
        "id": "ITKrPIBK2Jmz"
      },
      "source": [
        "[x for x in tokenizer.vocab.items()][:100]"
      ],
      "execution_count": null,
      "outputs": []
    },
    {
      "cell_type": "code",
      "metadata": {
        "id": "w9bzmwx42vm9"
      },
      "source": [
        "tokenizer.vocab_size"
      ],
      "execution_count": null,
      "outputs": []
    },
    {
      "cell_type": "markdown",
      "metadata": {
        "id": "OMJDw44mi7QC"
      },
      "source": [
        "## Добавим специальные токены"
      ]
    },
    {
      "cell_type": "code",
      "metadata": {
        "id": "2KbuGZ8QG7rO"
      },
      "source": [
        "LANG_TOKEN_MAPPING = {\n",
        "    'ru': '<ru>',\n",
        "    'en': '<en>'\n",
        "}"
      ],
      "execution_count": null,
      "outputs": []
    },
    {
      "cell_type": "code",
      "metadata": {
        "colab": {
          "base_uri": "https://localhost:8080/"
        },
        "id": "-swbZRcWi_jg",
        "outputId": "8875e56f-fa89-4425-e734-33c7e260d7e2"
      },
      "source": [
        "special_tokens_dict = {'additional_special_tokens': list(LANG_TOKEN_MAPPING.values())}\n",
        "tokenizer.add_special_tokens(special_tokens_dict)\n",
        "model.resize_token_embeddings(len(tokenizer))"
      ],
      "execution_count": null,
      "outputs": [
        {
          "output_type": "execute_result",
          "data": {
            "text/plain": [
              "Embedding(250102, 768)"
            ]
          },
          "metadata": {},
          "execution_count": 38
        }
      ]
    },
    {
      "cell_type": "code",
      "metadata": {
        "colab": {
          "base_uri": "https://localhost:8080/"
        },
        "id": "kW-3rVYKjASN",
        "outputId": "da637f6a-93eb-4321-8da0-faca3ead678f"
      },
      "source": [
        "example_input_str = '<ru>Давайте токенизируем это предложение.'\n",
        "input_ids = tokenizer.encode(example_input_str,\n",
        "                             return_tensors='pt',\n",
        "                             padding='max_length',\n",
        "                             truncation=True,\n",
        "                             max_length=max_seq_len)\n",
        "print(input_ids)\n",
        "\n",
        "tokens = tokenizer.convert_ids_to_tokens(input_ids[0])\n",
        "print(tokens)"
      ],
      "execution_count": null,
      "outputs": [
        {
          "output_type": "stream",
          "name": "stdout",
          "text": [
            "tensor([[250100,   3348,  36456,   1049,   1625,  42547,  76660,   1436,  44616,\n",
            "            324,    260,      1,      0,      0,      0,      0,      0,      0,\n",
            "              0,      0]])\n",
            "['<ru>', '▁Да', 'вайте', '▁то', 'ке', 'низ', 'ируем', '▁это', '▁предложени', 'е', '.', '</s>', '<pad>', '<pad>', '<pad>', '<pad>', '<pad>', '<pad>', '<pad>', '<pad>']\n"
          ]
        }
      ]
    },
    {
      "cell_type": "code",
      "metadata": {
        "id": "Fz2gfTqijWqf"
      },
      "source": [
        "def encode_input_str(text, target_lang, tokenizer, seq_len,\n",
        "                     lang_token_map=LANG_TOKEN_MAPPING):\n",
        "  target_lang_token = lang_token_map[target_lang]\n",
        "\n",
        "  # Tokenize and add special tokens\n",
        "  input_ids = tokenizer.encode(\n",
        "      text = target_lang_token + text,\n",
        "      return_tensors = 'pt',\n",
        "      padding = 'max_length',\n",
        "      truncation = True,\n",
        "      max_length = seq_len)\n",
        "\n",
        "  return input_ids[0]\n",
        "  \n",
        "def encode_target_str(text, tokenizer, seq_len):\n",
        "  token_ids = tokenizer.encode(\n",
        "      text = text,\n",
        "      return_tensors = 'pt',\n",
        "      padding = 'max_length',\n",
        "      truncation = True,\n",
        "      max_length = seq_len)\n",
        "  \n",
        "  return token_ids[0]\n",
        "\n",
        "def format_translation_data(translations, lang_token_map,\n",
        "                            tokenizer, seq_len=128):\n",
        "  # Choose a random 2 languages for in i/o\n",
        "  langs = list(lang_token_map.keys())\n",
        "  input_lang, target_lang = np.random.choice(langs, size=2, replace=False)\n",
        "\n",
        "  # Get the translations for the batch\n",
        "  input_text = translations[input_lang]\n",
        "  target_text = translations[target_lang]\n",
        "\n",
        "  # print(input_lang, input_text)\n",
        "  # print(target_lang, target_text)\n",
        "\n",
        "  if input_text is None or target_text is None:\n",
        "    return None\n",
        "\n",
        "  input_token_ids = encode_input_str(input_text, target_lang, tokenizer, seq_len, lang_token_map)\n",
        "  target_token_ids = encode_target_str(target_text, tokenizer, seq_len)\n",
        "\n",
        "  return input_token_ids, target_token_ids\n",
        "\n",
        "def transform_batch(batch, lang_token_map, tokenizer):\n",
        "  inputs = []\n",
        "  targets = []\n",
        "  for translation_set in batch:\n",
        "    formatted_data = format_translation_data(translation_set, lang_token_map, tokenizer, max_seq_len)\n",
        "    \n",
        "    # print(formatted_data)\n",
        "    \n",
        "    if formatted_data is None:\n",
        "      continue\n",
        "    \n",
        "    input_ids, target_ids = formatted_data\n",
        "    inputs.append(input_ids.unsqueeze(0))\n",
        "    targets.append(target_ids.unsqueeze(0))\n",
        "    \n",
        "  batch_input_ids = torch.cat(inputs).cuda()\n",
        "  batch_target_ids = torch.cat(targets).cuda()\n",
        "\n",
        "  return batch_input_ids, batch_target_ids\n",
        "\n",
        "def get_data(dataset, lang_token_map, tokenizer, batch_size=32):\n",
        "  np.random.shuffle(dataset)\n",
        "  for i in range(0, len(dataset), batch_size):\n",
        "    raw_batch = dataset[i:i+batch_size]\n",
        "    \n",
        "    yield transform_batch(raw_batch, lang_token_map, tokenizer)"
      ],
      "execution_count": null,
      "outputs": []
    },
    {
      "cell_type": "markdown",
      "metadata": {
        "id": "nhzEgHjapIAQ"
      },
      "source": [
        "#Load pretrained"
      ]
    },
    {
      "cell_type": "code",
      "metadata": {
        "colab": {
          "base_uri": "https://localhost:8080/"
        },
        "id": "wZxOANq0pLTb",
        "outputId": "ff1f9262-c1cc-4a32-811f-2efbc27671e4"
      },
      "source": [
        "from google.colab import drive\n",
        "drive.mount('/content/gdrive')"
      ],
      "execution_count": null,
      "outputs": [
        {
          "output_type": "stream",
          "name": "stdout",
          "text": [
            "Mounted at /content/gdrive\n"
          ]
        }
      ]
    },
    {
      "cell_type": "code",
      "metadata": {
        "id": "HDb6aVanpMAA"
      },
      "source": [
        "model_path = '/content/gdrive/My Drive/mt5_translation_example.pt'\n",
        "model_path_last = '/content/gdrive/My Drive/mt5_translation_example_last.pt'"
      ],
      "execution_count": null,
      "outputs": []
    },
    {
      "cell_type": "markdown",
      "metadata": {
        "id": "AUSfNfSGpQ6S"
      },
      "source": [
        "#Train"
      ]
    },
    {
      "cell_type": "code",
      "metadata": {
        "colab": {
          "base_uri": "https://localhost:8080/"
        },
        "id": "OQOZYTXqlB7M",
        "outputId": "96298137-6470-4851-c751-62efad1a6082"
      },
      "source": [
        "n_epochs = 5\n",
        "batch_size = 20\n",
        "print_freq = 100\n",
        "\n",
        "lr = 5e-4\n",
        "\n",
        "checkpoint_freq = 1000\n",
        "\n",
        "n_batches = int(np.ceil(len(train_dataset) / batch_size))\n",
        "total_steps = n_epochs * n_batches\n",
        "n_warmup_steps = int(total_steps * 0.01)\n",
        "\n",
        "print(\"n_batches\", n_batches)\n",
        "print(\"total_steps\", total_steps)\n",
        "print(\"n_warmup_steps\", n_warmup_steps)"
      ],
      "execution_count": null,
      "outputs": [
        {
          "output_type": "stream",
          "name": "stdout",
          "text": [
            "n_batches 5000\n",
            "total_steps 25000\n",
            "n_warmup_steps 250\n"
          ]
        }
      ]
    },
    {
      "cell_type": "code",
      "metadata": {
        "id": "x4-0u8P4lF7t"
      },
      "source": [
        "optimizer = AdamW(model.parameters(), lr=lr)\n",
        "scheduler = get_linear_schedule_with_warmup(optimizer, n_warmup_steps, total_steps)\n",
        "\n",
        "losses = []\n",
        "test_losses = []"
      ],
      "execution_count": null,
      "outputs": []
    },
    {
      "cell_type": "code",
      "metadata": {
        "id": "kUu0iVP2lOdN"
      },
      "source": [
        "def eval_model(model, dataset, max_iters=8):\n",
        "  test_generator = get_data(dataset, LANG_TOKEN_MAPPING,\n",
        "                                      tokenizer, batch_size)\n",
        "  eval_losses = []\n",
        "  with torch.no_grad():\n",
        "    for i, (input_batch, label_batch) in enumerate(test_generator):\n",
        "      if i >= max_iters:\n",
        "        break\n",
        "\n",
        "      model_out = model.forward(\n",
        "          input_ids = input_batch,\n",
        "          labels = label_batch)\n",
        "      eval_losses.append(model_out.loss.item())\n",
        "\n",
        "  return np.mean(eval_losses)"
      ],
      "execution_count": null,
      "outputs": []
    },
    {
      "cell_type": "code",
      "metadata": {
        "id": "wX--vWnflQgk"
      },
      "source": [
        "best_test_loss = float('inf')"
      ],
      "execution_count": null,
      "outputs": []
    },
    {
      "cell_type": "code",
      "metadata": {
        "colab": {
          "base_uri": "https://localhost:8080/",
          "height": 1000,
          "referenced_widgets": [
            "ccc93541142d48c1ab1e30b105835aef",
            "074564ff3db94a16872a08fde25a47a4",
            "2a79e48d66924866b8b4ac8b3870a5bf",
            "a697a6649148446c81e04228e284adab",
            "d5d5df1de0d0464e800f3f0965f9c640",
            "be062be9ccd14a2eb2a2f0c5d0ce36be",
            "4369e6bacfd24d5791e192ceccdb79fa",
            "0e7a9690b90249999a5b6b876e84faea",
            "6d6493b8d5db40eeb2e761a093e84043",
            "b46f85f433cd4825b03255e024eb4807",
            "66ca852ed5b848b5bc0c84739dc388e5",
            "c17d6c600aa54b928ea0a006293fb1d6",
            "b09cdee16dd74bd992cc89c94890bcff",
            "dac87a24067a4bfd9b6a7bfbb7c3ad75",
            "5e0c172e79a449bba2a61553c8da2f0d",
            "770ec6b9e24f4872abcbc404207901d5",
            "40d6963dfd11416f9aef6ffaa0453aae",
            "37d1faee4e0c4b37a4c41bbbb7dba0f2",
            "fd7b42df370345fb8f9d8bb7c3516732",
            "d41f09bc7b694b71bb648d1cab6cc9f0",
            "e9c8174529364ba1bc6f63cda70ad862",
            "61488440291b4e69ba1069319ee3afee",
            "98340709a1944955b886d2a1cbf81748",
            "f2b3ac6397a34e569d5188daeacece9b",
            "ef5338efc43e464680180a4e36d026a5",
            "8fc792f8d7414ead89cd0bc2d17eecc5",
            "33b451c1ca7a471d8201e8e41bf51182",
            "8851d9f92bbd42fa9024c4cd11a89652",
            "65237deb43dc40c9a759c63e7ca6846c",
            "f5f699685612446188a7ce481ba3b5d0",
            "2e1ab352d06b49bb9f1ecd0804acfa5d",
            "8eba7129ed6f4e689be3d454b89d60dc",
            "f71ae9b2eb0a417e87734e3a296e9346",
            "ae32609603414d11a22ae5bc096d2462",
            "296bfdd4c60f490a9af97f3b1579fb53",
            "52d11c0391a24bd98e83fb98ca84b715",
            "e72fcff3e08b4d9d9fd0b1447783169b",
            "33ff2de8c1784a6d86f3e601087e05f4",
            "7d388a8060a64a9f953f00d4a7404c08",
            "2e13790999714b66b64a31826ca97f89",
            "bd836ad3470a4bc9bf58b7cbe6b20b37",
            "451ba4e77cab4655ab609f94dae73f0c",
            "c4c1eb77f89e4263b120235e76e67bcb",
            "f2aabba5d3da4b3297167239655d840f",
            "2d2049644d424b5e894760fc525e888f",
            "78abb611550c4170a0d8908df589f904",
            "2e42f26a93bd43a0a3fefcf946afc983",
            "0903309eb06f41168d2046ebcb8395ab",
            "8904786b8130401c9892c71fb360276c",
            "38ae165f6c664b2cb06f3f5cb38786df",
            "84e9d849cec745f49b89b6c0f5d61c78",
            "b18bb79587a043d4b0adc6ff1bdccd10",
            "bd6d84c96d724656b9a60933c1dc38e4",
            "88364415aae54851816e2a0aa03694e2",
            "7ec788b39b574d2cbaf68fbc2a478015"
          ]
        },
        "id": "lYNHvUiKlSSk",
        "outputId": "a8cb6b4b-ea60-439f-ba83-387684b6bd66"
      },
      "source": [
        "for epoch_idx in range(n_epochs):\n",
        "  data_generator = get_data(train_dataset, LANG_TOKEN_MAPPING, tokenizer, batch_size)\n",
        "\n",
        "  for batch_idx, (input_batch, label_batch) in tqdm(enumerate(data_generator), total=n_batches):\n",
        "\n",
        "    optimizer.zero_grad()\n",
        "\n",
        "    model_out = model.forward(\n",
        "        input_ids = input_batch,\n",
        "        labels = label_batch)\n",
        "\n",
        "    loss = model_out.loss\n",
        "    losses.append(loss.item())\n",
        "    \n",
        "    loss.backward()\n",
        "\n",
        "    optimizer.step()\n",
        "    scheduler.step()\n",
        "\n",
        "      # Print training update info\n",
        "    if (batch_idx + 1) % print_freq == 0:\n",
        "      avg_loss = np.mean(losses[-print_freq:])\n",
        "      print('Epoch: {} | Step: {} | Avg. loss: {:.3f} | lr: {:.6f}'.format(\n",
        "          epoch_idx+1, batch_idx+1, avg_loss, scheduler.get_last_lr()[0]))\n",
        "      \n",
        "    if (batch_idx + 1) % checkpoint_freq == 0:\n",
        "      test_loss = eval_model(model, test_dataset)\n",
        "      test_losses.append(test_loss)\n",
        "      print('Test loss {:.3f}'.format(test_loss))\n",
        "      if best_test_loss > test_loss:\n",
        "        print('Saving model with test loss of {:.3f}'.format(test_loss))\n",
        "        torch.save(model.state_dict(), model_path)\n",
        "        best_test_loss = test_loss\n",
        "\n",
        "  torch.save(model.state_dict(), model_path)"
      ],
      "execution_count": null,
      "outputs": [
        {
          "output_type": "display_data",
          "data": {
            "application/vnd.jupyter.widget-view+json": {
              "model_id": "ccc93541142d48c1ab1e30b105835aef",
              "version_minor": 0,
              "version_major": 2
            },
            "text/plain": [
              "  0%|          | 0/5000 [00:00<?, ?it/s]"
            ]
          },
          "metadata": {}
        },
        {
          "output_type": "stream",
          "name": "stdout",
          "text": [
            "Epoch: 1 | Step: 100 | Avg. loss: 13.054 | lr: 0.000200\n",
            "Epoch: 1 | Step: 200 | Avg. loss: 1.668 | lr: 0.000400\n",
            "Epoch: 1 | Step: 300 | Avg. loss: 1.054 | lr: 0.000499\n",
            "Epoch: 1 | Step: 400 | Avg. loss: 0.894 | lr: 0.000497\n",
            "Epoch: 1 | Step: 500 | Avg. loss: 0.833 | lr: 0.000495\n",
            "Epoch: 1 | Step: 600 | Avg. loss: 0.803 | lr: 0.000493\n",
            "Epoch: 1 | Step: 700 | Avg. loss: 0.776 | lr: 0.000491\n",
            "Epoch: 1 | Step: 800 | Avg. loss: 0.769 | lr: 0.000489\n",
            "Epoch: 1 | Step: 900 | Avg. loss: 0.696 | lr: 0.000487\n",
            "Epoch: 1 | Step: 1000 | Avg. loss: 0.707 | lr: 0.000485\n",
            "Test loss 0.714\n",
            "Saving model with test loss of 0.714\n",
            "Epoch: 1 | Step: 1100 | Avg. loss: 0.686 | lr: 0.000483\n",
            "Epoch: 1 | Step: 1200 | Avg. loss: 0.675 | lr: 0.000481\n",
            "Epoch: 1 | Step: 1300 | Avg. loss: 0.660 | lr: 0.000479\n",
            "Epoch: 1 | Step: 1400 | Avg. loss: 0.670 | lr: 0.000477\n",
            "Epoch: 1 | Step: 1500 | Avg. loss: 0.642 | lr: 0.000475\n",
            "Epoch: 1 | Step: 1600 | Avg. loss: 0.629 | lr: 0.000473\n",
            "Epoch: 1 | Step: 1700 | Avg. loss: 0.642 | lr: 0.000471\n",
            "Epoch: 1 | Step: 1800 | Avg. loss: 0.633 | lr: 0.000469\n",
            "Epoch: 1 | Step: 1900 | Avg. loss: 0.605 | lr: 0.000467\n",
            "Epoch: 1 | Step: 2000 | Avg. loss: 0.593 | lr: 0.000465\n",
            "Test loss 0.576\n",
            "Saving model with test loss of 0.576\n",
            "Epoch: 1 | Step: 2100 | Avg. loss: 0.597 | lr: 0.000463\n",
            "Epoch: 1 | Step: 2200 | Avg. loss: 0.612 | lr: 0.000461\n",
            "Epoch: 1 | Step: 2300 | Avg. loss: 0.621 | lr: 0.000459\n",
            "Epoch: 1 | Step: 2400 | Avg. loss: 0.587 | lr: 0.000457\n",
            "Epoch: 1 | Step: 2500 | Avg. loss: 0.580 | lr: 0.000455\n",
            "Epoch: 1 | Step: 2600 | Avg. loss: 0.576 | lr: 0.000453\n",
            "Epoch: 1 | Step: 2700 | Avg. loss: 0.589 | lr: 0.000451\n",
            "Epoch: 1 | Step: 2800 | Avg. loss: 0.549 | lr: 0.000448\n",
            "Epoch: 1 | Step: 2900 | Avg. loss: 0.571 | lr: 0.000446\n",
            "Epoch: 1 | Step: 3000 | Avg. loss: 0.549 | lr: 0.000444\n",
            "Test loss 0.601\n",
            "Epoch: 1 | Step: 3100 | Avg. loss: 0.557 | lr: 0.000442\n",
            "Epoch: 1 | Step: 3200 | Avg. loss: 0.567 | lr: 0.000440\n",
            "Epoch: 1 | Step: 3300 | Avg. loss: 0.532 | lr: 0.000438\n",
            "Epoch: 1 | Step: 3400 | Avg. loss: 0.554 | lr: 0.000436\n",
            "Epoch: 1 | Step: 3500 | Avg. loss: 0.553 | lr: 0.000434\n",
            "Epoch: 1 | Step: 3600 | Avg. loss: 0.552 | lr: 0.000432\n",
            "Epoch: 1 | Step: 3700 | Avg. loss: 0.536 | lr: 0.000430\n",
            "Epoch: 1 | Step: 3800 | Avg. loss: 0.530 | lr: 0.000428\n",
            "Epoch: 1 | Step: 3900 | Avg. loss: 0.551 | lr: 0.000426\n",
            "Epoch: 1 | Step: 4000 | Avg. loss: 0.544 | lr: 0.000424\n",
            "Test loss 0.627\n",
            "Epoch: 1 | Step: 4100 | Avg. loss: 0.536 | lr: 0.000422\n",
            "Epoch: 1 | Step: 4200 | Avg. loss: 0.526 | lr: 0.000420\n",
            "Epoch: 1 | Step: 4300 | Avg. loss: 0.510 | lr: 0.000418\n",
            "Epoch: 1 | Step: 4400 | Avg. loss: 0.510 | lr: 0.000416\n",
            "Epoch: 1 | Step: 4500 | Avg. loss: 0.522 | lr: 0.000414\n",
            "Epoch: 1 | Step: 4600 | Avg. loss: 0.551 | lr: 0.000412\n",
            "Epoch: 1 | Step: 4700 | Avg. loss: 0.539 | lr: 0.000410\n",
            "Epoch: 1 | Step: 4800 | Avg. loss: 0.506 | lr: 0.000408\n",
            "Epoch: 1 | Step: 4900 | Avg. loss: 0.509 | lr: 0.000406\n",
            "Epoch: 1 | Step: 5000 | Avg. loss: 0.520 | lr: 0.000404\n",
            "Test loss 0.566\n",
            "Saving model with test loss of 0.566\n"
          ]
        },
        {
          "output_type": "display_data",
          "data": {
            "application/vnd.jupyter.widget-view+json": {
              "model_id": "c17d6c600aa54b928ea0a006293fb1d6",
              "version_minor": 0,
              "version_major": 2
            },
            "text/plain": [
              "  0%|          | 0/5000 [00:00<?, ?it/s]"
            ]
          },
          "metadata": {}
        },
        {
          "output_type": "stream",
          "name": "stdout",
          "text": [
            "Epoch: 2 | Step: 100 | Avg. loss: 0.439 | lr: 0.000402\n",
            "Epoch: 2 | Step: 200 | Avg. loss: 0.432 | lr: 0.000400\n",
            "Epoch: 2 | Step: 300 | Avg. loss: 0.450 | lr: 0.000398\n",
            "Epoch: 2 | Step: 400 | Avg. loss: 0.437 | lr: 0.000396\n",
            "Epoch: 2 | Step: 500 | Avg. loss: 0.451 | lr: 0.000394\n",
            "Epoch: 2 | Step: 600 | Avg. loss: 0.442 | lr: 0.000392\n",
            "Epoch: 2 | Step: 700 | Avg. loss: 0.436 | lr: 0.000390\n",
            "Epoch: 2 | Step: 800 | Avg. loss: 0.439 | lr: 0.000388\n",
            "Epoch: 2 | Step: 900 | Avg. loss: 0.431 | lr: 0.000386\n",
            "Epoch: 2 | Step: 1000 | Avg. loss: 0.454 | lr: 0.000384\n",
            "Test loss 0.490\n",
            "Saving model with test loss of 0.490\n",
            "Epoch: 2 | Step: 1100 | Avg. loss: 0.437 | lr: 0.000382\n",
            "Epoch: 2 | Step: 1200 | Avg. loss: 0.438 | lr: 0.000380\n",
            "Epoch: 2 | Step: 1300 | Avg. loss: 0.446 | lr: 0.000378\n",
            "Epoch: 2 | Step: 1400 | Avg. loss: 0.438 | lr: 0.000376\n",
            "Epoch: 2 | Step: 1500 | Avg. loss: 0.437 | lr: 0.000374\n",
            "Epoch: 2 | Step: 1600 | Avg. loss: 0.447 | lr: 0.000372\n",
            "Epoch: 2 | Step: 1700 | Avg. loss: 0.448 | lr: 0.000370\n",
            "Epoch: 2 | Step: 1800 | Avg. loss: 0.434 | lr: 0.000368\n",
            "Epoch: 2 | Step: 1900 | Avg. loss: 0.421 | lr: 0.000366\n",
            "Epoch: 2 | Step: 2000 | Avg. loss: 0.457 | lr: 0.000364\n",
            "Test loss 0.599\n",
            "Epoch: 2 | Step: 2100 | Avg. loss: 0.424 | lr: 0.000362\n",
            "Epoch: 2 | Step: 2200 | Avg. loss: 0.448 | lr: 0.000360\n",
            "Epoch: 2 | Step: 2300 | Avg. loss: 0.449 | lr: 0.000358\n",
            "Epoch: 2 | Step: 2400 | Avg. loss: 0.440 | lr: 0.000356\n",
            "Epoch: 2 | Step: 2500 | Avg. loss: 0.450 | lr: 0.000354\n",
            "Epoch: 2 | Step: 2600 | Avg. loss: 0.447 | lr: 0.000352\n",
            "Epoch: 2 | Step: 2700 | Avg. loss: 0.445 | lr: 0.000349\n",
            "Epoch: 2 | Step: 2800 | Avg. loss: 0.454 | lr: 0.000347\n",
            "Epoch: 2 | Step: 2900 | Avg. loss: 0.443 | lr: 0.000345\n",
            "Epoch: 2 | Step: 3000 | Avg. loss: 0.454 | lr: 0.000343\n",
            "Test loss 0.564\n",
            "Epoch: 2 | Step: 3100 | Avg. loss: 0.444 | lr: 0.000341\n",
            "Epoch: 2 | Step: 3200 | Avg. loss: 0.463 | lr: 0.000339\n",
            "Epoch: 2 | Step: 3300 | Avg. loss: 0.474 | lr: 0.000337\n",
            "Epoch: 2 | Step: 3400 | Avg. loss: 0.475 | lr: 0.000335\n",
            "Epoch: 2 | Step: 3500 | Avg. loss: 1.587 | lr: 0.000333\n",
            "Epoch: 2 | Step: 3600 | Avg. loss: 0.889 | lr: 0.000331\n",
            "Epoch: 2 | Step: 3700 | Avg. loss: 0.681 | lr: 0.000329\n",
            "Epoch: 2 | Step: 3800 | Avg. loss: 0.566 | lr: 0.000327\n",
            "Epoch: 2 | Step: 3900 | Avg. loss: 0.535 | lr: 0.000325\n",
            "Epoch: 2 | Step: 4000 | Avg. loss: 0.531 | lr: 0.000323\n",
            "Test loss 0.627\n",
            "Epoch: 2 | Step: 4100 | Avg. loss: 0.504 | lr: 0.000321\n",
            "Epoch: 2 | Step: 4200 | Avg. loss: 0.503 | lr: 0.000319\n",
            "Epoch: 2 | Step: 4300 | Avg. loss: 0.492 | lr: 0.000317\n",
            "Epoch: 2 | Step: 4400 | Avg. loss: 0.478 | lr: 0.000315\n",
            "Epoch: 2 | Step: 4500 | Avg. loss: 0.459 | lr: 0.000313\n",
            "Epoch: 2 | Step: 4600 | Avg. loss: 0.443 | lr: 0.000311\n",
            "Epoch: 2 | Step: 4700 | Avg. loss: 0.482 | lr: 0.000309\n",
            "Epoch: 2 | Step: 4800 | Avg. loss: 0.461 | lr: 0.000307\n",
            "Epoch: 2 | Step: 4900 | Avg. loss: 0.448 | lr: 0.000305\n",
            "Epoch: 2 | Step: 5000 | Avg. loss: 0.469 | lr: 0.000303\n",
            "Test loss 0.486\n",
            "Saving model with test loss of 0.486\n"
          ]
        },
        {
          "output_type": "display_data",
          "data": {
            "application/vnd.jupyter.widget-view+json": {
              "model_id": "98340709a1944955b886d2a1cbf81748",
              "version_minor": 0,
              "version_major": 2
            },
            "text/plain": [
              "  0%|          | 0/5000 [00:00<?, ?it/s]"
            ]
          },
          "metadata": {}
        },
        {
          "output_type": "stream",
          "name": "stdout",
          "text": [
            "Epoch: 3 | Step: 100 | Avg. loss: 0.384 | lr: 0.000301\n",
            "Epoch: 3 | Step: 200 | Avg. loss: 0.363 | lr: 0.000299\n",
            "Epoch: 3 | Step: 300 | Avg. loss: 0.375 | lr: 0.000297\n",
            "Epoch: 3 | Step: 400 | Avg. loss: 0.370 | lr: 0.000295\n",
            "Epoch: 3 | Step: 500 | Avg. loss: 0.371 | lr: 0.000293\n",
            "Epoch: 3 | Step: 600 | Avg. loss: 0.382 | lr: 0.000291\n",
            "Epoch: 3 | Step: 700 | Avg. loss: 0.371 | lr: 0.000289\n",
            "Epoch: 3 | Step: 800 | Avg. loss: 0.363 | lr: 0.000287\n",
            "Epoch: 3 | Step: 900 | Avg. loss: 0.367 | lr: 0.000285\n",
            "Epoch: 3 | Step: 1000 | Avg. loss: 0.365 | lr: 0.000283\n",
            "Test loss 0.493\n",
            "Epoch: 3 | Step: 1100 | Avg. loss: 0.362 | lr: 0.000281\n",
            "Epoch: 3 | Step: 1200 | Avg. loss: 0.358 | lr: 0.000279\n",
            "Epoch: 3 | Step: 1300 | Avg. loss: 0.366 | lr: 0.000277\n",
            "Epoch: 3 | Step: 1400 | Avg. loss: 0.364 | lr: 0.000275\n",
            "Epoch: 3 | Step: 1500 | Avg. loss: 0.383 | lr: 0.000273\n",
            "Epoch: 3 | Step: 1600 | Avg. loss: 0.360 | lr: 0.000271\n",
            "Epoch: 3 | Step: 1700 | Avg. loss: 0.356 | lr: 0.000269\n",
            "Epoch: 3 | Step: 1800 | Avg. loss: 0.358 | lr: 0.000267\n",
            "Epoch: 3 | Step: 1900 | Avg. loss: 0.345 | lr: 0.000265\n",
            "Epoch: 3 | Step: 2000 | Avg. loss: 0.349 | lr: 0.000263\n",
            "Test loss 0.564\n",
            "Epoch: 3 | Step: 2100 | Avg. loss: 0.379 | lr: 0.000261\n",
            "Epoch: 3 | Step: 2200 | Avg. loss: 0.373 | lr: 0.000259\n",
            "Epoch: 3 | Step: 2300 | Avg. loss: 0.361 | lr: 0.000257\n",
            "Epoch: 3 | Step: 2400 | Avg. loss: 0.343 | lr: 0.000255\n",
            "Epoch: 3 | Step: 2500 | Avg. loss: 0.352 | lr: 0.000253\n",
            "Epoch: 3 | Step: 2600 | Avg. loss: 0.364 | lr: 0.000251\n",
            "Epoch: 3 | Step: 2700 | Avg. loss: 0.356 | lr: 0.000248\n",
            "Epoch: 3 | Step: 2800 | Avg. loss: 0.356 | lr: 0.000246\n",
            "Epoch: 3 | Step: 2900 | Avg. loss: 0.352 | lr: 0.000244\n",
            "Epoch: 3 | Step: 3000 | Avg. loss: 0.358 | lr: 0.000242\n",
            "Test loss 0.609\n",
            "Epoch: 3 | Step: 3100 | Avg. loss: 0.360 | lr: 0.000240\n",
            "Epoch: 3 | Step: 3200 | Avg. loss: 0.357 | lr: 0.000238\n",
            "Epoch: 3 | Step: 3300 | Avg. loss: 0.344 | lr: 0.000236\n",
            "Epoch: 3 | Step: 3400 | Avg. loss: 0.358 | lr: 0.000234\n",
            "Epoch: 3 | Step: 3500 | Avg. loss: 0.363 | lr: 0.000232\n",
            "Epoch: 3 | Step: 3600 | Avg. loss: 0.359 | lr: 0.000230\n",
            "Epoch: 3 | Step: 3700 | Avg. loss: 0.352 | lr: 0.000228\n",
            "Epoch: 3 | Step: 3800 | Avg. loss: 0.348 | lr: 0.000226\n",
            "Epoch: 3 | Step: 3900 | Avg. loss: 0.367 | lr: 0.000224\n",
            "Epoch: 3 | Step: 4000 | Avg. loss: 0.358 | lr: 0.000222\n",
            "Test loss 0.642\n",
            "Epoch: 3 | Step: 4100 | Avg. loss: 0.357 | lr: 0.000220\n",
            "Epoch: 3 | Step: 4200 | Avg. loss: 0.358 | lr: 0.000218\n",
            "Epoch: 3 | Step: 4300 | Avg. loss: 0.360 | lr: 0.000216\n",
            "Epoch: 3 | Step: 4400 | Avg. loss: 0.346 | lr: 0.000214\n",
            "Epoch: 3 | Step: 4500 | Avg. loss: 0.349 | lr: 0.000212\n",
            "Epoch: 3 | Step: 4600 | Avg. loss: 0.359 | lr: 0.000210\n",
            "Epoch: 3 | Step: 4700 | Avg. loss: 0.351 | lr: 0.000208\n",
            "Epoch: 3 | Step: 4800 | Avg. loss: 0.340 | lr: 0.000206\n",
            "Epoch: 3 | Step: 4900 | Avg. loss: 0.355 | lr: 0.000204\n",
            "Epoch: 3 | Step: 5000 | Avg. loss: 0.350 | lr: 0.000202\n",
            "Test loss 0.482\n",
            "Saving model with test loss of 0.482\n"
          ]
        },
        {
          "output_type": "display_data",
          "data": {
            "application/vnd.jupyter.widget-view+json": {
              "model_id": "ae32609603414d11a22ae5bc096d2462",
              "version_minor": 0,
              "version_major": 2
            },
            "text/plain": [
              "  0%|          | 0/5000 [00:00<?, ?it/s]"
            ]
          },
          "metadata": {}
        },
        {
          "output_type": "stream",
          "name": "stdout",
          "text": [
            "Epoch: 4 | Step: 100 | Avg. loss: 0.281 | lr: 0.000200\n",
            "Epoch: 4 | Step: 200 | Avg. loss: 0.276 | lr: 0.000198\n",
            "Epoch: 4 | Step: 300 | Avg. loss: 0.272 | lr: 0.000196\n",
            "Epoch: 4 | Step: 400 | Avg. loss: 0.278 | lr: 0.000194\n",
            "Epoch: 4 | Step: 500 | Avg. loss: 0.282 | lr: 0.000192\n",
            "Epoch: 4 | Step: 600 | Avg. loss: 0.279 | lr: 0.000190\n",
            "Epoch: 4 | Step: 700 | Avg. loss: 0.270 | lr: 0.000188\n",
            "Epoch: 4 | Step: 800 | Avg. loss: 0.271 | lr: 0.000186\n",
            "Epoch: 4 | Step: 900 | Avg. loss: 0.279 | lr: 0.000184\n",
            "Epoch: 4 | Step: 1000 | Avg. loss: 0.277 | lr: 0.000182\n",
            "Test loss 0.544\n",
            "Epoch: 4 | Step: 1100 | Avg. loss: 0.271 | lr: 0.000180\n",
            "Epoch: 4 | Step: 1200 | Avg. loss: 0.294 | lr: 0.000178\n",
            "Epoch: 4 | Step: 1300 | Avg. loss: 0.283 | lr: 0.000176\n",
            "Epoch: 4 | Step: 1400 | Avg. loss: 0.288 | lr: 0.000174\n",
            "Epoch: 4 | Step: 1500 | Avg. loss: 0.282 | lr: 0.000172\n",
            "Epoch: 4 | Step: 1600 | Avg. loss: 0.276 | lr: 0.000170\n",
            "Epoch: 4 | Step: 1700 | Avg. loss: 0.294 | lr: 0.000168\n",
            "Epoch: 4 | Step: 1800 | Avg. loss: 0.277 | lr: 0.000166\n",
            "Epoch: 4 | Step: 1900 | Avg. loss: 0.261 | lr: 0.000164\n",
            "Epoch: 4 | Step: 2000 | Avg. loss: 0.273 | lr: 0.000162\n",
            "Test loss 0.486\n",
            "Epoch: 4 | Step: 2100 | Avg. loss: 0.269 | lr: 0.000160\n",
            "Epoch: 4 | Step: 2200 | Avg. loss: 0.288 | lr: 0.000158\n",
            "Epoch: 4 | Step: 2300 | Avg. loss: 0.275 | lr: 0.000156\n",
            "Epoch: 4 | Step: 2400 | Avg. loss: 0.273 | lr: 0.000154\n",
            "Epoch: 4 | Step: 2500 | Avg. loss: 0.272 | lr: 0.000152\n",
            "Epoch: 4 | Step: 2600 | Avg. loss: 0.263 | lr: 0.000149\n",
            "Epoch: 4 | Step: 2700 | Avg. loss: 0.288 | lr: 0.000147\n",
            "Epoch: 4 | Step: 2800 | Avg. loss: 0.283 | lr: 0.000145\n",
            "Epoch: 4 | Step: 2900 | Avg. loss: 0.270 | lr: 0.000143\n",
            "Epoch: 4 | Step: 3000 | Avg. loss: 0.265 | lr: 0.000141\n",
            "Test loss 0.567\n",
            "Epoch: 4 | Step: 3100 | Avg. loss: 0.263 | lr: 0.000139\n",
            "Epoch: 4 | Step: 3200 | Avg. loss: 0.283 | lr: 0.000137\n",
            "Epoch: 4 | Step: 3300 | Avg. loss: 0.272 | lr: 0.000135\n",
            "Epoch: 4 | Step: 3400 | Avg. loss: 0.276 | lr: 0.000133\n",
            "Epoch: 4 | Step: 3500 | Avg. loss: 0.267 | lr: 0.000131\n",
            "Epoch: 4 | Step: 3600 | Avg. loss: 0.255 | lr: 0.000129\n",
            "Epoch: 4 | Step: 3700 | Avg. loss: 0.271 | lr: 0.000127\n",
            "Epoch: 4 | Step: 3800 | Avg. loss: 0.270 | lr: 0.000125\n",
            "Epoch: 4 | Step: 3900 | Avg. loss: 0.277 | lr: 0.000123\n",
            "Epoch: 4 | Step: 4000 | Avg. loss: 0.276 | lr: 0.000121\n",
            "Test loss 0.472\n",
            "Saving model with test loss of 0.472\n",
            "Epoch: 4 | Step: 4100 | Avg. loss: 0.262 | lr: 0.000119\n",
            "Epoch: 4 | Step: 4200 | Avg. loss: 0.271 | lr: 0.000117\n",
            "Epoch: 4 | Step: 4300 | Avg. loss: 0.268 | lr: 0.000115\n",
            "Epoch: 4 | Step: 4400 | Avg. loss: 0.276 | lr: 0.000113\n",
            "Epoch: 4 | Step: 4500 | Avg. loss: 0.264 | lr: 0.000111\n",
            "Epoch: 4 | Step: 4600 | Avg. loss: 0.265 | lr: 0.000109\n",
            "Epoch: 4 | Step: 4700 | Avg. loss: 0.264 | lr: 0.000107\n",
            "Epoch: 4 | Step: 4800 | Avg. loss: 0.276 | lr: 0.000105\n",
            "Epoch: 4 | Step: 4900 | Avg. loss: 0.264 | lr: 0.000103\n",
            "Epoch: 4 | Step: 5000 | Avg. loss: 0.269 | lr: 0.000101\n",
            "Test loss 0.445\n",
            "Saving model with test loss of 0.445\n"
          ]
        },
        {
          "output_type": "display_data",
          "data": {
            "application/vnd.jupyter.widget-view+json": {
              "model_id": "2d2049644d424b5e894760fc525e888f",
              "version_minor": 0,
              "version_major": 2
            },
            "text/plain": [
              "  0%|          | 0/5000 [00:00<?, ?it/s]"
            ]
          },
          "metadata": {}
        },
        {
          "output_type": "stream",
          "name": "stdout",
          "text": [
            "Epoch: 5 | Step: 100 | Avg. loss: 0.191 | lr: 0.000099\n",
            "Epoch: 5 | Step: 200 | Avg. loss: 0.197 | lr: 0.000097\n",
            "Epoch: 5 | Step: 300 | Avg. loss: 0.197 | lr: 0.000095\n",
            "Epoch: 5 | Step: 400 | Avg. loss: 0.195 | lr: 0.000093\n",
            "Epoch: 5 | Step: 500 | Avg. loss: 0.191 | lr: 0.000091\n",
            "Epoch: 5 | Step: 600 | Avg. loss: 0.195 | lr: 0.000089\n",
            "Epoch: 5 | Step: 700 | Avg. loss: 0.193 | lr: 0.000087\n",
            "Epoch: 5 | Step: 800 | Avg. loss: 0.200 | lr: 0.000085\n",
            "Epoch: 5 | Step: 900 | Avg. loss: 0.198 | lr: 0.000083\n",
            "Epoch: 5 | Step: 1000 | Avg. loss: 0.194 | lr: 0.000081\n",
            "Test loss 0.583\n",
            "Epoch: 5 | Step: 1100 | Avg. loss: 0.199 | lr: 0.000079\n",
            "Epoch: 5 | Step: 1200 | Avg. loss: 0.194 | lr: 0.000077\n",
            "Epoch: 5 | Step: 1300 | Avg. loss: 0.198 | lr: 0.000075\n",
            "Epoch: 5 | Step: 1400 | Avg. loss: 0.193 | lr: 0.000073\n",
            "Epoch: 5 | Step: 1500 | Avg. loss: 0.195 | lr: 0.000071\n",
            "Epoch: 5 | Step: 1600 | Avg. loss: 0.201 | lr: 0.000069\n",
            "Epoch: 5 | Step: 1700 | Avg. loss: 0.195 | lr: 0.000067\n",
            "Epoch: 5 | Step: 1800 | Avg. loss: 0.198 | lr: 0.000065\n",
            "Epoch: 5 | Step: 1900 | Avg. loss: 0.187 | lr: 0.000063\n",
            "Epoch: 5 | Step: 2000 | Avg. loss: 0.194 | lr: 0.000061\n",
            "Test loss 0.544\n",
            "Epoch: 5 | Step: 2100 | Avg. loss: 0.198 | lr: 0.000059\n",
            "Epoch: 5 | Step: 2200 | Avg. loss: 0.199 | lr: 0.000057\n",
            "Epoch: 5 | Step: 2300 | Avg. loss: 0.194 | lr: 0.000055\n",
            "Epoch: 5 | Step: 2400 | Avg. loss: 0.209 | lr: 0.000053\n",
            "Epoch: 5 | Step: 2500 | Avg. loss: 0.200 | lr: 0.000051\n",
            "Epoch: 5 | Step: 2600 | Avg. loss: 0.195 | lr: 0.000048\n",
            "Epoch: 5 | Step: 2700 | Avg. loss: 0.190 | lr: 0.000046\n",
            "Epoch: 5 | Step: 2800 | Avg. loss: 0.198 | lr: 0.000044\n",
            "Epoch: 5 | Step: 2900 | Avg. loss: 0.191 | lr: 0.000042\n",
            "Epoch: 5 | Step: 3000 | Avg. loss: 0.189 | lr: 0.000040\n",
            "Test loss 0.505\n",
            "Epoch: 5 | Step: 3100 | Avg. loss: 0.190 | lr: 0.000038\n",
            "Epoch: 5 | Step: 3200 | Avg. loss: 0.192 | lr: 0.000036\n",
            "Epoch: 5 | Step: 3300 | Avg. loss: 0.185 | lr: 0.000034\n",
            "Epoch: 5 | Step: 3400 | Avg. loss: 0.197 | lr: 0.000032\n",
            "Epoch: 5 | Step: 3500 | Avg. loss: 0.191 | lr: 0.000030\n",
            "Epoch: 5 | Step: 3600 | Avg. loss: 0.193 | lr: 0.000028\n",
            "Epoch: 5 | Step: 3700 | Avg. loss: 0.181 | lr: 0.000026\n",
            "Epoch: 5 | Step: 3800 | Avg. loss: 0.182 | lr: 0.000024\n",
            "Epoch: 5 | Step: 3900 | Avg. loss: 0.192 | lr: 0.000022\n",
            "Epoch: 5 | Step: 4000 | Avg. loss: 0.176 | lr: 0.000020\n",
            "Test loss 0.483\n",
            "Epoch: 5 | Step: 4100 | Avg. loss: 0.181 | lr: 0.000018\n",
            "Epoch: 5 | Step: 4200 | Avg. loss: 0.182 | lr: 0.000016\n",
            "Epoch: 5 | Step: 4300 | Avg. loss: 0.183 | lr: 0.000014\n",
            "Epoch: 5 | Step: 4400 | Avg. loss: 0.183 | lr: 0.000012\n",
            "Epoch: 5 | Step: 4500 | Avg. loss: 0.193 | lr: 0.000010\n",
            "Epoch: 5 | Step: 4600 | Avg. loss: 0.183 | lr: 0.000008\n",
            "Epoch: 5 | Step: 4700 | Avg. loss: 0.185 | lr: 0.000006\n",
            "Epoch: 5 | Step: 4800 | Avg. loss: 0.191 | lr: 0.000004\n",
            "Epoch: 5 | Step: 4900 | Avg. loss: 0.184 | lr: 0.000002\n",
            "Epoch: 5 | Step: 5000 | Avg. loss: 0.181 | lr: 0.000000\n",
            "Test loss 0.435\n",
            "Saving model with test loss of 0.435\n"
          ]
        }
      ]
    },
    {
      "cell_type": "code",
      "metadata": {
        "id": "7S-ENgHpqctP"
      },
      "source": [
        "# import gc\n",
        "# gc.collect()\n",
        "\n",
        "# import torch\n",
        "# torch.cuda.empty_cache()"
      ],
      "execution_count": null,
      "outputs": []
    },
    {
      "cell_type": "code",
      "metadata": {
        "colab": {
          "base_uri": "https://localhost:8080/",
          "height": 285
        },
        "id": "Zac8BHEslXpH",
        "outputId": "e17c818b-0820-4ac3-905f-a4c4d5715d9f"
      },
      "source": [
        "window_size = 50\n",
        "smoothed_losses = [] \n",
        "for i in range(len(losses)-window_size):\n",
        "  smoothed_losses.append(np.mean(losses[i:i+window_size]))\n",
        "\n",
        "plt.plot(smoothed_losses[100:])"
      ],
      "execution_count": null,
      "outputs": [
        {
          "output_type": "execute_result",
          "data": {
            "text/plain": [
              "[<matplotlib.lines.Line2D at 0x7f5c181b5dd0>]"
            ]
          },
          "metadata": {},
          "execution_count": 48
        },
        {
          "output_type": "display_data",
          "data": {
            "image/png": "[encoded data removed]",
            "text/plain": [
              "<Figure size 432x288 with 1 Axes>"
            ]
          },
          "metadata": {}
        }
      ]
    },
    {
      "cell_type": "code",
      "metadata": {
        "colab": {
          "base_uri": "https://localhost:8080/",
          "height": 285
        },
        "id": "H6mRcVPvlYqP",
        "outputId": "0ad0fa91-86d5-423f-8d6b-82a184199aa1"
      },
      "source": [
        "plt.plot(test_losses[:])"
      ],
      "execution_count": null,
      "outputs": [
        {
          "output_type": "execute_result",
          "data": {
            "text/plain": [
              "[<matplotlib.lines.Line2D at 0x7f5c1812ec50>]"
            ]
          },
          "metadata": {},
          "execution_count": 49
        },
        {
          "output_type": "display_data",
          "data": {
            "image/png": "[encoded data removed]",
            "text/plain": [
              "<Figure size 432x288 with 1 Axes>"
            ]
          },
          "metadata": {}
        }
      ]
    },
    {
      "cell_type": "code",
      "metadata": {
        "id": "cLVATlAqwZTd"
      },
      "source": [
        "torch.save(model.state_dict(), model_path_last)"
      ],
      "execution_count": null,
      "outputs": []
    },
    {
      "cell_type": "code",
      "metadata": {
        "id": "OD35tbuGWzYv"
      },
      "source": [
        "# tokenizer.save_pretrained('/content/mt5_translation_example_tokenizer')\n",
        "#!zip -r '/content/mt5_translation_example_tokenizer.zip' '/content/mt5_translation_example_tokenizer'\n",
        "# !cp '/content/mt5_translation_example_tokenizer.zip' '/content/gdrive/My Drive/mt5_translation_example_tokenizer2.zip'"
      ],
      "execution_count": null,
      "outputs": []
    },
    {
      "cell_type": "markdown",
      "metadata": {
        "id": "0YgN9dDcw-Vg"
      },
      "source": [
        "# Test"
      ]
    },
    {
      "cell_type": "code",
      "metadata": {
        "colab": {
          "base_uri": "https://localhost:8080/"
        },
        "id": "YuJ9dZJuGxXC",
        "outputId": "dec9825f-1234-498d-b6a2-a9bec32afb28"
      },
      "source": [
        "test_sentence = test_dataset[16]['en']\n",
        "print('Raw input text:', test_sentence)\n",
        "\n",
        "input_ids = encode_input_str(\n",
        "    text = test_sentence,\n",
        "    target_lang = 'ru',\n",
        "    tokenizer = tokenizer,\n",
        "    seq_len = model.config.max_length,\n",
        "    lang_token_map = LANG_TOKEN_MAPPING)\n",
        "\n",
        "input_ids = input_ids.unsqueeze(0).cuda()\n",
        "\n",
        "print('Truncated input text:', tokenizer.convert_tokens_to_string(\n",
        "    tokenizer.convert_ids_to_tokens(input_ids[0])))"
      ],
      "execution_count": null,
      "outputs": [
        {
          "output_type": "stream",
          "name": "stdout",
          "text": [
            "Raw input text: She called him on the phone. \n",
            "Truncated input text: <ru> She called him on the phone. </s><pad><pad><pad><pad><pad><pad><pad><pad><pad>\n"
          ]
        }
      ]
    },
    {
      "cell_type": "code",
      "metadata": {
        "colab": {
          "base_uri": "https://localhost:8080/"
        },
        "id": "1legmkznG9YD",
        "outputId": "c3f6a37d-59a7-4a6c-f76c-f419a6e371d9"
      },
      "source": [
        "output_tokens = model.generate(input_ids, num_beams=10, num_return_sequences=3)\n",
        "\n",
        "# print(output_tokens)\n",
        "\n",
        "for token_set in output_tokens:\n",
        "  print(tokenizer.decode(token_set, skip_special_tokens=True))"
      ],
      "execution_count": null,
      "outputs": [
        {
          "output_type": "stream",
          "name": "stdout",
          "text": [
            "Она позвонила ему по телефону. \n",
            "Она звонила ему по телефону. \n",
            "Она позвонила ему по телефону. \n"
          ]
        }
      ]
    },
    {
      "cell_type": "code",
      "metadata": {
        "id": "473-Ms-HyEL5"
      },
      "source": [
        "def translate(text, lang_from, lang_to):\n",
        "  # test_sentence = test_dataset[16][lang_from]\n",
        "  # print('Raw input text:', test_sentence)\n",
        "\n",
        "  input_ids = encode_input_str(\n",
        "      text = text,\n",
        "      target_lang = lang_to,\n",
        "      tokenizer = tokenizer,\n",
        "      seq_len = model.config.max_length,\n",
        "      lang_token_map = LANG_TOKEN_MAPPING)\n",
        "\n",
        "  input_ids = input_ids.unsqueeze(0).cuda()\n",
        "  # res = tokenizer.convert_tokens_to_string(tokenizer.convert_ids_to_tokens(input_ids[0]))\n",
        "\n",
        "  output_tokens = model.generate(input_ids, num_beams=10, num_return_sequences=1)\n",
        "\n",
        "  res = tokenizer.decode(output_tokens[0], skip_special_tokens=True)\n",
        "\n",
        "  return res\n",
        "\n",
        "def translate_to_english(text):\n",
        "  return translate(text, 'ru', 'en')\n",
        "\n",
        "def translate_to_russian(text):\n",
        "  return translate(text, 'en', 'ru')"
      ],
      "execution_count": null,
      "outputs": []
    },
    {
      "cell_type": "code",
      "metadata": {
        "colab": {
          "base_uri": "https://localhost:8080/",
          "height": 35
        },
        "id": "NaW03ypkMS0K",
        "outputId": "687ad645-62c2-467b-e2a7-37c17d722c63"
      },
      "source": [
        "translate_to_english('Лондон — столица Великобритании')"
      ],
      "execution_count": null,
      "outputs": [
        {
          "output_type": "execute_result",
          "data": {
            "application/vnd.google.colaboratory.intrinsic+json": {
              "type": "string"
            },
            "text/plain": [
              "'London is the capital of Great Britain. '"
            ]
          },
          "metadata": {},
          "execution_count": 64
        }
      ]
    },
    {
      "cell_type": "code",
      "metadata": {
        "colab": {
          "base_uri": "https://localhost:8080/",
          "height": 35
        },
        "id": "zWJFcIrTMqtx",
        "outputId": "ae48d4e6-53ae-4fb5-da07-96ef71c75d31"
      },
      "source": [
        "translate_to_russian('When in danger or in doubt, run in circles, scream and shout')"
      ],
      "execution_count": null,
      "outputs": [
        {
          "output_type": "execute_result",
          "data": {
            "application/vnd.google.colaboratory.intrinsic+json": {
              "type": "string"
            },
            "text/plain": [
              "'Когда в опасности или в беде, бегайте в круги, кричите '"
            ]
          },
          "metadata": {},
          "execution_count": 66
        }
      ]
    },
    {
      "cell_type": "code",
      "metadata": {
        "id": "UJmkjv4hNSYo"
      },
      "source": [],
      "execution_count": null,
      "outputs": []
    }
  ]
}