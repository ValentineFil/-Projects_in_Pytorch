{
 "cells": [
  {
   "cell_type": "code",
   "execution_count": 104,
   "metadata": {},
   "outputs": [
    {
     "data": {
      "text/plain": [
       "<AxesSubplot:>"
      ]
     },
     "execution_count": 104,
     "metadata": {},
     "output_type": "execute_result"
    },
    {
     "data": {
      "image/png": "[encoded data removed]",
      "text/plain": [
       "<Figure size 432x288 with 1 Axes>"
      ]
     },
     "metadata": {
      "needs_background": "light"
     },
     "output_type": "display_data"
    }
   ],
   "source": [
    "from sklearn.feature_extraction.text import CountVectorizer\n",
    "import seaborn as sns\n",
    "\n",
    "corpus = ['Time flies flies like an arrow.',\n",
    "         'Fruit flies like a banana.']\n",
    "\n",
    "vocab=['an','arrow','banana','flies','fruit','like','time']\n",
    "one_hot_vectorizer = CountVectorizer(binary=True)\n",
    "one_hot = one_hot_vectorizer.fit_transform(corpus).toarray()\n",
    "sns.heatmap(one_hot, annot=True,\n",
    "             cbar=False, xticklabels=vocab,\n",
    "             yticklabels=['Предложение 2'])"
   ]
  },
  {
   "cell_type": "code",
   "execution_count": 105,
   "metadata": {},
   "outputs": [
    {
     "data": {
      "text/plain": [
       "<AxesSubplot:>"
      ]
     },
     "execution_count": 105,
     "metadata": {},
     "output_type": "execute_result"
    },
    {
     "data": {
      "image/png": "[encoded data removed]",
      "text/plain": [
       "<Figure size 432x288 with 1 Axes>"
      ]
     },
     "metadata": {
      "needs_background": "light"
     },
     "output_type": "display_data"
    }
   ],
   "source": [
    "from sklearn.feature_extraction.text import TfidfVectorizer\n",
    "import seaborn as sns\n",
    "\n",
    "vocab=['an','arrow','banana','flies','fruit','like','time']\n",
    "tfidf_vectorizer = TfidfVectorizer()\n",
    "tfidf = tfidf_vectorizer.fit_transform(corpus).toarray()\n",
    "sns.heatmap(tfidf, annot=True, cbar=False, xticklabels=vocab,\n",
    "            yticklabels= ['Предложение 1', 'Предложение 2'])"
   ]
  },
  {
   "cell_type": "code",
   "execution_count": 106,
   "metadata": {},
   "outputs": [
    {
     "data": {
      "text/plain": [
       "tensor([2], dtype=torch.int32)"
      ]
     },
     "execution_count": 106,
     "metadata": {},
     "output_type": "execute_result"
    }
   ],
   "source": [
    "import torch\n",
    "device = torch.device(\"cuda:0\")\n",
    "a = torch.IntTensor([1])\n",
    "b = torch.FloatTensor([2.0])\n",
    "b.int()"
   ]
  },
  {
   "cell_type": "code",
   "execution_count": 107,
   "metadata": {},
   "outputs": [
    {
     "data": {
      "text/plain": [
       "tensor([[1., 2.],\n",
       "        [3., 4.],\n",
       "        [5., 6.]])"
      ]
     },
     "execution_count": 107,
     "metadata": {},
     "output_type": "execute_result"
    }
   ],
   "source": [
    "a1= torch.FloatTensor([[1, 2], [3, 4], [5, 6]])\n",
    "a1"
   ]
  },
  {
   "cell_type": "code",
   "execution_count": 108,
   "metadata": {},
   "outputs": [
    {
     "data": {
      "text/plain": [
       "tensor([1.4013e-45])"
      ]
     },
     "execution_count": 108,
     "metadata": {},
     "output_type": "execute_result"
    }
   ],
   "source": [
    "torch.FloatTensor(1)"
   ]
  },
  {
   "cell_type": "code",
   "execution_count": 109,
   "metadata": {},
   "outputs": [
    {
     "data": {
      "text/plain": [
       "tensor([[0., 0., 0.],\n",
       "        [0., 0., 0.],\n",
       "        [0., 0., 0.]])"
      ]
     },
     "execution_count": 109,
     "metadata": {},
     "output_type": "execute_result"
    }
   ],
   "source": [
    "torch.FloatTensor(3, 3)"
   ]
  },
  {
   "cell_type": "code",
   "execution_count": 110,
   "metadata": {},
   "outputs": [
    {
     "name": "stdout",
     "output_type": "stream",
     "text": [
      "tensor([1., 2., 3.])\n",
      "tensor(2.)\n",
      "tensor(3.)\n",
      "tensor([1., 4.])\n",
      "tensor([4., 5.])\n"
     ]
    }
   ],
   "source": [
    "# индексирование\n",
    "b1 = torch.FloatTensor([[1, 2, 3], [4, 5, 6]])\n",
    "print(b1[0])\n",
    "print(b1[0][1])\n",
    "print(b1[0, 2])\n",
    "print(b1[:, 0])\n",
    "print(b1[1, 0:2])\n"
   ]
  },
  {
   "cell_type": "code",
   "execution_count": 111,
   "metadata": {},
   "outputs": [
    {
     "name": "stdout",
     "output_type": "stream",
     "text": [
      "tensor([[ 88,  56,  96,   1],\n",
      "        [ 21,  33,  85, 107],\n",
      "        [116, 122,  41,  78]], dtype=torch.uint8)\n",
      "tensor([[ 88,  56,  96,   1],\n",
      "        [ 21,  33,  85, 107]], dtype=torch.uint8)\n",
      "tensor([122], dtype=torch.uint8)\n"
     ]
    }
   ],
   "source": [
    "# маска\n",
    "a2 = torch.ByteTensor(3,4).random_()\n",
    "a3 = a2[torch.LongTensor([0, 1])]\n",
    "print(a2)\n",
    "print(a3)\n",
    "print(a2[a2>120])"
   ]
  },
  {
   "cell_type": "code",
   "execution_count": 112,
   "metadata": {},
   "outputs": [
    {
     "data": {
      "text/plain": [
       "'torch.ByteTensor'"
      ]
     },
     "execution_count": 112,
     "metadata": {},
     "output_type": "execute_result"
    }
   ],
   "source": [
    "# информация о тензоре\n",
    "\n",
    "a2.data_ptr()\n",
    "a2.dim()\n",
    "a2.size()\n",
    "a2.type()"
   ]
  },
  {
   "cell_type": "code",
   "execution_count": 121,
   "metadata": {},
   "outputs": [
    {
     "data": {
      "text/plain": [
       "tensor([[0.4505, 0.0213, 0.9822],\n",
       "        [0.0381, 0.6721, 0.3810],\n",
       "        [0.0109, 0.2462, 0.0034]])"
      ]
     },
     "execution_count": 121,
     "metadata": {},
     "output_type": "execute_result"
    }
   ],
   "source": [
    "# операции с функциями\n",
    "print(a2.zero_())\n",
    "print(a2.fill_(2))\n",
    "print(a2.random_(1, 20))"
   ]
  },
  {
   "cell_type": "code",
   "execution_count": 127,
   "metadata": {},
   "outputs": [
    {
     "name": "stdout",
     "output_type": "stream",
     "text": [
      "tensor([[0.3932, 0.6671, 0.1660, 0.4642],\n",
      "        [0.8339, 0.9793, 0.6879, 0.7515],\n",
      "        [0.6793, 0.3795, 0.8980, 0.0309]])\n",
      "tensor([[ 2.0311, -1.3203,  0.2084, -1.7213],\n",
      "        [-1.0777,  0.0647, -0.8346, -1.6570],\n",
      "        [ 0.6841,  0.5952, -1.7225,  0.0839]])\n",
      "tensor([[1., 1., 0., 0.],\n",
      "        [1., 1., 1., 0.],\n",
      "        [0., 0., 1., 1.]])\n",
      "tensor([[1., 0., 0., 0.],\n",
      "        [0., 1., 0., 0.],\n",
      "        [0., 0., 1., 0.],\n",
      "        [0., 0., 0., 1.]])\n"
     ]
    }
   ],
   "source": [
    "a3 = torch.FloatTensor(3,4).zero_()\n",
    "print(a3.uniform_(0, 1))\n",
    "print(a3.normal_(mean=0, std=1))\n",
    "print(a3.bernoulli_(p=0.5))\n",
    "print(torch.eye(4, 4))\n"
   ]
  },
  {
   "cell_type": "code",
   "execution_count": 134,
   "metadata": {},
   "outputs": [
    {
     "name": "stdout",
     "output_type": "stream",
     "text": [
      "tensor([[ 4,  6],\n",
      "        [ 8, 10]], dtype=torch.int32)\n",
      "tensor([[ 4,  6],\n",
      "        [ 8, 10]], dtype=torch.int32)\n",
      "tensor([[ 4,  6],\n",
      "        [ 8, 10]], dtype=torch.int32)\n"
     ]
    }
   ],
   "source": [
    "# математические операции\n",
    "x = torch.IntTensor([[1, 2], [3, 4]])\n",
    "y = torch.IntTensor([[3, 4], [5, 6]])\n",
    "print(x.add(y))\n",
    "print(torch.add(x,y))\n",
    "print(x.add_(y))\n",
    "# аналогично add/sub/mul/div/exp/log/log1p/abs/t"
   ]
  },
  {
   "cell_type": "code",
   "execution_count": 141,
   "metadata": {},
   "outputs": [
    {
     "data": {
      "text/plain": [
       "tensor([[[-3.4706, -5.0559, -6.7028, -3.9933,  0.3807],\n",
       "         [ 1.9087,  1.1399,  3.8010,  1.5494, -2.8602],\n",
       "         [-4.2940, -6.3954, -2.5225, -3.5198,  4.1499]],\n",
       "\n",
       "        [[-2.5167,  0.5016, -0.0702, -0.3897,  0.3031],\n",
       "         [-1.2754, -0.1326, -0.5416, -0.1799,  0.6715],\n",
       "         [ 2.5768, -0.0102, -1.5256,  0.1843, -1.3240]],\n",
       "\n",
       "        [[-0.2849,  1.1036, -1.3682,  0.4870,  1.9951],\n",
       "         [-3.5131,  3.5073, -2.7044,  1.9431,  3.8641],\n",
       "         [-1.3162, -1.8676, -0.5971,  2.9761, -0.1056]],\n",
       "\n",
       "        [[ 0.2592,  0.1555, -1.2730,  2.2941, -0.3158],\n",
       "         [ 0.2793,  1.6303, -0.1889,  2.1043,  0.7960],\n",
       "         [-0.5243,  1.5674,  1.7735, -1.8203,  0.2511]],\n",
       "\n",
       "        [[-4.2757,  1.3385,  1.2628,  0.1929,  0.7374],\n",
       "         [-3.4306,  2.2354,  1.2906, -2.1147,  2.3610],\n",
       "         [ 1.9198, -1.3283, -0.0207,  2.3859, -1.8453]],\n",
       "\n",
       "        [[-1.8230, -2.5389, -4.6584, -3.2408, -0.1828],\n",
       "         [-0.8686, -2.4846, -1.0147, -4.1696,  1.4962],\n",
       "         [-2.3550, -3.4081, -1.1835, -0.5202, -3.5951]],\n",
       "\n",
       "        [[-0.1873,  0.7302,  0.5666,  0.3333,  0.5790],\n",
       "         [-0.6668,  0.8676,  1.6519,  1.5499, -0.5366],\n",
       "         [-2.6498,  1.4965,  3.7138,  1.9188,  0.8933]],\n",
       "\n",
       "        [[-1.5593, -0.8449, -2.3448,  2.5206,  1.6344],\n",
       "         [ 0.2436, -0.2227,  0.4161,  0.0259, -1.4310],\n",
       "         [-0.4850,  2.2134, -1.2966,  2.8270,  0.8353]],\n",
       "\n",
       "        [[-2.2793,  0.6224, -1.1312, -0.4559, -0.4853],\n",
       "         [-0.1809,  3.3689, -3.8572, -0.5448, -1.8700],\n",
       "         [-0.5401, -2.0798,  2.4355,  0.0103,  0.8680]],\n",
       "\n",
       "        [[-3.1088, -1.8549,  3.0314, -3.0355,  0.0162],\n",
       "         [-0.9114,  0.5264,  0.8453, -1.1470,  0.9815],\n",
       "         [-3.0634, -0.7027,  1.3917, -3.2819,  1.4116]]])"
      ]
     },
     "execution_count": 141,
     "metadata": {},
     "output_type": "execute_result"
    }
   ],
   "source": [
    "bx = torch.randn(10, 3, 4)\n",
    "by = torch.randn(10, 4, 5)\n",
    "bz = bx.bmm(by)\n",
    "bz\n"
   ]
  },
  {
   "cell_type": "code",
   "execution_count": 143,
   "metadata": {},
   "outputs": [],
   "source": [
    "# операции редукции"
   ]
  },
  {
   "cell_type": "code",
   "execution_count": 144,
   "metadata": {},
   "outputs": [],
   "source": [
    "# Broadcasting"
   ]
  },
  {
   "cell_type": "code",
   "execution_count": 151,
   "metadata": {},
   "outputs": [
    {
     "data": {
      "text/plain": [
       "tensor([[1., 2., 3.],\n",
       "        [4., 5., 6.]])"
      ]
     },
     "execution_count": 151,
     "metadata": {},
     "output_type": "execute_result"
    }
   ],
   "source": [
    "x = torch.Tensor([[1, 2, 3],\n",
    "                   [4, 5, 6]])\n",
    "x.view(2, 3)"
   ]
  },
  {
   "cell_type": "code",
   "execution_count": 154,
   "metadata": {},
   "outputs": [
    {
     "data": {
      "text/plain": [
       "tensor([[1., 2., 3., 1., 2., 3.],\n",
       "        [4., 5., 6., 4., 5., 6.]])"
      ]
     },
     "execution_count": 154,
     "metadata": {},
     "output_type": "execute_result"
    }
   ],
   "source": [
    "torch.cat([x, x], dim=1)"
   ]
  },
  {
   "cell_type": "code",
   "execution_count": 155,
   "metadata": {},
   "outputs": [
    {
     "data": {
      "text/plain": [
       "tensor([[1., 1.],\n",
       "        [1., 1.]])"
      ]
     },
     "execution_count": 155,
     "metadata": {},
     "output_type": "execute_result"
    }
   ],
   "source": [
    "torch.ones(2, 2)"
   ]
  },
  {
   "cell_type": "code",
   "execution_count": 160,
   "metadata": {},
   "outputs": [
    {
     "name": "stdout",
     "output_type": "stream",
     "text": [
      "True\n"
     ]
    }
   ],
   "source": [
    "print(x.grad is None)\n"
   ]
  },
  {
   "cell_type": "code",
   "execution_count": 161,
   "metadata": {},
   "outputs": [
    {
     "name": "stdout",
     "output_type": "stream",
     "text": [
      "False\n"
     ]
    }
   ],
   "source": [
    "import torch\n",
    "print (torch.cuda.is_available())"
   ]
  }
 ],
 "metadata": {
  "kernelspec": {
   "display_name": "Python 3",
   "language": "python",
   "name": "python3"
  },
  "language_info": {
   "codemirror_mode": {
    "name": "ipython",
    "version": 3
   },
   "file_extension": ".py",
   "mimetype": "text/x-python",
   "name": "python",
   "nbconvert_exporter": "python",
   "pygments_lexer": "ipython3",
   "version": "3.8.5"
  }
 },
 "nbformat": 4,
 "nbformat_minor": 4
}
