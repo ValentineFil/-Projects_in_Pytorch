{
  "nbformat": 4,
  "nbformat_minor": 0,
  "metadata": {
    "colab": {
      "provenance": [],
      "collapsed_sections": [],
      "include_colab_link": true
    },
    "kernelspec": {
      "name": "python3",
      "display_name": "Python 3"
    },
    "language_info": {
      "name": "python"
    }
  },
  "cells": [
    {
      "cell_type": "markdown",
      "metadata": {
        "id": "view-in-github",
        "colab_type": "text"
      },
      "source": [
        "<a href=\"https://colab.research.google.com/github/ValentineFil/-Projects_in_Pytorch/blob/main/%D0%9A%D0%BE%D0%BF%D0%B8%D1%8F_%D0%B1%D0%BB%D0%BE%D0%BA%D0%BD%D0%BE%D1%82%D0%B0_%22A_Dive_into_Natural_Language_Processing_Lesson_2%22.ipynb\" target=\"_parent\"><img src=\"https://colab.research.google.com/assets/colab-badge.svg\" alt=\"Open In Colab\"/></a>"
      ]
    },
    {
      "cell_type": "markdown",
      "metadata": {
        "id": "DMc1ScHekji4"
      },
      "source": [
        "# A Dive into Natural Language Processing.\n",
        "\n",
        "#### Text preprocessing. Embeddings.\n",
        "\n",
        "- Познакомимся с основными инструментами и библиотеками для обработки текста\n",
        "- Познакомимся с эмбеддингами\n",
        "- Сделаем семантический поиск"
      ]
    },
    {
      "cell_type": "markdown",
      "metadata": {
        "id": "YK7DYkeuQ87w"
      },
      "source": [
        "## Знакомимся с Colab"
      ]
    },
    {
      "cell_type": "markdown",
      "metadata": {
        "id": "xSuFKb1GRef6"
      },
      "source": [
        "Colab — среда для проведения экспериментов, позволяющая использовать ресурсы Google. Код пишется на python'е.\n",
        "\n",
        "![](https://i.imgur.com/F4mV2Kf.png)"
      ]
    },
    {
      "cell_type": "markdown",
      "metadata": {
        "id": "PcWoY6b9mAZl"
      },
      "source": [
        "### Код\n",
        "\n",
        "Пара shortcut'ов:\n",
        "\n",
        "\n",
        "|shortcut| details|\n",
        "|-|-|\n",
        "|Сtrl + Enter | Выполнить текущую ячейку | \n",
        "|Сtrl + F8 | Выполнить все, что выше | \n",
        "|Сtrl + B | Добавить ячейку снизу |\n",
        "|Сtrl + A | Добавить ячейку сверху |\n",
        "|Сtrl + M + M | Превратить в ячейку с текстом |\n",
        "|Сtrl + M + Y | Превратить в ячейку с кодом |\n",
        "|Сtrl + M + D | Удалить ячейку |\n",
        "|Сtrl + ?| Комментирование |"
      ]
    },
    {
      "cell_type": "code",
      "metadata": {
        "colab": {
          "base_uri": "https://localhost:8080/"
        },
        "id": "N6DUoDWXopa6",
        "outputId": "30d8e6fc-77ab-4cb5-d09e-8ed2e03e8712"
      },
      "source": [
        "text = \"Some text\"\n",
        "\n",
        "print(text)"
      ],
      "execution_count": null,
      "outputs": [
        {
          "output_type": "stream",
          "name": "stdout",
          "text": [
            "Some text\n"
          ]
        }
      ]
    },
    {
      "cell_type": "markdown",
      "metadata": {
        "id": "RRR6tb-ZUbOx"
      },
      "source": [
        "### Shell"
      ]
    },
    {
      "cell_type": "markdown",
      "metadata": {
        "id": "MFjsjarfu0qm"
      },
      "source": []
    },
    {
      "cell_type": "markdown",
      "metadata": {
        "id": "Czq-qph2ROS5"
      },
      "source": [
        "Через **!** можно запускать консольные команды.\n",
        "\n",
        "Например, **!nvidia-smi** покажет, какая видеокарта есть в текущем окружении (если GPU выбран в настройках)."
      ]
    },
    {
      "cell_type": "code",
      "metadata": {
        "colab": {
          "base_uri": "https://localhost:8080/"
        },
        "id": "YEqsHotrkzWQ",
        "outputId": "21e41035-8fc4-4b5a-9a39-c3f8b49ea609"
      },
      "source": [
        "!python --version"
      ],
      "execution_count": null,
      "outputs": [
        {
          "output_type": "stream",
          "name": "stdout",
          "text": [
            "Python 3.7.12\n"
          ]
        }
      ]
    },
    {
      "cell_type": "code",
      "metadata": {
        "colab": {
          "base_uri": "https://localhost:8080/"
        },
        "id": "spIM012gk2o5",
        "outputId": "4c007e94-3a51-465c-a7f7-15e0eb4b1d0d"
      },
      "source": [
        "!nvidia-smi"
      ],
      "execution_count": null,
      "outputs": [
        {
          "output_type": "stream",
          "name": "stdout",
          "text": [
            "Fri Oct 15 15:54:17 2021       \n",
            "+-----------------------------------------------------------------------------+\n",
            "| NVIDIA-SMI 470.74       Driver Version: 460.32.03    CUDA Version: 11.2     |\n",
            "|-------------------------------+----------------------+----------------------+\n",
            "| GPU  Name        Persistence-M| Bus-Id        Disp.A | Volatile Uncorr. ECC |\n",
            "| Fan  Temp  Perf  Pwr:Usage/Cap|         Memory-Usage | GPU-Util  Compute M. |\n",
            "|                               |                      |               MIG M. |\n",
            "|===============================+======================+======================|\n",
            "|   0  Tesla K80           Off  | 00000000:00:04.0 Off |                    0 |\n",
            "| N/A   48C    P8    30W / 149W |      0MiB / 11441MiB |      0%      Default |\n",
            "|                               |                      |                  N/A |\n",
            "+-------------------------------+----------------------+----------------------+\n",
            "                                                                               \n",
            "+-----------------------------------------------------------------------------+\n",
            "| Processes:                                                                  |\n",
            "|  GPU   GI   CI        PID   Type   Process name                  GPU Memory |\n",
            "|        ID   ID                                                   Usage      |\n",
            "|=============================================================================|\n",
            "|  No running processes found                                                 |\n",
            "+-----------------------------------------------------------------------------+\n"
          ]
        }
      ]
    },
    {
      "cell_type": "markdown",
      "metadata": {
        "id": "nEu0s2FbUfO_"
      },
      "source": [
        "### Видеокарты"
      ]
    },
    {
      "cell_type": "markdown",
      "metadata": {
        "id": "OspIKkYHSdXF"
      },
      "source": [
        "Бесплатно выдается Tesla K80, может попасться Tesla T4. На тарифе Colab Pro (\\$10) — Tesla T4 и Tesla P100. На Colab Pro+ (\\$50) — Tesla V100 и Tesla A100 (40 Gb).\n",
        "\n",
        "**Ограничения**:\n",
        "\n",
        "- На длительность отдельной сессии\n",
        "- На общее использование\n",
        "\n",
        "Надо закрывать неиспользуемые вкладки или останавливать сессию руками. Если использовать слишком много (по несколько суток с перезапуском), то можно увидеть что-то подобное:\n",
        "\n",
        "![](https://i.imgur.com/PGXvYM9.png)\n"
      ]
    },
    {
      "cell_type": "markdown",
      "metadata": {
        "id": "ykdqDdlnUj7w"
      },
      "source": [
        "### Google Drive\n",
        "\n",
        "Можно подключать Google Drive, копировать с него данные и сохранять на нем результаты расчетов."
      ]
    },
    {
      "cell_type": "code",
      "metadata": {
        "colab": {
          "base_uri": "https://localhost:8080/"
        },
        "id": "I3WOGtVufnIH",
        "outputId": "b97c1d67-ff6b-4c24-fad4-2c749bf84d6d"
      },
      "source": [
        "!cat /etc/os-release"
      ],
      "execution_count": null,
      "outputs": [
        {
          "output_type": "stream",
          "name": "stdout",
          "text": [
            "NAME=\"Ubuntu\"\n",
            "VERSION=\"18.04.5 LTS (Bionic Beaver)\"\n",
            "ID=ubuntu\n",
            "ID_LIKE=debian\n",
            "PRETTY_NAME=\"Ubuntu 18.04.5 LTS\"\n",
            "VERSION_ID=\"18.04\"\n",
            "HOME_URL=\"https://www.ubuntu.com/\"\n",
            "SUPPORT_URL=\"https://help.ubuntu.com/\"\n",
            "BUG_REPORT_URL=\"https://bugs.launchpad.net/ubuntu/\"\n",
            "PRIVACY_POLICY_URL=\"https://www.ubuntu.com/legal/terms-and-policies/privacy-policy\"\n",
            "VERSION_CODENAME=bionic\n",
            "UBUNTU_CODENAME=bionic\n"
          ]
        }
      ]
    },
    {
      "cell_type": "code",
      "metadata": {
        "colab": {
          "base_uri": "https://localhost:8080/"
        },
        "id": "YLL96sMUUXFv",
        "outputId": "40b5884c-1634-497b-fe36-e4d0b8c1b26d"
      },
      "source": [
        "from google.colab import drive\n",
        "\n",
        "drive.mount('/content/drive')"
      ],
      "execution_count": null,
      "outputs": [
        {
          "output_type": "stream",
          "name": "stdout",
          "text": [
            "Mounted at /content/drive\n"
          ]
        }
      ]
    },
    {
      "cell_type": "code",
      "metadata": {
        "id": "I7zA0L0xRObB"
      },
      "source": [
        "!ls /content/drive/MyDrive/"
      ],
      "execution_count": null,
      "outputs": []
    },
    {
      "cell_type": "code",
      "metadata": {
        "id": "vcuZkJiLROcw",
        "colab": {
          "base_uri": "https://localhost:8080/"
        },
        "outputId": "bb76d307-1f18-4512-e383-aeb5f18a0c3e"
      },
      "source": [
        "!mkdir /content/drive/MyDrive/nlp_course"
      ],
      "execution_count": null,
      "outputs": [
        {
          "output_type": "stream",
          "name": "stdout",
          "text": [
            "mkdir: cannot create directory ‘/content/drive/MyDrive/nlp_course’: File exists\n"
          ]
        }
      ]
    },
    {
      "cell_type": "code",
      "metadata": {
        "id": "qbk6dmoprAjS"
      },
      "source": [
        "!echo \"NLP course is here.\" > /content/drive/MyDrive/nlp_course/test.txt"
      ],
      "execution_count": null,
      "outputs": []
    },
    {
      "cell_type": "code",
      "metadata": {
        "id": "yYyry23qrPJL"
      },
      "source": [
        "!cat /content/drive/MyDrive/nlp_course/test.txt"
      ],
      "execution_count": null,
      "outputs": []
    },
    {
      "cell_type": "markdown",
      "metadata": {
        "id": "xFVexc7wrdck"
      },
      "source": [
        "Можно загружать файлы из интернета"
      ]
    },
    {
      "cell_type": "code",
      "metadata": {
        "id": "48HfhAAUrdec"
      },
      "source": [
        "!wget https://images.google.com/images/branding/googlelogo/1x/googlelogo_color_272x92dp.png -O img.png"
      ],
      "execution_count": null,
      "outputs": []
    },
    {
      "cell_type": "code",
      "metadata": {
        "id": "yMopSBaLrdmQ"
      },
      "source": [
        "from IPython.display import Image\n",
        "Image('img.png')"
      ],
      "execution_count": null,
      "outputs": []
    },
    {
      "cell_type": "markdown",
      "metadata": {
        "id": "QPAt8FD3rdnP"
      },
      "source": [
        "Можно загружать шаренные файлы с Google Drive."
      ]
    },
    {
      "cell_type": "code",
      "metadata": {
        "id": "-sYiHfx_rdoN",
        "colab": {
          "base_uri": "https://localhost:8080/"
        },
        "outputId": "2241ea4d-f133-4c1e-85b3-221ac5ebd855"
      },
      "source": [
        "!gdown --id 11Q2g2aA-n7fYK95XEB3d6m0CWKSt6rob"
      ],
      "execution_count": null,
      "outputs": [
        {
          "output_type": "stream",
          "name": "stdout",
          "text": [
            "Downloading...\n",
            "From: https://drive.google.com/uc?id=11Q2g2aA-n7fYK95XEB3d6m0CWKSt6rob\n",
            "To: /content/quora_question_pairs_rus.csv.zip\n",
            "100% 26.7M/26.7M [00:00<00:00, 125MB/s] \n"
          ]
        }
      ]
    },
    {
      "cell_type": "markdown",
      "metadata": {
        "id": "8nmX1bYDtvf_"
      },
      "source": [
        "### Установка зависимостей"
      ]
    },
    {
      "cell_type": "markdown",
      "metadata": {
        "id": "WuBbxgimtoJt"
      },
      "source": [
        "Установка пакетов производится через менеджер пакетов **pip**.\n",
        "\n",
        "Так как при запуске сессии поднимается образ среды, специально собранный для работы с данными, то многие пакеты уже установлены."
      ]
    },
    {
      "cell_type": "code",
      "metadata": {
        "id": "DkR40ioTrdpS"
      },
      "source": [
        "import nltk"
      ],
      "execution_count": null,
      "outputs": []
    },
    {
      "cell_type": "markdown",
      "metadata": {
        "id": "jBFWTIOsfp8A"
      },
      "source": [
        "Если какого-то пакета нет, то его можно установить."
      ]
    },
    {
      "cell_type": "code",
      "metadata": {
        "colab": {
          "base_uri": "https://localhost:8080/"
        },
        "id": "vcM4wU1vfo4T",
        "outputId": "624002ba-1ec2-486a-a348-b702d3718c23"
      },
      "source": [
        "!pip install razdel pymorphy2 pymystem3\n",
        "\n",
        "import razdel"
      ],
      "execution_count": null,
      "outputs": [
        {
          "output_type": "stream",
          "name": "stdout",
          "text": [
            "Collecting razdel\n",
            "  Downloading razdel-0.5.0-py3-none-any.whl (21 kB)\n",
            "Collecting pymorphy2\n",
            "  Downloading pymorphy2-0.9.1-py3-none-any.whl (55 kB)\n",
            "\u001b[K     |████████████████████████████████| 55 kB 3.7 MB/s \n",
            "\u001b[?25hRequirement already satisfied: pymystem3 in /usr/local/lib/python3.7/dist-packages (0.2.0)\n",
            "Collecting dawg-python>=0.7.1\n",
            "  Downloading DAWG_Python-0.7.2-py2.py3-none-any.whl (11 kB)\n",
            "Collecting pymorphy2-dicts-ru<3.0,>=2.4\n",
            "  Downloading pymorphy2_dicts_ru-2.4.417127.4579844-py2.py3-none-any.whl (8.2 MB)\n",
            "\u001b[K     |████████████████████████████████| 8.2 MB 25.8 MB/s \n",
            "\u001b[?25hRequirement already satisfied: docopt>=0.6 in /usr/local/lib/python3.7/dist-packages (from pymorphy2) (0.6.2)\n",
            "Requirement already satisfied: requests in /usr/local/lib/python3.7/dist-packages (from pymystem3) (2.23.0)\n",
            "Requirement already satisfied: idna<3,>=2.5 in /usr/local/lib/python3.7/dist-packages (from requests->pymystem3) (2.10)\n",
            "Requirement already satisfied: certifi>=2017.4.17 in /usr/local/lib/python3.7/dist-packages (from requests->pymystem3) (2021.5.30)\n",
            "Requirement already satisfied: chardet<4,>=3.0.2 in /usr/local/lib/python3.7/dist-packages (from requests->pymystem3) (3.0.4)\n",
            "Requirement already satisfied: urllib3!=1.25.0,!=1.25.1,<1.26,>=1.21.1 in /usr/local/lib/python3.7/dist-packages (from requests->pymystem3) (1.24.3)\n",
            "Installing collected packages: pymorphy2-dicts-ru, dawg-python, razdel, pymorphy2\n",
            "Successfully installed dawg-python-0.7.2 pymorphy2-0.9.1 pymorphy2-dicts-ru-2.4.417127.4579844 razdel-0.5.0\n"
          ]
        }
      ]
    },
    {
      "cell_type": "markdown",
      "metadata": {
        "id": "15rzuxPaf4xY"
      },
      "source": [
        "Если пакет есть, но нужна другая версия, то его можно переустановить. После этого может потребоваться перезапуск среды выполнения. При этом текущие переменные сотрутся, файлы останутся."
      ]
    },
    {
      "cell_type": "code",
      "metadata": {
        "id": "0FoI1bqZgS0_"
      },
      "source": [
        "import gensim\n",
        "\n",
        "print(gensim.__version__)"
      ],
      "execution_count": null,
      "outputs": []
    },
    {
      "cell_type": "code",
      "metadata": {
        "colab": {
          "base_uri": "https://localhost:8080/"
        },
        "id": "8lF6Spp4f5Lo",
        "outputId": "d0d8e1f3-b7f1-437f-e89c-39372aac9f9e"
      },
      "source": [
        "!pip install -U gensim==3.8.0"
      ],
      "execution_count": null,
      "outputs": [
        {
          "output_type": "stream",
          "name": "stdout",
          "text": [
            "Collecting gensim==3.8.0\n",
            "  Downloading gensim-3.8.0-cp37-cp37m-manylinux1_x86_64.whl (24.2 MB)\n",
            "\u001b[K     |████████████████████████████████| 24.2 MB 1.3 MB/s \n",
            "\u001b[?25hRequirement already satisfied: numpy>=1.11.3 in /usr/local/lib/python3.7/dist-packages (from gensim==3.8.0) (1.19.5)\n",
            "Requirement already satisfied: scipy>=0.18.1 in /usr/local/lib/python3.7/dist-packages (from gensim==3.8.0) (1.4.1)\n",
            "Requirement already satisfied: six>=1.5.0 in /usr/local/lib/python3.7/dist-packages (from gensim==3.8.0) (1.15.0)\n",
            "Requirement already satisfied: smart-open>=1.7.0 in /usr/local/lib/python3.7/dist-packages (from gensim==3.8.0) (5.2.1)\n",
            "Installing collected packages: gensim\n",
            "  Attempting uninstall: gensim\n",
            "    Found existing installation: gensim 3.6.0\n",
            "    Uninstalling gensim-3.6.0:\n",
            "      Successfully uninstalled gensim-3.6.0\n",
            "Successfully installed gensim-3.8.0\n"
          ]
        }
      ]
    },
    {
      "cell_type": "markdown",
      "metadata": {
        "id": "cfnMeJp_u6Mr"
      },
      "source": [
        "## Предобработка текста"
      ]
    },
    {
      "cell_type": "markdown",
      "metadata": {
        "id": "a5v3KS5IDK96"
      },
      "source": [
        "### Токенизация\n",
        "\n",
        "Процесс разбиения текста на токены. Например, на слова.\n",
        "\n",
        "Токенизировать можно разными способами, давайте посмотрим на самый простой — разбиение регулярками."
      ]
    },
    {
      "cell_type": "code",
      "metadata": {
        "id": "cE4bkeqCrdqO"
      },
      "source": [
        "from nltk.tokenize import WordPunctTokenizer\n",
        "\n",
        "tokenizer = WordPunctTokenizer()"
      ],
      "execution_count": null,
      "outputs": []
    },
    {
      "cell_type": "code",
      "metadata": {
        "id": "yeIuiWg4rdrV",
        "colab": {
          "base_uri": "https://localhost:8080/"
        },
        "outputId": "5e0c6ec5-9c7a-481d-c685-868069566408"
      },
      "source": [
        "text = \"В каком американском штате 1/2 находится Большой Каньон...\"\n",
        "\n",
        "print(tokenizer.tokenize(text))"
      ],
      "execution_count": null,
      "outputs": [
        {
          "output_type": "stream",
          "name": "stdout",
          "text": [
            "['В', 'каком', 'американском', 'штате', '1', '/', '2', 'находится', 'Большой', 'Каньон', '...']\n"
          ]
        }
      ]
    },
    {
      "cell_type": "code",
      "metadata": {
        "id": "NEBTEk7ui_el"
      },
      "source": [
        "from razdel import tokenize, sentenize"
      ],
      "execution_count": null,
      "outputs": []
    },
    {
      "cell_type": "code",
      "metadata": {
        "colab": {
          "base_uri": "https://localhost:8080/"
        },
        "id": "EwtJjHK6jGok",
        "outputId": "03a5f5e3-bed2-47a7-fb36-e2bad8b41939"
      },
      "source": [
        "list(tokenize(text))"
      ],
      "execution_count": null,
      "outputs": [
        {
          "output_type": "execute_result",
          "data": {
            "text/plain": [
              "[Substring(0, 1, 'В'),\n",
              " Substring(2, 7, 'каком'),\n",
              " Substring(8, 20, 'американском'),\n",
              " Substring(21, 26, 'штате'),\n",
              " Substring(27, 30, '1/2'),\n",
              " Substring(31, 40, 'находится'),\n",
              " Substring(41, 48, 'Большой'),\n",
              " Substring(49, 55, 'Каньон'),\n",
              " Substring(55, 58, '...')]"
            ]
          },
          "metadata": {},
          "execution_count": 21
        }
      ]
    },
    {
      "cell_type": "markdown",
      "metadata": {
        "id": "pxZsNECxhoAD"
      },
      "source": [
        "### Лемматизация\n",
        "\n",
        "Процесс приведения слова к его нормальной форме (лемме)."
      ]
    },
    {
      "cell_type": "code",
      "metadata": {
        "id": "6-ecpfYahq4J"
      },
      "source": [
        "# import pymystem3\n",
        "\n",
        "import pymorphy2\n",
        "morph = pymorphy2.MorphAnalyzer()\n",
        "\n",
        "def lemmatize(text):\n",
        "    words = text.split()\n",
        "    res = list()\n",
        "    for word in words:\n",
        "        p = morph.parse(word)[0]\n",
        "        res.append(p.normal_form)\n",
        "\n",
        "    return ' '.join(res)"
      ],
      "execution_count": null,
      "outputs": []
    },
    {
      "cell_type": "code",
      "metadata": {
        "colab": {
          "base_uri": "https://localhost:8080/"
        },
        "id": "dOAcgA9aioX3",
        "outputId": "2ade0741-2e08-493a-b849-2a275ebc0bc5"
      },
      "source": [
        "text = \"В каком американском штате находится Большой Каньон?\"\n",
        "\n",
        "print(lemmatize(text))"
      ],
      "execution_count": null,
      "outputs": [
        {
          "output_type": "stream",
          "name": "stdout",
          "text": [
            "в какой американский штат находиться большой каньон?\n"
          ]
        }
      ]
    },
    {
      "cell_type": "markdown",
      "metadata": {
        "id": "acxUCELBjuAd"
      },
      "source": [
        "### Удаление stopwords"
      ]
    },
    {
      "cell_type": "code",
      "metadata": {
        "colab": {
          "base_uri": "https://localhost:8080/"
        },
        "id": "pskZtvggjyz1",
        "outputId": "4fdd3325-a33e-4acd-b3b5-fdb02936db5b"
      },
      "source": [
        "import nltk\n",
        "nltk.download(\"stopwords\")\n",
        "\n",
        "from nltk.corpus import stopwords\n",
        "from string import punctuation\n",
        "\n",
        "russian_stopwords = stopwords.words(\"russian\")\n",
        "\n",
        "def remove_stopwords(text):\n",
        "  tokens = tokenizer.tokenize(text)\n",
        "  res = [token for token in tokens if token.lower() not in russian_stopwords\\\n",
        "         and token not in punctuation]\n",
        "\n",
        "  return ' '.join(res)"
      ],
      "execution_count": null,
      "outputs": [
        {
          "output_type": "stream",
          "name": "stdout",
          "text": [
            "[nltk_data] Downloading package stopwords to /root/nltk_data...\n",
            "[nltk_data]   Package stopwords is already up-to-date!\n"
          ]
        }
      ]
    },
    {
      "cell_type": "code",
      "metadata": {
        "colab": {
          "base_uri": "https://localhost:8080/"
        },
        "id": "hSEfRbR0iK9w",
        "outputId": "e197cb6f-7a5a-4ab3-ebdd-cc3917ec2470"
      },
      "source": [
        "russian_stopwords"
      ],
      "execution_count": null,
      "outputs": [
        {
          "output_type": "execute_result",
          "data": {
            "text/plain": [
              "['и',\n",
              " 'в',\n",
              " 'во',\n",
              " 'не',\n",
              " 'что',\n",
              " 'он',\n",
              " 'на',\n",
              " 'я',\n",
              " 'с',\n",
              " 'со',\n",
              " 'как',\n",
              " 'а',\n",
              " 'то',\n",
              " 'все',\n",
              " 'она',\n",
              " 'так',\n",
              " 'его',\n",
              " 'но',\n",
              " 'да',\n",
              " 'ты',\n",
              " 'к',\n",
              " 'у',\n",
              " 'же',\n",
              " 'вы',\n",
              " 'за',\n",
              " 'бы',\n",
              " 'по',\n",
              " 'только',\n",
              " 'ее',\n",
              " 'мне',\n",
              " 'было',\n",
              " 'вот',\n",
              " 'от',\n",
              " 'меня',\n",
              " 'еще',\n",
              " 'нет',\n",
              " 'о',\n",
              " 'из',\n",
              " 'ему',\n",
              " 'теперь',\n",
              " 'когда',\n",
              " 'даже',\n",
              " 'ну',\n",
              " 'вдруг',\n",
              " 'ли',\n",
              " 'если',\n",
              " 'уже',\n",
              " 'или',\n",
              " 'ни',\n",
              " 'быть',\n",
              " 'был',\n",
              " 'него',\n",
              " 'до',\n",
              " 'вас',\n",
              " 'нибудь',\n",
              " 'опять',\n",
              " 'уж',\n",
              " 'вам',\n",
              " 'ведь',\n",
              " 'там',\n",
              " 'потом',\n",
              " 'себя',\n",
              " 'ничего',\n",
              " 'ей',\n",
              " 'может',\n",
              " 'они',\n",
              " 'тут',\n",
              " 'где',\n",
              " 'есть',\n",
              " 'надо',\n",
              " 'ней',\n",
              " 'для',\n",
              " 'мы',\n",
              " 'тебя',\n",
              " 'их',\n",
              " 'чем',\n",
              " 'была',\n",
              " 'сам',\n",
              " 'чтоб',\n",
              " 'без',\n",
              " 'будто',\n",
              " 'чего',\n",
              " 'раз',\n",
              " 'тоже',\n",
              " 'себе',\n",
              " 'под',\n",
              " 'будет',\n",
              " 'ж',\n",
              " 'тогда',\n",
              " 'кто',\n",
              " 'этот',\n",
              " 'того',\n",
              " 'потому',\n",
              " 'этого',\n",
              " 'какой',\n",
              " 'совсем',\n",
              " 'ним',\n",
              " 'здесь',\n",
              " 'этом',\n",
              " 'один',\n",
              " 'почти',\n",
              " 'мой',\n",
              " 'тем',\n",
              " 'чтобы',\n",
              " 'нее',\n",
              " 'сейчас',\n",
              " 'были',\n",
              " 'куда',\n",
              " 'зачем',\n",
              " 'всех',\n",
              " 'никогда',\n",
              " 'можно',\n",
              " 'при',\n",
              " 'наконец',\n",
              " 'два',\n",
              " 'об',\n",
              " 'другой',\n",
              " 'хоть',\n",
              " 'после',\n",
              " 'над',\n",
              " 'больше',\n",
              " 'тот',\n",
              " 'через',\n",
              " 'эти',\n",
              " 'нас',\n",
              " 'про',\n",
              " 'всего',\n",
              " 'них',\n",
              " 'какая',\n",
              " 'много',\n",
              " 'разве',\n",
              " 'три',\n",
              " 'эту',\n",
              " 'моя',\n",
              " 'впрочем',\n",
              " 'хорошо',\n",
              " 'свою',\n",
              " 'этой',\n",
              " 'перед',\n",
              " 'иногда',\n",
              " 'лучше',\n",
              " 'чуть',\n",
              " 'том',\n",
              " 'нельзя',\n",
              " 'такой',\n",
              " 'им',\n",
              " 'более',\n",
              " 'всегда',\n",
              " 'конечно',\n",
              " 'всю',\n",
              " 'между']"
            ]
          },
          "metadata": {},
          "execution_count": 26
        }
      ]
    },
    {
      "cell_type": "code",
      "metadata": {
        "colab": {
          "base_uri": "https://localhost:8080/"
        },
        "id": "Mhk07nXBkrsy",
        "outputId": "95b0eac3-84a0-40eb-e80b-058fd848c209"
      },
      "source": [
        "text = \"В каком американском штате находится Большой Каньон?\"\n",
        "\n",
        "print(remove_stopwords(text))"
      ],
      "execution_count": null,
      "outputs": [
        {
          "output_type": "stream",
          "name": "stdout",
          "text": [
            "каком американском штате находится Большой Каньон\n"
          ]
        }
      ]
    },
    {
      "cell_type": "code",
      "metadata": {
        "id": "M8b2rVmymNTH"
      },
      "source": [
        "def preprocess_text(text):\n",
        "  text = remove_stopwords(text)\n",
        "  text = lemmatize(text)\n",
        "\n",
        "  return text"
      ],
      "execution_count": null,
      "outputs": []
    },
    {
      "cell_type": "code",
      "metadata": {
        "colab": {
          "base_uri": "https://localhost:8080/"
        },
        "id": "VzxhqqgXq97m",
        "outputId": "81dfc5c1-f94d-4cea-8d8f-5e946f8cf2d6"
      },
      "source": [
        "text = \"В каком американском штате находится Большой Каньон?\"\n",
        "\n",
        "tokenizer.tokenize(preprocess_text(text))"
      ],
      "execution_count": null,
      "outputs": [
        {
          "output_type": "execute_result",
          "data": {
            "text/plain": [
              "['какой', 'американский', 'штат', 'находиться', 'большой', 'каньон']"
            ]
          },
          "metadata": {},
          "execution_count": 29
        }
      ]
    },
    {
      "cell_type": "markdown",
      "metadata": {
        "id": "Cul1lb3hQnNa"
      },
      "source": [
        "## Датасет"
      ]
    },
    {
      "cell_type": "code",
      "metadata": {
        "id": "egFrjrWRrd4o",
        "colab": {
          "base_uri": "https://localhost:8080/"
        },
        "outputId": "bb8c80be-8f10-4895-d311-2671a2d8009f"
      },
      "source": [
        "!git clone https://github.com/vladislavneon/RuBQ.git"
      ],
      "execution_count": null,
      "outputs": [
        {
          "output_type": "stream",
          "name": "stdout",
          "text": [
            "fatal: destination path 'RuBQ' already exists and is not an empty directory.\n"
          ]
        }
      ]
    },
    {
      "cell_type": "code",
      "metadata": {
        "id": "Hlz8URDZE-Y4"
      },
      "source": [
        "import json\n",
        "\n",
        "filepath = \"/content/RuBQ/RuBQ_2.0/RuBQ_2.0_test.json\"\n",
        "\n",
        "with open(filepath, mode=\"r\", encoding=\"utf-8\") as input:\n",
        "  lines = input.readlines()\n",
        "\n",
        "# print(lines)\n",
        "\n",
        "res_json = json.loads(''.join(lines))"
      ],
      "execution_count": null,
      "outputs": []
    },
    {
      "cell_type": "code",
      "metadata": {
        "colab": {
          "base_uri": "https://localhost:8080/"
        },
        "id": "HbY7WMA2kgAQ",
        "outputId": "54b90485-0122-4b81-d717-7cc03a16b7aa"
      },
      "source": [
        "lines[:40]"
      ],
      "execution_count": null,
      "outputs": [
        {
          "output_type": "execute_result",
          "data": {
            "text/plain": [
              "['[\\n',\n",
              " '    {\\n',\n",
              " '        \"uid\": 0,\\n',\n",
              " '        \"question_text\": \"Что может вызвать цунами?\",\\n',\n",
              " '        \"query\": \"SELECT ?answer \\\\nWHERE {\\\\n  wd:Q8070 wdt:P828 ?answer\\\\n}\",\\n',\n",
              " '        \"answer_text\": \"Землетрясение\",\\n',\n",
              " '        \"question_uris\": [\\n',\n",
              " '            \"http://www.wikidata.org/entity/Q8070\"\\n',\n",
              " '        ],\\n',\n",
              " '        \"question_props\": [\\n',\n",
              " '            \"wdt:P828\"\\n',\n",
              " '        ],\\n',\n",
              " '        \"answers\": [\\n',\n",
              " '            {\\n',\n",
              " '                \"type\": \"uri\",\\n',\n",
              " '                \"label\": \"землетрясение\",\\n',\n",
              " '                \"value\": \"http://www.wikidata.org/entity/Q7944\",\\n',\n",
              " '                \"wd_names\": {\\n',\n",
              " '                    \"ru\": [\\n',\n",
              " '                        \"землетрясение\",\\n',\n",
              " '                        \"җир тетрәве\"\\n',\n",
              " '                    ],\\n',\n",
              " '                    \"en\": [\\n',\n",
              " '                        \"seism\",\\n',\n",
              " '                        \"earthquake\",\\n',\n",
              " '                        \"seismic activity\",\\n',\n",
              " '                        \"fore shocks\",\\n',\n",
              " '                        \"tremor\",\\n',\n",
              " '                        \"earthquakes\",\\n',\n",
              " '                        \"earth quake\",\\n',\n",
              " '                        \"earthtemblor\",\\n',\n",
              " '                        \"foreshock\",\\n',\n",
              " '                        \"aftershock\",\\n',\n",
              " '                        \"quake\",\\n',\n",
              " '                        \"temblor\",\\n',\n",
              " '                        \"earth temblor\",\\n',\n",
              " '                        \"foreshocks\",\\n',\n",
              " '                        \"after shocks\",\\n',\n",
              " '                        \"earth quakes\",\\n',\n",
              " '                        \"after shock\",\\n']"
            ]
          },
          "metadata": {},
          "execution_count": 32
        }
      ]
    },
    {
      "cell_type": "code",
      "metadata": {
        "colab": {
          "base_uri": "https://localhost:8080/"
        },
        "id": "sdCmmpi0F-8e",
        "outputId": "18c9a865-0397-4102-cd4e-f7b94756bbe6"
      },
      "source": [
        "for q in res_json:\n",
        "  print(q)\n",
        "  break"
      ],
      "execution_count": null,
      "outputs": [
        {
          "output_type": "stream",
          "name": "stdout",
          "text": [
            "{'uid': 0, 'question_text': 'Что может вызвать цунами?', 'query': 'SELECT ?answer \\nWHERE {\\n  wd:Q8070 wdt:P828 ?answer\\n}', 'answer_text': 'Землетрясение', 'question_uris': ['http://www.wikidata.org/entity/Q8070'], 'question_props': ['wdt:P828'], 'answers': [{'type': 'uri', 'label': 'землетрясение', 'value': 'http://www.wikidata.org/entity/Q7944', 'wd_names': {'ru': ['землетрясение', 'җир тетрәве'], 'en': ['seism', 'earthquake', 'seismic activity', 'fore shocks', 'tremor', 'earthquakes', 'earth quake', 'earthtemblor', 'foreshock', 'aftershock', 'quake', 'temblor', 'earth temblor', 'foreshocks', 'after shocks', 'earth quakes', 'after shock', 'earthtremor', 'convulsion', 'earth tremor', 'shock', 'fore shock', 'aftershocks']}, 'wp_names': ['землетрясениям']}, {'type': 'uri', 'label': 'метеорит', 'value': 'http://www.wikidata.org/entity/Q60186', 'wd_names': {'ru': ['метеорит', 'Метеориты', 'Аэролиты'], 'en': ['shooting star', 'meteorite']}, 'wp_names': []}, {'type': 'uri', 'label': 'оползень', 'value': 'http://www.wikidata.org/entity/Q167903', 'wd_names': {'ru': ['оползень', 'оползни'], 'en': ['Rock avalanche', 'landslide', 'landslip']}, 'wp_names': ['оползни', 'оползнями']}, {'type': 'uri', 'label': 'Проект Seal', 'value': 'http://www.wikidata.org/entity/Q2580904', 'wd_names': {'ru': ['Проект Seal'], 'en': ['tsunami bomb']}, 'wp_names': []}, {'type': 'uri', 'label': 'подводный оползень', 'value': 'http://www.wikidata.org/entity/Q5975740', 'wd_names': {'ru': [], 'en': ['undersea landslide', 'submarine landslide', 'underwater landslide']}, 'wp_names': []}, {'type': 'uri', 'label': 'извержение вулкана', 'value': 'http://www.wikidata.org/entity/Q7692360', 'wd_names': {'ru': ['Фреатическое извержение', 'Вулканические извержения', 'Стромболианское извержение', 'извержение вулкана', 'Гавайское извержение', 'Газовое извержение', 'Вулканическое извержение', 'Пелейское извержение'], 'en': ['volcano eruption', 'volcanic eruption', 'eruption']}, 'wp_names': ['извержения вулкана']}], 'paragraphs_uids': {'with_answer': [35622], 'all_related': [35622, 35623, 35624, 35625, 35626, 35632, 35633, 35634, 35635, 35636, 35637, 35638, 35639, 35640, 35641, 35642, 35643, 35644, 35645, 35646, 35647, 35648, 35649, 35650, 35651]}, 'tags': ['1-hop'], 'RuBQ_version': '1.0', 'question_eng': 'What can cause a tsunami?'}\n"
          ]
        }
      ]
    },
    {
      "cell_type": "code",
      "metadata": {
        "id": "gOR7XEUYG5TS"
      },
      "source": [
        "dataset_temp = [x[\"question_text\"] for x in res_json]"
      ],
      "execution_count": null,
      "outputs": []
    },
    {
      "cell_type": "code",
      "metadata": {
        "id": "3Mq3ZbkTG_eq",
        "colab": {
          "base_uri": "https://localhost:8080/"
        },
        "outputId": "53be40ea-03dc-44ef-be22-00c1612d396c"
      },
      "source": [
        "dataset_temp[:10]"
      ],
      "execution_count": null,
      "outputs": [
        {
          "output_type": "execute_result",
          "data": {
            "text/plain": [
              "['Что может вызвать цунами?',\n",
              " 'Кто написал роман «Хижина дяди Тома»?',\n",
              " 'Кто автор пьесы «Ромео и Джульетта»?',\n",
              " 'Как называется столица Румынии?',\n",
              " 'На каком инструменте играл Джимми Хендрикс?',\n",
              " 'Какой стране принадлежит остров Таити?',\n",
              " 'Кто создал Зимний дворец в Санкт-Петербурге?',\n",
              " 'Кто режиссер фильма \"Бриллиантовая рука\"?',\n",
              " 'Какой стране принадлежат Канарские острова?',\n",
              " 'Какой географический объект называется Лимпопо?']"
            ]
          },
          "metadata": {},
          "execution_count": 35
        }
      ]
    },
    {
      "cell_type": "code",
      "metadata": {
        "colab": {
          "base_uri": "https://localhost:8080/"
        },
        "id": "1VkOsYMhi3db",
        "outputId": "4efa037d-c5d5-46c0-9c34-ae0d19b3ac11"
      },
      "source": [
        "len(dataset_temp)"
      ],
      "execution_count": null,
      "outputs": [
        {
          "output_type": "execute_result",
          "data": {
            "text/plain": [
              "2330"
            ]
          },
          "metadata": {},
          "execution_count": 36
        }
      ]
    },
    {
      "cell_type": "code",
      "metadata": {
        "colab": {
          "base_uri": "https://localhost:8080/"
        },
        "id": "PggAisFYG_Pi",
        "outputId": "b906372d-ee3e-41e9-bca2-7f0d0f2c80e8"
      },
      "source": [
        "#kaggle\n",
        "!unzip quora_question_pairs_rus.csv.zip"
      ],
      "execution_count": null,
      "outputs": [
        {
          "output_type": "stream",
          "name": "stdout",
          "text": [
            "Archive:  quora_question_pairs_rus.csv.zip\n",
            "  inflating: quora_question_pairs_rus.csv  \n"
          ]
        }
      ]
    },
    {
      "cell_type": "code",
      "metadata": {
        "id": "QvSTv97SHB_N"
      },
      "source": [
        "import pandas as pd\n",
        "\n",
        "quora_df = pd.read_csv('quora_question_pairs_rus.csv')"
      ],
      "execution_count": null,
      "outputs": []
    },
    {
      "cell_type": "code",
      "metadata": {
        "id": "HTYRTTYiHtNC",
        "colab": {
          "base_uri": "https://localhost:8080/",
          "height": 669
        },
        "outputId": "7c3aedec-b738-4d7b-d23c-851c997045f2"
      },
      "source": [
        "quora_df.head(20)"
      ],
      "execution_count": null,
      "outputs": [
        {
          "output_type": "execute_result",
          "data": {
            "text/html": [
              "<div>\n",
              "<style scoped>\n",
              "    .dataframe tbody tr th:only-of-type {\n",
              "        vertical-align: middle;\n",
              "    }\n",
              "\n",
              "    .dataframe tbody tr th {\n",
              "        vertical-align: top;\n",
              "    }\n",
              "\n",
              "    .dataframe thead th {\n",
              "        text-align: right;\n",
              "    }\n",
              "</style>\n",
              "<table border=\"1\" class=\"dataframe\">\n",
              "  <thead>\n",
              "    <tr style=\"text-align: right;\">\n",
              "      <th></th>\n",
              "      <th>Unnamed: 0</th>\n",
              "      <th>question1</th>\n",
              "      <th>question2</th>\n",
              "      <th>is_duplicate</th>\n",
              "    </tr>\n",
              "  </thead>\n",
              "  <tbody>\n",
              "    <tr>\n",
              "      <th>0</th>\n",
              "      <td>0</td>\n",
              "      <td>Какова история кохинор кох-и-ноор-бриллиант</td>\n",
              "      <td>что произойдет, если правительство Индии украд...</td>\n",
              "      <td>0</td>\n",
              "    </tr>\n",
              "    <tr>\n",
              "      <th>1</th>\n",
              "      <td>1</td>\n",
              "      <td>как я могу увеличить скорость моего интернет-с...</td>\n",
              "      <td>как повысить скорость интернета путем взлома ч...</td>\n",
              "      <td>0</td>\n",
              "    </tr>\n",
              "    <tr>\n",
              "      <th>2</th>\n",
              "      <td>2</td>\n",
              "      <td>почему я мысленно очень одинок, как я могу это...</td>\n",
              "      <td>найти остаток, когда математика 23 ^ 24 матема...</td>\n",
              "      <td>0</td>\n",
              "    </tr>\n",
              "    <tr>\n",
              "      <th>3</th>\n",
              "      <td>3</td>\n",
              "      <td>которые растворяют в воде быстро сахарную соль...</td>\n",
              "      <td>какая рыба выживет в соленой воде</td>\n",
              "      <td>0</td>\n",
              "    </tr>\n",
              "    <tr>\n",
              "      <th>4</th>\n",
              "      <td>4</td>\n",
              "      <td>астрология: я - луна-колпачок из козерога и кр...</td>\n",
              "      <td>Я тройная луна-козерог и восхождение в козерог...</td>\n",
              "      <td>1</td>\n",
              "    </tr>\n",
              "    <tr>\n",
              "      <th>5</th>\n",
              "      <td>5</td>\n",
              "      <td>я должен купить tiago</td>\n",
              "      <td>что делает детей активными и далеки от телефон...</td>\n",
              "      <td>0</td>\n",
              "    </tr>\n",
              "    <tr>\n",
              "      <th>6</th>\n",
              "      <td>6</td>\n",
              "      <td>как я могу быть хорошим геологом?</td>\n",
              "      <td>что я должен делать, чтобы быть великим геологом?</td>\n",
              "      <td>1</td>\n",
              "    </tr>\n",
              "    <tr>\n",
              "      <th>7</th>\n",
              "      <td>7</td>\n",
              "      <td>когда вы используете вместо</td>\n",
              "      <td>когда вы используете вместо</td>\n",
              "      <td>0</td>\n",
              "    </tr>\n",
              "    <tr>\n",
              "      <th>8</th>\n",
              "      <td>8</td>\n",
              "      <td>компания motorola: могу ли я взломать мой чарт...</td>\n",
              "      <td>как я могу взломать motorola dcx3400 для беспл...</td>\n",
              "      <td>0</td>\n",
              "    </tr>\n",
              "    <tr>\n",
              "      <th>9</th>\n",
              "      <td>9</td>\n",
              "      <td>метод определения разделения прорезей с исполь...</td>\n",
              "      <td>что некоторые технические специалисты могут ра...</td>\n",
              "      <td>0</td>\n",
              "    </tr>\n",
              "    <tr>\n",
              "      <th>10</th>\n",
              "      <td>10</td>\n",
              "      <td>как мне читать и находить комментарии к YouTube</td>\n",
              "      <td>как я могу увидеть все мои комментарии к YouTube</td>\n",
              "      <td>1</td>\n",
              "    </tr>\n",
              "    <tr>\n",
              "      <th>11</th>\n",
              "      <td>11</td>\n",
              "      <td>что может сделать физику легкой для изучения</td>\n",
              "      <td>как вы можете легко научиться физике</td>\n",
              "      <td>1</td>\n",
              "    </tr>\n",
              "    <tr>\n",
              "      <th>12</th>\n",
              "      <td>12</td>\n",
              "      <td>какой был ваш первый сексуальный опыт, как</td>\n",
              "      <td>какой был ваш первый сексуальный опыт</td>\n",
              "      <td>1</td>\n",
              "    </tr>\n",
              "    <tr>\n",
              "      <th>13</th>\n",
              "      <td>13</td>\n",
              "      <td>каковы законы об изменении вашего статуса от с...</td>\n",
              "      <td>каковы законы об изменении вашего статуса от с...</td>\n",
              "      <td>0</td>\n",
              "    </tr>\n",
              "    <tr>\n",
              "      <th>14</th>\n",
              "      <td>14</td>\n",
              "      <td>что означало бы президентство козыря для нынеш...</td>\n",
              "      <td>как президентство козыря повлияет на учеников ...</td>\n",
              "      <td>1</td>\n",
              "    </tr>\n",
              "    <tr>\n",
              "      <th>15</th>\n",
              "      <td>15</td>\n",
              "      <td>что означает манипуляция</td>\n",
              "      <td>что означает манипуляция</td>\n",
              "      <td>1</td>\n",
              "    </tr>\n",
              "    <tr>\n",
              "      <th>16</th>\n",
              "      <td>16</td>\n",
              "      <td>почему девушки хотят дружить с парнем, которог...</td>\n",
              "      <td>как ребята чувствуют себя после отказа от девушки</td>\n",
              "      <td>0</td>\n",
              "    </tr>\n",
              "    <tr>\n",
              "      <th>17</th>\n",
              "      <td>17</td>\n",
              "      <td>почему так много пользователей quora публикуют...</td>\n",
              "      <td>почему люди задают вопросы о quora, на которые...</td>\n",
              "      <td>1</td>\n",
              "    </tr>\n",
              "    <tr>\n",
              "      <th>18</th>\n",
              "      <td>18</td>\n",
              "      <td>который является лучшим учреждением цифрового ...</td>\n",
              "      <td>который является лучшим институтом цифрового м...</td>\n",
              "      <td>0</td>\n",
              "    </tr>\n",
              "    <tr>\n",
              "      <th>19</th>\n",
              "      <td>19</td>\n",
              "      <td>почему ракеты выглядят белыми</td>\n",
              "      <td>почему ракеты и ускорители окрашены в белый цвет</td>\n",
              "      <td>1</td>\n",
              "    </tr>\n",
              "  </tbody>\n",
              "</table>\n",
              "</div>"
            ],
            "text/plain": [
              "    Unnamed: 0  ... is_duplicate\n",
              "0            0  ...            0\n",
              "1            1  ...            0\n",
              "2            2  ...            0\n",
              "3            3  ...            0\n",
              "4            4  ...            1\n",
              "5            5  ...            0\n",
              "6            6  ...            1\n",
              "7            7  ...            0\n",
              "8            8  ...            0\n",
              "9            9  ...            0\n",
              "10          10  ...            1\n",
              "11          11  ...            1\n",
              "12          12  ...            1\n",
              "13          13  ...            0\n",
              "14          14  ...            1\n",
              "15          15  ...            1\n",
              "16          16  ...            0\n",
              "17          17  ...            1\n",
              "18          18  ...            0\n",
              "19          19  ...            1\n",
              "\n",
              "[20 rows x 4 columns]"
            ]
          },
          "metadata": {},
          "execution_count": 39
        }
      ]
    },
    {
      "cell_type": "code",
      "metadata": {
        "id": "1j0LhM18jIbq"
      },
      "source": [
        "dataset_temp.extend(quora_df[\"question1\"].values[:50000])"
      ],
      "execution_count": null,
      "outputs": []
    },
    {
      "cell_type": "code",
      "metadata": {
        "id": "4InfRrzgjWmn"
      },
      "source": [
        "dataset_temp.extend(quora_df[\"question2\"].values[:50000])"
      ],
      "execution_count": null,
      "outputs": []
    },
    {
      "cell_type": "code",
      "metadata": {
        "colab": {
          "base_uri": "https://localhost:8080/"
        },
        "id": "UpM1SVsejYln",
        "outputId": "0f441a26-6e63-430f-850d-efd9e79a17aa"
      },
      "source": [
        "len(dataset_temp)"
      ],
      "execution_count": null,
      "outputs": [
        {
          "output_type": "execute_result",
          "data": {
            "text/plain": [
              "102330"
            ]
          },
          "metadata": {},
          "execution_count": 42
        }
      ]
    },
    {
      "cell_type": "code",
      "metadata": {
        "id": "oI0o-EKKgiaE"
      },
      "source": [
        "dataset = []\n",
        "\n",
        "for x in dataset_temp:\n",
        "  if isinstance(x, str) and x.strip():\n",
        "    dataset.append(x)"
      ],
      "execution_count": null,
      "outputs": []
    },
    {
      "cell_type": "code",
      "metadata": {
        "colab": {
          "base_uri": "https://localhost:8080/"
        },
        "id": "dMHqtg-jhBVV",
        "outputId": "e1d478c4-924e-4efd-d790-e60900f061f3"
      },
      "source": [
        "len(dataset)"
      ],
      "execution_count": null,
      "outputs": [
        {
          "output_type": "execute_result",
          "data": {
            "text/plain": [
              "102325"
            ]
          },
          "metadata": {},
          "execution_count": 44
        }
      ]
    },
    {
      "cell_type": "code",
      "metadata": {
        "colab": {
          "base_uri": "https://localhost:8080/"
        },
        "id": "laqzOhcwm1vi",
        "outputId": "335e8fab-3fea-440a-81f3-c92b1a4a4391"
      },
      "source": [
        "import random\n",
        "\n",
        "random.choices(dataset, k=10)"
      ],
      "execution_count": null,
      "outputs": [
        {
          "output_type": "execute_result",
          "data": {
            "text/plain": [
              "['насколько вероятна мировая война в будущем',\n",
              " 'вы можете увидеть, кто просматривает ваши видеоролики с instagram',\n",
              " 'я должен купить роскошный автомобиль lamborghini aventador, который стоит 400 000',\n",
              " 'почему бы не работать в google',\n",
              " 'каковы три разных типа протистов',\n",
              " 'привет, мне сейчас 24, и у меня появился интерес к велоспорту, это означает, что на велосипеде на велосипеде, это слишком поздно, чтобы начать',\n",
              " 'это saab gripen так же хорошо, как тайфун европы',\n",
              " 'если хартинский клинтон победит на этих выборах, какова будет ее политика в отношении Индии',\n",
              " 'кто бог, кто-нибудь видел бога',\n",
              " 'примерно, сколько стоит chevy g10 van весенний модель 1993 года, если возможно']"
            ]
          },
          "metadata": {},
          "execution_count": 45
        }
      ]
    },
    {
      "cell_type": "markdown",
      "metadata": {
        "id": "t6efIGQoiwKF"
      },
      "source": [
        "## Embeddings"
      ]
    },
    {
      "cell_type": "markdown",
      "metadata": {
        "id": "RF--Vxs-izel"
      },
      "source": [
        "Существует большое количество предтренированных embedding'ов. Можно натренировать на википедии свои при помощи библиотеки _gensim_. В ней тоже есть предтренированные модели.\n",
        "\n",
        "- https://radimrehurek.com/gensim/\n",
        "\n",
        "Есть модели для русского языка RusVectōrēs.\n",
        "\n",
        "- https://rusvectores.org/ru/models/\n",
        "\n",
        "\n",
        "Для русского NLP есть хороший набор библиотек [natasha](https://github.com/natasha/natasha). В этом проекте есть много чего, возьмем из него эмбеддинги.\n",
        "\n",
        "- https://github.com/natasha/natasha\n",
        "- https://habr.com/ru/post/516098/"
      ]
    },
    {
      "cell_type": "markdown",
      "metadata": {
        "id": "kboi77GLQGWV"
      },
      "source": [
        "### Gensim"
      ]
    },
    {
      "cell_type": "code",
      "metadata": {
        "id": "dbDSrBZ4Qacm"
      },
      "source": [
        "import gensim.downloader as api\n",
        "\n",
        "model = api.load(\"glove-wiki-gigaword-50\")"
      ],
      "execution_count": null,
      "outputs": []
    },
    {
      "cell_type": "code",
      "metadata": {
        "id": "CB9SXyhGQINu"
      },
      "source": [
        "model.most_similar(positive=['woman', 'king'], negative=['man'])"
      ],
      "execution_count": null,
      "outputs": []
    },
    {
      "cell_type": "code",
      "metadata": {
        "id": "qPqRy-tjREVE"
      },
      "source": [
        "model.most_similar('tea')"
      ],
      "execution_count": null,
      "outputs": []
    },
    {
      "cell_type": "markdown",
      "metadata": {
        "id": "tlAnXmIn_m33"
      },
      "source": [
        "### RusVectores"
      ]
    },
    {
      "cell_type": "code",
      "metadata": {
        "id": "qTR63QF5Bl8l"
      },
      "source": [
        "#https://github.com/RaRe-Technologies/gensim-data\n",
        "\n",
        "model_ru = api.load(\"word2vec-ruscorpora-300\")"
      ],
      "execution_count": null,
      "outputs": []
    },
    {
      "cell_type": "code",
      "metadata": {
        "id": "gM-2cFfAFEvZ"
      },
      "source": [
        "model_ru.most_similar(positive=['женщина_NOUN', 'король_NOUN'], negative=['мужчина_NOUN'])"
      ],
      "execution_count": null,
      "outputs": []
    },
    {
      "cell_type": "code",
      "metadata": {
        "id": "Z_q8UbodRZ1v"
      },
      "source": [
        "model_ru.most_similar('город_NOUN')"
      ],
      "execution_count": null,
      "outputs": []
    },
    {
      "cell_type": "markdown",
      "metadata": {
        "id": "I9PRnhpWPiKo"
      },
      "source": [
        "### Natasha"
      ]
    },
    {
      "cell_type": "code",
      "metadata": {
        "id": "U6108ig9HXya",
        "colab": {
          "base_uri": "https://localhost:8080/"
        },
        "outputId": "d9f80708-84e2-432f-df82-29d33ba32f55"
      },
      "source": [
        "!pip install navec\n",
        "\n",
        "!wget https://storage.yandexcloud.net/natasha-navec/packs/navec_hudlit_v1_12B_500K_300d_100q.tar"
      ],
      "execution_count": null,
      "outputs": [
        {
          "output_type": "stream",
          "name": "stdout",
          "text": [
            "Collecting navec\n",
            "  Downloading navec-0.10.0-py3-none-any.whl (23 kB)\n",
            "Requirement already satisfied: numpy in /usr/local/lib/python3.7/dist-packages (from navec) (1.19.5)\n",
            "Installing collected packages: navec\n",
            "Successfully installed navec-0.10.0\n",
            "--2021-10-15 15:58:54--  https://storage.yandexcloud.net/natasha-navec/packs/navec_hudlit_v1_12B_500K_300d_100q.tar\n",
            "Resolving storage.yandexcloud.net (storage.yandexcloud.net)... 213.180.193.243, 2a02:6b8::1d9\n",
            "Connecting to storage.yandexcloud.net (storage.yandexcloud.net)|213.180.193.243|:443... connected.\n",
            "HTTP request sent, awaiting response... 200 OK\n",
            "Length: 53012480 (51M) [application/x-tar]\n",
            "Saving to: ‘navec_hudlit_v1_12B_500K_300d_100q.tar’\n",
            "\n",
            "navec_hudlit_v1_12B 100%[===================>]  50.56M  40.4MB/s    in 1.3s    \n",
            "\n",
            "2021-10-15 15:58:55 (40.4 MB/s) - ‘navec_hudlit_v1_12B_500K_300d_100q.tar’ saved [53012480/53012480]\n",
            "\n"
          ]
        }
      ]
    },
    {
      "cell_type": "code",
      "metadata": {
        "id": "_foRfCnMrd8r"
      },
      "source": [
        "from navec import Navec\n",
        "\n",
        "path = 'navec_hudlit_v1_12B_500K_300d_100q.tar'\n",
        "navec = Navec.load(path)"
      ],
      "execution_count": null,
      "outputs": []
    },
    {
      "cell_type": "code",
      "metadata": {
        "id": "BhmTvy5POzzu"
      },
      "source": [
        "navec[\"текст\"]"
      ],
      "execution_count": null,
      "outputs": []
    },
    {
      "cell_type": "markdown",
      "metadata": {
        "id": "Gr0GZtvzSmSC"
      },
      "source": [
        "## Считаем близость\n",
        "\n",
        "Есть эмбеддинги слов, хотим получить эмбеддинги для предложений."
      ]
    },
    {
      "cell_type": "code",
      "metadata": {
        "id": "qduRt9e-Jdht"
      },
      "source": [
        "import numpy as np"
      ],
      "execution_count": null,
      "outputs": []
    },
    {
      "cell_type": "code",
      "metadata": {
        "id": "9p1SBS-0LHYq"
      },
      "source": [
        "def embed(text):\n",
        "  res = []\n",
        "\n",
        "  tokens = tokenizer.tokenize(str(text).lower())\n",
        "\n",
        "  for token in tokens:\n",
        "    if token in navec:\n",
        "      res.append(navec[token])\n",
        "\n",
        "  if not res:\n",
        "    res.append(navec['<unk>'])\n",
        "\n",
        "  return np.mean(res, axis=0)"
      ],
      "execution_count": null,
      "outputs": []
    },
    {
      "cell_type": "code",
      "metadata": {
        "id": "ZLQINnLuPf6f"
      },
      "source": [
        "embed(\"Вот такой вот текст\")"
      ],
      "execution_count": null,
      "outputs": []
    },
    {
      "cell_type": "code",
      "metadata": {
        "id": "i8SgUYRaPiAQ"
      },
      "source": [
        "embedded_data = [embed(x) for x in dataset]"
      ],
      "execution_count": null,
      "outputs": []
    },
    {
      "cell_type": "code",
      "metadata": {
        "id": "QYgB0750TKH-"
      },
      "source": [
        "def cosine(u, v):\n",
        "  res = np.dot(u, v) / (np.linalg.norm(u) * np.linalg.norm(v))\n",
        "  return res"
      ],
      "execution_count": null,
      "outputs": []
    },
    {
      "cell_type": "code",
      "metadata": {
        "id": "X87jW5knRDs6"
      },
      "source": [
        "def get_result(text):\n",
        "  query = embed(text)\n",
        "\n",
        "  cosines = [cosine(x, query) for x in embedded_data]\n",
        "\n",
        "  for i in np.argpartition(cosines, -10)[-10:]:\n",
        "    print(dataset[i])\n",
        "\n",
        "  # np.argsort(cosines)\n"
      ],
      "execution_count": null,
      "outputs": []
    },
    {
      "cell_type": "code",
      "metadata": {
        "colab": {
          "base_uri": "https://localhost:8080/"
        },
        "id": "Ldoi3sMKqhG8",
        "outputId": "3479361b-abf7-43ff-9fc5-daa90e83de9d"
      },
      "source": [
        "text = \"Как сдать икзамен?\"\n",
        "\n",
        "get_result(text)"
      ],
      "execution_count": null,
      "outputs": [
        {
          "output_type": "stream",
          "name": "stdout",
          "text": [
            "как вы можете сдать свой чек в любом банке\n",
            "как пройти экзамен 1z0 - 425?\n",
            "как пройти экзамен ccsk\n",
            "я хочу подготовиться к upsc, у меня есть 6 месяцев бесплатно, а затем год обучения engg, как я могу это сделать, если я планирую сдавать экзамен в 2018 году\n",
            "как я раскошу экзамены ecet\n",
            "как я могу легко изучить экзамен 1z0 - 548\n",
            "как я могу сдать экзамен ccna с первого раза\n",
            "Я только что закончил мой выпуск в механическом engg из pune univ, поэтому, чтобы получить работу, что мне делать, какие экзамены на выпускные экзамены для выпускников\n",
            "как сделать 500000 как cpa\n",
            "вы пишете взять или сдавать экзамен?\n"
          ]
        }
      ]
    },
    {
      "cell_type": "markdown",
      "metadata": {
        "id": "gL42RGJysp1_"
      },
      "source": [
        "## Датасет с опечатками"
      ]
    },
    {
      "cell_type": "code",
      "metadata": {
        "id": "ZM2MLzlLss2a"
      },
      "source": [
        "!wget https://github-typo-corpus.s3.amazonaws.com/data/github-typo-corpus.v1.0.0.jsonl.gz -O typos.gz"
      ],
      "execution_count": null,
      "outputs": []
    },
    {
      "cell_type": "code",
      "metadata": {
        "id": "vaOm_XuZ8Cqs"
      },
      "source": [
        "!gunzip /content/typos.gz"
      ],
      "execution_count": null,
      "outputs": []
    },
    {
      "cell_type": "code",
      "metadata": {
        "id": "qIrl8k1I8oBN"
      },
      "source": [
        "import pandas as pd\n",
        "\n",
        "data_df = pd.read_json('typos', lines=True)"
      ],
      "execution_count": null,
      "outputs": []
    },
    {
      "cell_type": "code",
      "metadata": {
        "id": "Ysj-wucr9WRi"
      },
      "source": [
        "data_df.head()"
      ],
      "execution_count": null,
      "outputs": []
    },
    {
      "cell_type": "code",
      "metadata": {
        "id": "lXZED1OC-30c"
      },
      "source": [
        "!git clone https://github.com/dkulagin/kartaslov.git"
      ],
      "execution_count": null,
      "outputs": []
    },
    {
      "cell_type": "code",
      "metadata": {
        "id": "PswcnRQz-6MG"
      },
      "source": [
        "import pandas as pd\n",
        "\n",
        "typos_df = pd.read_csv('/content/kartaslov/dataset/orfo_and_typos/orfo_and_typos.L1_5.csv', delimiter=';')"
      ],
      "execution_count": null,
      "outputs": []
    },
    {
      "cell_type": "code",
      "metadata": {
        "id": "jPajMK_X_Siv"
      },
      "source": [
        "typos_df.head()"
      ],
      "execution_count": null,
      "outputs": []
    },
    {
      "cell_type": "code",
      "metadata": {
        "id": "OasIoG03_ptp"
      },
      "source": [
        "typos_dict = dict()\n",
        "\n",
        "for index, row in typos_df.iterrows():\n",
        "  if not row['CORRECT'] in typos_dict:\n",
        "    typos_dict[row['CORRECT']] = row['MISTAKE']"
      ],
      "execution_count": null,
      "outputs": []
    },
    {
      "cell_type": "code",
      "metadata": {
        "id": "NdUpOzyEABrF"
      },
      "source": [
        "len(typos_dict)"
      ],
      "execution_count": null,
      "outputs": []
    },
    {
      "cell_type": "code",
      "metadata": {
        "id": "EnMgzQVMAbm1"
      },
      "source": [
        "[x for x in typos_dict.items()][:20]"
      ],
      "execution_count": null,
      "outputs": []
    },
    {
      "cell_type": "code",
      "metadata": {
        "id": "ms7usEPODvzU"
      },
      "source": [
        "dataset[:10]"
      ],
      "execution_count": null,
      "outputs": []
    },
    {
      "cell_type": "code",
      "metadata": {
        "id": "DVUNg-6lD_Iv"
      },
      "source": [
        "for i,line in enumerate(dataset):\n",
        "  words = line.split()\n",
        "  for i,x in enumerate(words):\n",
        "    if x in typos_dict:\n",
        "      words[i] = typos_dict[x]\n",
        "  dataset[i] = ' '.join(words)\n"
      ],
      "execution_count": null,
      "outputs": []
    },
    {
      "cell_type": "code",
      "metadata": {
        "id": "ts662YQSFFln"
      },
      "source": [
        "dataset[:10]"
      ],
      "execution_count": null,
      "outputs": []
    },
    {
      "cell_type": "markdown",
      "metadata": {
        "id": "aED-896ZsxMQ"
      },
      "source": [
        "## fastText"
      ]
    },
    {
      "cell_type": "code",
      "metadata": {
        "id": "ee3sEzp2s0xp"
      },
      "source": [
        "#facebook\n",
        "# !pip install fasttext\n",
        "# import fasttext.util"
      ],
      "execution_count": null,
      "outputs": []
    },
    {
      "cell_type": "code",
      "metadata": {
        "id": "AYmBOxWfs3dA"
      },
      "source": [
        "# fasttext.util.download_model('ru', if_exists='ignore')\n",
        "# ft = fasttext.load_model('cc.ru.300.bin')"
      ],
      "execution_count": null,
      "outputs": []
    },
    {
      "cell_type": "code",
      "metadata": {
        "id": "4Z0_GzAHv44l"
      },
      "source": [
        "#deeppavlov\n",
        "# !wget http://files.deeppavlov.ai/embeddings/ft_native_300_ru_wiki_lenta_nltk_wordpunct_tokenize/ft_native_300_ru_wiki_lenta_nltk_wordpunct_tokenize.vec"
      ],
      "execution_count": null,
      "outputs": []
    },
    {
      "cell_type": "code",
      "metadata": {
        "colab": {
          "base_uri": "https://localhost:8080/"
        },
        "id": "gef8DF1otR1D",
        "outputId": "5e0f8a40-4876-4002-b11b-6bcd4bfeed32"
      },
      "source": [
        "!wget http://vectors.nlpl.eu/repository/20/181.zip"
      ],
      "execution_count": null,
      "outputs": [
        {
          "output_type": "stream",
          "name": "stdout",
          "text": [
            "--2021-10-15 16:02:27--  http://vectors.nlpl.eu/repository/20/181.zip\n",
            "Resolving vectors.nlpl.eu (vectors.nlpl.eu)... 129.240.189.181\n",
            "Connecting to vectors.nlpl.eu (vectors.nlpl.eu)|129.240.189.181|:80... connected.\n",
            "HTTP request sent, awaiting response... 200 OK\n",
            "Length: 2622716250 (2.4G) [application/zip]\n",
            "Saving to: ‘181.zip’\n",
            "\n",
            "181.zip             100%[===================>]   2.44G  34.2MB/s    in 32s     \n",
            "\n",
            "2021-10-15 16:02:59 (77.8 MB/s) - ‘181.zip’ saved [2622716250/2622716250]\n",
            "\n"
          ]
        }
      ]
    },
    {
      "cell_type": "code",
      "metadata": {
        "colab": {
          "base_uri": "https://localhost:8080/"
        },
        "id": "jsT9a6JpwJmN",
        "outputId": "c0fdee12-8ef9-4be6-a024-9db3716e4bb9"
      },
      "source": [
        "!unzip 181.zip"
      ],
      "execution_count": null,
      "outputs": [
        {
          "output_type": "stream",
          "name": "stdout",
          "text": [
            "Archive:  181.zip\n",
            "  inflating: meta.json               \n",
            "  inflating: model.model             \n",
            "  inflating: model.model.vectors_ngrams.npy  \n",
            "  inflating: model.model.vectors.npy  \n",
            "  inflating: model.model.vectors_vocab.npy  \n",
            "  inflating: README                  \n"
          ]
        }
      ]
    },
    {
      "cell_type": "code",
      "metadata": {
        "id": "_AOJhw6ywUdu"
      },
      "source": [
        "import gensim\n",
        "\n",
        "model = gensim.models.KeyedVectors.load('model.model')"
      ],
      "execution_count": null,
      "outputs": []
    },
    {
      "cell_type": "code",
      "metadata": {
        "id": "JP03Yug3wYr3"
      },
      "source": [
        "vec = model.get_vector(\"сабака\")\n",
        "\n",
        "print(vec)\n"
      ],
      "execution_count": null,
      "outputs": []
    },
    {
      "cell_type": "code",
      "metadata": {
        "id": "Au2rcfHk4DRZ"
      },
      "source": [
        "def embed_fasttext(text):\n",
        "  res = []\n",
        "\n",
        "  tokens = tokenizer.tokenize(str(text).lower())\n",
        "\n",
        "  for token in tokens:\n",
        "      res.append(model.get_vector(token))\n",
        "\n",
        "  return np.mean(res, axis=0)"
      ],
      "execution_count": null,
      "outputs": []
    },
    {
      "cell_type": "code",
      "metadata": {
        "id": "wiMzS36e3yCX"
      },
      "source": [
        "embedded_data = [embed_fasttext(x) for x in dataset]"
      ],
      "execution_count": null,
      "outputs": []
    },
    {
      "cell_type": "code",
      "metadata": {
        "id": "Cu-BEtAw6VDB",
        "colab": {
          "base_uri": "https://localhost:8080/"
        },
        "outputId": "63d7f70a-45d6-4b5c-9b93-3743a3e8fbb5"
      },
      "source": [
        "query = embed_fasttext(\"Как бросто сдать икзамены?\")\n",
        "\n",
        "cosines = [cosine(x, query) for x in embedded_data]\n",
        "\n",
        "for i in np.argpartition(cosines, -10)[-10:]:\n",
        "  print(dataset[i])"
      ],
      "execution_count": null,
      "outputs": [
        {
          "output_type": "stream",
          "name": "stdout",
          "text": [
            "вы можете сдавать экзамены после окончания средней школы\n",
            "у меня есть лицензия на страхование жизни и здоровья в штате Ута, это означает, что я могу продать ее только в штате Юта или мне нужно сдать экзамен в каждом штате\n",
            "как взломать ipcc-экзамен\n",
            "как я могу сдать экзамен ccna с первого раза\n",
            "как мне взломать dse 2017 вступительный экзамен\n",
            "как мне взломать dse 2016 вступительный экзамен\n",
            "как вы можете сдать свой чек в любом банке\n",
            "что лучше делать после сдачи экзамена\n",
            "что лучше делать после сдачи экзамена\n",
            "вы пишете взять или сдавать экзамен?\n"
          ]
        }
      ]
    },
    {
      "cell_type": "code",
      "metadata": {
        "id": "1C5UjhvD4tLS"
      },
      "source": [],
      "execution_count": null,
      "outputs": []
    }
  ]
}